{
 "cells": [
  {
   "cell_type": "markdown",
   "metadata": {},
   "source": [
    "# Filtering data\n",
    "One of PyProBE's main strengths is to be able to filter data quickly and with natural language. This example shows the power of the filtering functions available."
   ]
  },
  {
   "cell_type": "markdown",
   "metadata": {},
   "source": [
    "Start by importing PyProBE and the dataset:"
   ]
  },
  {
   "cell_type": "code",
   "execution_count": 1,
   "metadata": {
    "execution": {
     "iopub.execute_input": "2024-08-02T09:42:41.557958Z",
     "iopub.status.busy": "2024-08-02T09:42:41.557511Z",
     "iopub.status.idle": "2024-08-02T09:42:41.696304Z",
     "shell.execute_reply": "2024-08-02T09:42:41.695660Z"
    }
   },
   "outputs": [
    {
     "ename": "ModuleNotFoundError",
     "evalue": "No module named 'pyprobe'",
     "output_type": "error",
     "traceback": [
      "\u001b[0;31m---------------------------------------------------------------------------\u001b[0m",
      "\u001b[0;31mModuleNotFoundError\u001b[0m                       Traceback (most recent call last)",
      "Cell \u001b[0;32mIn[1], line 1\u001b[0m\n\u001b[0;32m----> 1\u001b[0m \u001b[38;5;28;01mimport\u001b[39;00m \u001b[38;5;21;01mpyprobe\u001b[39;00m\n\u001b[1;32m      2\u001b[0m \u001b[38;5;28;01mimport\u001b[39;00m \u001b[38;5;21;01mnumpy\u001b[39;00m \u001b[38;5;28;01mas\u001b[39;00m \u001b[38;5;21;01mnp\u001b[39;00m\n\u001b[1;32m      3\u001b[0m info_dictionary \u001b[38;5;241m=\u001b[39m {\u001b[38;5;124m'\u001b[39m\u001b[38;5;124mName\u001b[39m\u001b[38;5;124m'\u001b[39m: \u001b[38;5;124m'\u001b[39m\u001b[38;5;124mSample cell\u001b[39m\u001b[38;5;124m'\u001b[39m,\n\u001b[1;32m      4\u001b[0m                    \u001b[38;5;124m'\u001b[39m\u001b[38;5;124mChemistry\u001b[39m\u001b[38;5;124m'\u001b[39m: \u001b[38;5;124m'\u001b[39m\u001b[38;5;124mNMC622\u001b[39m\u001b[38;5;124m'\u001b[39m,\n\u001b[1;32m      5\u001b[0m                    \u001b[38;5;124m'\u001b[39m\u001b[38;5;124mNominal Capacity [Ah]\u001b[39m\u001b[38;5;124m'\u001b[39m: \u001b[38;5;241m0.04\u001b[39m,\n\u001b[1;32m      6\u001b[0m                    \u001b[38;5;124m'\u001b[39m\u001b[38;5;124mCycler number\u001b[39m\u001b[38;5;124m'\u001b[39m: \u001b[38;5;241m1\u001b[39m,\n\u001b[1;32m      7\u001b[0m                    \u001b[38;5;124m'\u001b[39m\u001b[38;5;124mChannel number\u001b[39m\u001b[38;5;124m'\u001b[39m: \u001b[38;5;241m1\u001b[39m,}\n",
      "\u001b[0;31mModuleNotFoundError\u001b[0m: No module named 'pyprobe'"
     ]
    }
   ],
   "source": [
    "import pyprobe\n",
    "import numpy as np\n",
    "info_dictionary = {'Name': 'Sample cell',\n",
    "                   'Chemistry': 'NMC622',\n",
    "                   'Nominal Capacity [Ah]': 0.04,\n",
    "                   'Cycler number': 1,\n",
    "                   'Channel number': 1,}\n",
    "data_directory = '../../../tests/sample_data/neware'\n",
    "\n",
    "# Create a cell object\n",
    "cell = pyprobe.Cell(info=info_dictionary)\n",
    "cell.add_procedure(procedure_name='Sample',\n",
    "                   folder_path = data_directory,\n",
    "                   filename = 'sample_data_neware.parquet')"
   ]
  },
  {
   "cell_type": "markdown",
   "metadata": {},
   "source": [
    "Plot the entire dataset:"
   ]
  },
  {
   "cell_type": "code",
   "execution_count": 2,
   "metadata": {
    "execution": {
     "iopub.execute_input": "2024-08-02T09:42:41.698729Z",
     "iopub.status.busy": "2024-08-02T09:42:41.698532Z",
     "iopub.status.idle": "2024-08-02T09:42:41.710909Z",
     "shell.execute_reply": "2024-08-02T09:42:41.710329Z"
    }
   },
   "outputs": [
    {
     "ename": "NameError",
     "evalue": "name 'cell' is not defined",
     "output_type": "error",
     "traceback": [
      "\u001b[0;31m---------------------------------------------------------------------------\u001b[0m",
      "\u001b[0;31mNameError\u001b[0m                                 Traceback (most recent call last)",
      "Cell \u001b[0;32mIn[2], line 1\u001b[0m\n\u001b[0;32m----> 1\u001b[0m full_procedure \u001b[38;5;241m=\u001b[39m \u001b[43mcell\u001b[49m\u001b[38;5;241m.\u001b[39mprocedure[\u001b[38;5;124m'\u001b[39m\u001b[38;5;124mSample\u001b[39m\u001b[38;5;124m'\u001b[39m]\n\u001b[1;32m      2\u001b[0m fig \u001b[38;5;241m=\u001b[39m pyprobe\u001b[38;5;241m.\u001b[39mPlot()\n\u001b[1;32m      3\u001b[0m fig\u001b[38;5;241m.\u001b[39madd_line(full_procedure, \u001b[38;5;124m'\u001b[39m\u001b[38;5;124mTime [s]\u001b[39m\u001b[38;5;124m'\u001b[39m, \u001b[38;5;124m'\u001b[39m\u001b[38;5;124mVoltage [V]\u001b[39m\u001b[38;5;124m'\u001b[39m)\n",
      "\u001b[0;31mNameError\u001b[0m: name 'cell' is not defined"
     ]
    }
   ],
   "source": [
    "full_procedure = cell.procedure['Sample']\n",
    "fig = pyprobe.Plot()\n",
    "fig.add_line(full_procedure, 'Time [s]', 'Voltage [V]')\n",
    "fig.show()"
   ]
  },
  {
   "cell_type": "markdown",
   "metadata": {},
   "source": [
    "A `README.yaml` file is stored alongside this dataset, which appears like this:"
   ]
  },
  {
   "cell_type": "code",
   "execution_count": 3,
   "metadata": {
    "execution": {
     "iopub.execute_input": "2024-08-02T09:42:41.713072Z",
     "iopub.status.busy": "2024-08-02T09:42:41.712821Z",
     "iopub.status.idle": "2024-08-02T09:42:41.724027Z",
     "shell.execute_reply": "2024-08-02T09:42:41.723460Z"
    }
   },
   "outputs": [
    {
     "ename": "NameError",
     "evalue": "name 'data_directory' is not defined",
     "output_type": "error",
     "traceback": [
      "\u001b[0;31m---------------------------------------------------------------------------\u001b[0m",
      "\u001b[0;31mNameError\u001b[0m                                 Traceback (most recent call last)",
      "Cell \u001b[0;32mIn[3], line 1\u001b[0m\n\u001b[0;32m----> 1\u001b[0m \u001b[38;5;28;01mwith\u001b[39;00m \u001b[38;5;28mopen\u001b[39m(\u001b[43mdata_directory\u001b[49m\u001b[38;5;241m+\u001b[39m\u001b[38;5;124m'\u001b[39m\u001b[38;5;124m/README.yaml\u001b[39m\u001b[38;5;124m'\u001b[39m, \u001b[38;5;124m'\u001b[39m\u001b[38;5;124mr\u001b[39m\u001b[38;5;124m'\u001b[39m) \u001b[38;5;28;01mas\u001b[39;00m file:\n\u001b[1;32m      2\u001b[0m     readme \u001b[38;5;241m=\u001b[39m file\u001b[38;5;241m.\u001b[39mread()\n\u001b[1;32m      3\u001b[0m     \u001b[38;5;28mprint\u001b[39m(readme)\n",
      "\u001b[0;31mNameError\u001b[0m: name 'data_directory' is not defined"
     ]
    }
   ],
   "source": [
    "with open(data_directory+'/README.yaml', 'r') as file:\n",
    "    readme = file.read()\n",
    "    print(readme)"
   ]
  },
  {
   "cell_type": "markdown",
   "metadata": {},
   "source": [
    "Constructing the README file in this way allows three separate experiments to be separated out from the data:"
   ]
  },
  {
   "cell_type": "code",
   "execution_count": 4,
   "metadata": {
    "execution": {
     "iopub.execute_input": "2024-08-02T09:42:41.726349Z",
     "iopub.status.busy": "2024-08-02T09:42:41.725940Z",
     "iopub.status.idle": "2024-08-02T09:42:41.739376Z",
     "shell.execute_reply": "2024-08-02T09:42:41.738747Z"
    }
   },
   "outputs": [
    {
     "ename": "NameError",
     "evalue": "name 'full_procedure' is not defined",
     "output_type": "error",
     "traceback": [
      "\u001b[0;31m---------------------------------------------------------------------------\u001b[0m",
      "\u001b[0;31mNameError\u001b[0m                                 Traceback (most recent call last)",
      "Cell \u001b[0;32mIn[4], line 1\u001b[0m\n\u001b[0;32m----> 1\u001b[0m initial_charge \u001b[38;5;241m=\u001b[39m \u001b[43mfull_procedure\u001b[49m\u001b[38;5;241m.\u001b[39mexperiment(\u001b[38;5;124m\"\u001b[39m\u001b[38;5;124mInitial Charge\u001b[39m\u001b[38;5;124m\"\u001b[39m)\n\u001b[1;32m      2\u001b[0m break_in \u001b[38;5;241m=\u001b[39m full_procedure\u001b[38;5;241m.\u001b[39mexperiment(\u001b[38;5;124m\"\u001b[39m\u001b[38;5;124mBreak-in Cycles\u001b[39m\u001b[38;5;124m\"\u001b[39m)\n\u001b[1;32m      3\u001b[0m pulses \u001b[38;5;241m=\u001b[39m full_procedure\u001b[38;5;241m.\u001b[39mexperiment(\u001b[38;5;124m\"\u001b[39m\u001b[38;5;124mDischarge Pulses\u001b[39m\u001b[38;5;124m\"\u001b[39m)\n",
      "\u001b[0;31mNameError\u001b[0m: name 'full_procedure' is not defined"
     ]
    }
   ],
   "source": [
    "initial_charge = full_procedure.experiment(\"Initial Charge\")\n",
    "break_in = full_procedure.experiment(\"Break-in Cycles\")\n",
    "pulses = full_procedure.experiment(\"Discharge Pulses\")\n",
    "\n",
    "fig = pyprobe.Plot()\n",
    "fig.add_line(initial_charge, 'Procedure Time [s]', 'Voltage [V]', color = 'red', label='Initial Charge')\n",
    "fig.add_line(break_in, 'Procedure Time [s]', 'Voltage [V]', color = 'blue', label='Break-in Cycles')\n",
    "fig.add_line(pulses, 'Procedure Time [s]', 'Voltage [V]', color='purple', label='Discharge Pulses')\n",
    "fig.show()"
   ]
  },
  {
   "cell_type": "markdown",
   "metadata": {},
   "source": [
    "Selecting the Break-in Cycles experiment, we can filter further:"
   ]
  },
  {
   "cell_type": "code",
   "execution_count": 5,
   "metadata": {
    "execution": {
     "iopub.execute_input": "2024-08-02T09:42:41.741489Z",
     "iopub.status.busy": "2024-08-02T09:42:41.741223Z",
     "iopub.status.idle": "2024-08-02T09:42:41.753995Z",
     "shell.execute_reply": "2024-08-02T09:42:41.753426Z"
    }
   },
   "outputs": [
    {
     "ename": "NameError",
     "evalue": "name 'break_in' is not defined",
     "output_type": "error",
     "traceback": [
      "\u001b[0;31m---------------------------------------------------------------------------\u001b[0m",
      "\u001b[0;31mNameError\u001b[0m                                 Traceback (most recent call last)",
      "Cell \u001b[0;32mIn[5], line 1\u001b[0m\n\u001b[0;32m----> 1\u001b[0m cycle_3 \u001b[38;5;241m=\u001b[39m \u001b[43mbreak_in\u001b[49m\u001b[38;5;241m.\u001b[39mcycle(\u001b[38;5;241m2\u001b[39m) \u001b[38;5;66;03m# python zero-indexing means we use index 2 to retrieve the third cycle\u001b[39;00m\n\u001b[1;32m      3\u001b[0m fig \u001b[38;5;241m=\u001b[39m pyprobe\u001b[38;5;241m.\u001b[39mPlot()\n\u001b[1;32m      4\u001b[0m fig\u001b[38;5;241m.\u001b[39madd_line(break_in, \u001b[38;5;124m'\u001b[39m\u001b[38;5;124mExperiment Time [s]\u001b[39m\u001b[38;5;124m'\u001b[39m, \u001b[38;5;124m'\u001b[39m\u001b[38;5;124mVoltage [V]\u001b[39m\u001b[38;5;124m'\u001b[39m, color \u001b[38;5;241m=\u001b[39m \u001b[38;5;124m'\u001b[39m\u001b[38;5;124mblue\u001b[39m\u001b[38;5;124m'\u001b[39m, label\u001b[38;5;241m=\u001b[39m\u001b[38;5;124m'\u001b[39m\u001b[38;5;124mBreak-in Cycles\u001b[39m\u001b[38;5;124m'\u001b[39m)\n",
      "\u001b[0;31mNameError\u001b[0m: name 'break_in' is not defined"
     ]
    }
   ],
   "source": [
    "cycle_3 = break_in.cycle(2) # python zero-indexing means we use index 2 to retrieve the third cycle\n",
    "\n",
    "fig = pyprobe.Plot()\n",
    "fig.add_line(break_in, 'Experiment Time [s]', 'Voltage [V]', color = 'blue', label='Break-in Cycles')\n",
    "fig.add_line(cycle_3, 'Experiment Time [s]', 'Voltage [V]', color='red', label='Cycle 3')\n",
    "fig.show()\n"
   ]
  },
  {
   "cell_type": "markdown",
   "metadata": {},
   "source": [
    "We can break this down further into charge, discharge and rest sections:"
   ]
  },
  {
   "cell_type": "code",
   "execution_count": 6,
   "metadata": {
    "execution": {
     "iopub.execute_input": "2024-08-02T09:42:41.756108Z",
     "iopub.status.busy": "2024-08-02T09:42:41.755940Z",
     "iopub.status.idle": "2024-08-02T09:42:41.769209Z",
     "shell.execute_reply": "2024-08-02T09:42:41.768656Z"
    }
   },
   "outputs": [
    {
     "ename": "NameError",
     "evalue": "name 'cycle_3' is not defined",
     "output_type": "error",
     "traceback": [
      "\u001b[0;31m---------------------------------------------------------------------------\u001b[0m",
      "\u001b[0;31mNameError\u001b[0m                                 Traceback (most recent call last)",
      "Cell \u001b[0;32mIn[6], line 1\u001b[0m\n\u001b[0;32m----> 1\u001b[0m discharge \u001b[38;5;241m=\u001b[39m \u001b[43mcycle_3\u001b[49m\u001b[38;5;241m.\u001b[39mdischarge()\n\u001b[1;32m      2\u001b[0m rest_0 \u001b[38;5;241m=\u001b[39m cycle_3\u001b[38;5;241m.\u001b[39mrest(\u001b[38;5;241m0\u001b[39m)\n\u001b[1;32m      3\u001b[0m charge \u001b[38;5;241m=\u001b[39m cycle_3\u001b[38;5;241m.\u001b[39mcharge()\n",
      "\u001b[0;31mNameError\u001b[0m: name 'cycle_3' is not defined"
     ]
    }
   ],
   "source": [
    "discharge = cycle_3.discharge()\n",
    "rest_0 = cycle_3.rest(0)\n",
    "charge = cycle_3.charge()\n",
    "rest_1 = cycle_3.rest(1)\n",
    "\n",
    "fig = pyprobe.Plot()\n",
    "fig.add_line(discharge, 'Experiment Time [s]', 'Voltage [V]', color = 'blue', label='Discharge')\n",
    "fig.add_line(rest_0, 'Experiment Time [s]', 'Voltage [V]', color='red', label='Rest 0')\n",
    "fig.add_line(charge, 'Experiment Time [s]', 'Voltage [V]', color='purple', label='Charge')\n",
    "fig.add_line(rest_1, 'Experiment Time [s]', 'Voltage [V]', color='green', label='Rest 1')\n",
    "fig.show()"
   ]
  },
  {
   "cell_type": "markdown",
   "metadata": {},
   "source": [
    "Some cyclers will split constant voltage and constant current instructions into two separate steps. That is not the case for the cycler used for this dataset, but we can still extract them with PyProBE filtering:"
   ]
  },
  {
   "cell_type": "code",
   "execution_count": 7,
   "metadata": {
    "execution": {
     "iopub.execute_input": "2024-08-02T09:42:41.771360Z",
     "iopub.status.busy": "2024-08-02T09:42:41.771191Z",
     "iopub.status.idle": "2024-08-02T09:42:41.784610Z",
     "shell.execute_reply": "2024-08-02T09:42:41.784043Z"
    }
   },
   "outputs": [
    {
     "ename": "NameError",
     "evalue": "name 'discharge' is not defined",
     "output_type": "error",
     "traceback": [
      "\u001b[0;31m---------------------------------------------------------------------------\u001b[0m",
      "\u001b[0;31mNameError\u001b[0m                                 Traceback (most recent call last)",
      "Cell \u001b[0;32mIn[7], line 1\u001b[0m\n\u001b[0;32m----> 1\u001b[0m CC_discharge \u001b[38;5;241m=\u001b[39m \u001b[43mdischarge\u001b[49m\u001b[38;5;241m.\u001b[39mconstant_current(\u001b[38;5;241m0\u001b[39m)\n\u001b[1;32m      2\u001b[0m CC_charge  \u001b[38;5;241m=\u001b[39m charge\u001b[38;5;241m.\u001b[39mconstant_current(\u001b[38;5;241m0\u001b[39m)\n\u001b[1;32m      3\u001b[0m CV_hold \u001b[38;5;241m=\u001b[39m cycle_3\u001b[38;5;241m.\u001b[39mconstant_voltage(\u001b[38;5;241m0\u001b[39m)\n",
      "\u001b[0;31mNameError\u001b[0m: name 'discharge' is not defined"
     ]
    }
   ],
   "source": [
    "CC_discharge = discharge.constant_current(0)\n",
    "CC_charge  = charge.constant_current(0)\n",
    "CV_hold = cycle_3.constant_voltage(0)\n",
    "\n",
    "fig = pyprobe.Plot()\n",
    "fig.add_line(cycle_3, 'Experiment Time [s]', 'Current [A]', color = 'blue', label='Rests')\n",
    "fig.add_line(CC_discharge, 'Experiment Time [s]', 'Current [A]', color='green', label='CC Discharge')\n",
    "fig.add_line(CC_charge, 'Experiment Time [s]', 'Current [A]', color='red', label='CC Charge')\n",
    "fig.add_line(CV_hold, 'Experiment Time [s]', 'Current [A]', color='purple', label='CV Hold')\n",
    "fig.show()"
   ]
  }
 ],
 "metadata": {
  "kernelspec": {
   "display_name": "pyprobe-dev",
   "language": "python",
   "name": "python3"
  },
  "language_info": {
   "codemirror_mode": {
    "name": "ipython",
    "version": 3
   },
   "file_extension": ".py",
   "mimetype": "text/x-python",
   "name": "python",
   "nbconvert_exporter": "python",
   "pygments_lexer": "ipython3",
   "version": "3.11.9"
  }
 },
 "nbformat": 4,
 "nbformat_minor": 2
}
