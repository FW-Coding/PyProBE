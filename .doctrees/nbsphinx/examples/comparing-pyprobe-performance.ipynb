{
 "cells": [
  {
   "cell_type": "markdown",
   "metadata": {},
   "source": [
    "# Comparing PyProBE Performance\n",
    "\n",
    "This example will demonstrate the performance benefits of PyProBE against Pandas, a popular library for dataframes."
   ]
  },
  {
   "cell_type": "code",
   "execution_count": 1,
   "metadata": {
    "execution": {
     "iopub.execute_input": "2024-08-02T16:31:29.726399Z",
     "iopub.status.busy": "2024-08-02T16:31:29.725947Z",
     "iopub.status.idle": "2024-08-02T16:31:31.320296Z",
     "shell.execute_reply": "2024-08-02T16:31:31.319630Z"
    }
   },
   "outputs": [],
   "source": [
    "import pyprobe\n",
    "import pandas as pd\n",
    "import timeit\n",
    "import numpy as np\n",
    "import matplotlib.pyplot as plt"
   ]
  },
  {
   "cell_type": "markdown",
   "metadata": {},
   "source": [
    "Setting up data analysis in PyProBE requires conversion into the PyProBE format. This is normally the most time-intensive process, but only needs to be performed once."
   ]
  },
  {
   "cell_type": "code",
   "execution_count": 2,
   "metadata": {
    "execution": {
     "iopub.execute_input": "2024-08-02T16:31:31.323340Z",
     "iopub.status.busy": "2024-08-02T16:31:31.322778Z",
     "iopub.status.idle": "2024-08-02T16:31:31.330357Z",
     "shell.execute_reply": "2024-08-02T16:31:31.329763Z"
    }
   },
   "outputs": [],
   "source": [
    "info_dictionary = {'Name': 'Sample cell',\n",
    "                   'Chemistry': 'NMC622',\n",
    "                   'Nominal Capacity [Ah]': 0.04,\n",
    "                   'Cycler number': 1,\n",
    "                   'Channel number': 1,}\n",
    "\n",
    "cell = pyprobe.Cell(info =info_dictionary)\n",
    "data_directory = '../../../tests/sample_data/neware'\n",
    "# cell.process_cycler_file(cycler='neware',\n",
    "#                         folder_path=data_directory,\n",
    "#                         input_filename='sample_data_neware.xlsx',\n",
    "#                         output_filename='sample_data_neware.parquet')"
   ]
  },
  {
   "cell_type": "markdown",
   "metadata": {},
   "source": [
    "We will measure the time for PyProBE and Pandas to read from a parquet file and filter the data a few times. With PyProBE we can call the built-in filtering methods, whereas Pandas must perform the filtering manually."
   ]
  },
  {
   "cell_type": "code",
   "execution_count": 3,
   "metadata": {
    "execution": {
     "iopub.execute_input": "2024-08-02T16:31:31.332516Z",
     "iopub.status.busy": "2024-08-02T16:31:31.332338Z",
     "iopub.status.idle": "2024-08-02T16:31:31.341593Z",
     "shell.execute_reply": "2024-08-02T16:31:31.340968Z"
    }
   },
   "outputs": [],
   "source": [
    "def measure_pyprobe(repeats, file):\n",
    "    steps = 5\n",
    "    cumulative_time = np.zeros((steps,repeats))\n",
    "    for repeat in range(repeats):\n",
    "        start_time = timeit.default_timer()\n",
    "        cell.add_procedure(procedure_name='Sample',\n",
    "                   folder_path = data_directory,\n",
    "                   filename = file)\n",
    "        cumulative_time[0, repeat] = timeit.default_timer() - start_time\n",
    "        \n",
    "        experiment = cell.procedure['Sample'].experiment('Break-in Cycles')\n",
    "        cumulative_time[1, repeat] =timeit.default_timer() - start_time\n",
    "        \n",
    "        cycle = experiment.cycle(1)\n",
    "        cumulative_time[2, repeat] =timeit.default_timer() - start_time\n",
    "        \n",
    "        step = cycle.discharge(0)\n",
    "        cumulative_time[3, repeat] = timeit.default_timer() - start_time\n",
    "\n",
    "        voltage = step.get(\"Voltage [V]\")\n",
    "        cumulative_time[4, repeat] = timeit.default_timer() - start_time\n",
    "    \n",
    "    return cumulative_time, voltage\n",
    "\n",
    "\n",
    "def measure_pandas(repeats, file):\n",
    "    steps = 5\n",
    "    cumulative_time = np.zeros((steps,repeats))\n",
    "    for repeat in range(repeats):\n",
    "        start_time = timeit.default_timer()\n",
    "        df = pd.read_parquet(data_directory + '/' + file)\n",
    "        cumulative_time[0, repeat] = timeit.default_timer() - start_time\n",
    "\n",
    "        experiment = df[df['Step'].isin([4, 5, 6, 7])]\n",
    "        cumulative_time[1, repeat] = timeit.default_timer() - start_time\n",
    "\n",
    "        unique_cycles = experiment['Cycle'].unique()\n",
    "        \n",
    "        cycle = experiment[experiment['Cycle'] == unique_cycles[1]]\n",
    "        cumulative_time[2, repeat] =timeit.default_timer() - start_time\n",
    "        \n",
    "        step = cycle[cycle['Current [A]'] < 0]\n",
    "        unique_events = step['Event'].unique()\n",
    "        step = step[step['Event'] == unique_events[0]]\n",
    "        cumulative_time[3, repeat] =timeit.default_timer() - start_time\n",
    "\n",
    "        voltage = step['Voltage [V]'].values\n",
    "        cumulative_time[4, repeat] = timeit.default_timer() - start_time\n",
    "    \n",
    "    return cumulative_time, voltage\n",
    "\n",
    "def make_boxplots(total_time_polars, total_time_pandas):\n",
    "    data_polars = [total_time_polars[i, :] for i in range(total_time_polars.shape[0])]\n",
    "    data_pandas = [total_time_pandas[i, :] for i in range(total_time_pandas.shape[0])]\n",
    "\n",
    "    # Create labels for the boxplots\n",
    "    labels = [\"Read file\", \"Select experiment\", \"Select cycle\", \"Select step\", \"Select voltage\"]\n",
    "    # Create the subplots\n",
    "    fig, (ax1, ax2) = plt.subplots(1, 2, figsize=(14, 6), sharey=True)\n",
    "\n",
    "    # Boxplot for Polars\n",
    "    ax1.boxplot(data_polars, labels=labels, vert=True, patch_artist=True)\n",
    "    ax1.set_title('PyProBE Execution Time')\n",
    "    ax1.set_ylabel('Time (seconds)')\n",
    "\n",
    "    # Boxplot for Pandas\n",
    "    ax2.boxplot(data_pandas, labels=labels, vert=True, patch_artist=True)\n",
    "    ax2.set_title('Pandas Execution Time')\n",
    "    ax2.yaxis.set_visible(False)  # Remove y-axis on the right-hand subplot\n",
    "\n",
    "    # Adjust layout\n",
    "    plt.tight_layout()\n",
    "    plt.show()\n"
   ]
  },
  {
   "cell_type": "markdown",
   "metadata": {},
   "source": [
    "Running the tests shows the initial overhead for PyProBE to read and filter the data is zero. This is because of the Lazy implementation where all the computation is delayed until the final request for data is made. Overall, it is faster than Pandas as the polars backend is able to optimize the filtering process, instead of requiring filters to be performed one-by-one."
   ]
  },
  {
   "cell_type": "code",
   "execution_count": 4,
   "metadata": {
    "execution": {
     "iopub.execute_input": "2024-08-02T16:31:31.343926Z",
     "iopub.status.busy": "2024-08-02T16:31:31.343485Z",
     "iopub.status.idle": "2024-08-02T16:31:32.458810Z",
     "shell.execute_reply": "2024-08-02T16:31:32.458207Z"
    }
   },
   "outputs": [],
   "source": [
    "repeats = 10\n",
    "total_time_polars, voltage_pyprobe = measure_pyprobe(repeats, 'sample_data_neware.parquet')\n",
    "total_time_pandas, voltage_pandas = measure_pandas(repeats, 'sample_data_neware.parquet')\n",
    "make_boxplots(total_time_polars, total_time_pandas)\n",
    "assert np.allclose(voltage_pyprobe, voltage_pandas)"
   ]
  },
  {
   "cell_type": "markdown",
   "metadata": {},
   "source": [
    "We will now extend the input data, to demonstrate how much more scalable the Polars approach is."
   ]
  },
  {
   "cell_type": "code",
   "execution_count": 5,
   "metadata": {
    "execution": {
     "iopub.execute_input": "2024-08-02T16:31:32.461980Z",
     "iopub.status.busy": "2024-08-02T16:31:32.461656Z",
     "iopub.status.idle": "2024-08-02T16:31:36.445052Z",
     "shell.execute_reply": "2024-08-02T16:31:36.444342Z"
    }
   },
   "outputs": [
    {
     "name": "stdout",
     "output_type": "stream",
     "text": [
      "789589\n",
      "19739725\n"
     ]
    }
   ],
   "source": [
    "df = pd.read_parquet(data_directory + '/sample_data_neware.parquet')\n",
    "extended_df = pd.concat([df] * 25, ignore_index=True)\n",
    "extended_df.to_parquet(data_directory + '/sample_data_neware_extended.parquet')\n",
    "print(len(df))\n",
    "print(len(extended_df))"
   ]
  },
  {
   "cell_type": "markdown",
   "metadata": {},
   "source": [
    "With 25x more data points, the PyProBE implementation is almost 3x faster than manual filtering in Pandas."
   ]
  },
  {
   "cell_type": "code",
   "execution_count": 6,
   "metadata": {
    "execution": {
     "iopub.execute_input": "2024-08-02T16:31:36.447473Z",
     "iopub.status.busy": "2024-08-02T16:31:36.447091Z",
     "iopub.status.idle": "2024-08-02T16:32:14.263541Z",
     "shell.execute_reply": "2024-08-02T16:32:14.226047Z"
    }
   },
   "outputs": [],
   "source": [
    "total_time_polars, _ = measure_pyprobe(repeats, 'sample_data_neware_extended.parquet')\n",
    "total_time_pandas, _ = measure_pandas(repeats, 'sample_data_neware_extended.parquet')\n",
    "make_boxplots(total_time_polars, total_time_pandas)"
   ]
  },
  {
   "cell_type": "markdown",
   "metadata": {},
   "source": [
    "The Polars Lazy approach is best demonstrated by plotting the optimized graph:"
   ]
  },
  {
   "cell_type": "code",
   "execution_count": 7,
   "metadata": {
    "execution": {
     "iopub.execute_input": "2024-08-02T16:32:14.470513Z",
     "iopub.status.busy": "2024-08-02T16:32:14.467601Z",
     "iopub.status.idle": "2024-08-02T16:32:14.655875Z",
     "shell.execute_reply": "2024-08-02T16:32:14.654749Z"
    }
   },
   "outputs": [
    {
     "name": "stdout",
     "output_type": "stream",
     "text": [
      "                                0                                               1                                    2                                3                                            4                                               5                                    6                                         7                                               8                                     9                                          10                                              11                                                                12\n",
      "    ┌─────────────────────────────────────────────────────────────────────────────────────────────────────────────────────────────────────────────────────────────────────────────────────────────────────────────────────────────────────────────────────────────────────────────────────────────────────────────────────────────────────────────────────────────────────────────────────────────────────────────────────────────────────────────────────────────────────────────────────────────────────────────────────────────────────────────────────────────────────────────────────────────────────────────────────────────\n",
      "    │\n",
      "    │                    ╭──────────────╮\n",
      "  0 │                    │ WITH_COLUMNS │\n",
      "    │                    ╰──────┬┬──────╯\n",
      "    │                           ││\n",
      "    │                           │╰──────────────────────────────────────────────╮\n",
      "    │                           │                                               │\n",
      "    │  ╭────────────────────────┴────────────────────────╮                      │\n",
      "    │  │ expression:                                     │                      │\n",
      "    │  │ [(col(\"Capacity [Ah]\")) - (col(\"Capacity [Ah]\") │               ╭──────┴───────╮\n",
      "  1 │  │   .first())]                                    │               │ WITH_COLUMNS │\n",
      "    │  │   .alias(\"Step Capacity [Ah]\")                  │               ╰──────┬┬──────╯\n",
      "    │  ╰─────────────────────────────────────────────────╯                      ││\n",
      "    │                                                                           ││\n",
      "    │                                                                           │╰───────────────────────────────────╮\n",
      "    │                                                                           │                                    │\n",
      "    │                                                       ╭───────────────────┴───────────────────╮                │\n",
      "    │                                                       │ expression:                           │                │\n",
      "    │                                                       │ [(col(\"Time [s]\")) - (col(\"Time [s]\") │            ╭───┴────╮\n",
      "  2 │                                                       │   .first())]                          │            │ FILTER │\n",
      "    │                                                       │   .alias(\"Step Time [s]\")             │            ╰───┬┬───╯\n",
      "    │                                                       ╰───────────────────────────────────────╯                ││\n",
      "    │                                                                                                                ││\n",
      "    │                                                                                                                │╰───────────────────────────────╮\n",
      "    │                                                                                                                │                                │\n",
      "    │                                                                                                  ╭─────────────┴─────────────╮              ╭───┴────╮\n",
      "    │                                                                                                  │ predicate:                │              │ FROM:  │\n",
      "  3 │                                                                                                  │ col(\"Event\")              │              │ FILTER │\n",
      "    │                                                                                                  │   .rank().is_in([Series]) │              ╰───┬┬───╯\n",
      "    │                                                                                                  ╰───────────────────────────╯                  ││\n",
      "    │                                                                                                                                                 ││\n",
      "    │                                                                                                                                                 │╰───────────────────────────────────────────╮\n",
      "    │                                                                                                                                                 │                                            │\n",
      "    │                                                                                                                                 ╭───────────────┴────────────────╮                    ╭──────┴───────╮\n",
      "    │                                                                                                                                 │ predicate:                     │                    │ FROM:        │\n",
      "  4 │                                                                                                                                 │ [(col(\"Current [A]\")) < (0.0)] │                    │ WITH_COLUMNS │\n",
      "    │                                                                                                                                 ╰────────────────────────────────╯                    ╰──────┬┬──────╯\n",
      "    │                                                                                                                                                                                              ││\n",
      "    │                                                                                                                                                                                              │╰──────────────────────────────────────────────╮\n",
      "    │                                                                                                                                                                                              │                                               │\n",
      "    │                                                                                                                                                                     ╭────────────────────────┴────────────────────────╮                      │\n",
      "    │                                                                                                                                                                     │ expression:                                     │                      │\n",
      "    │                                                                                                                                                                     │ [(col(\"Capacity [Ah]\")) - (col(\"Capacity [Ah]\") │               ╭──────┴───────╮\n",
      "  5 │                                                                                                                                                                     │   .first())]                                    │               │ WITH_COLUMNS │\n",
      "    │                                                                                                                                                                     │   .alias(\"Cycle Capacity [Ah]\")                 │               ╰──────┬┬──────╯\n",
      "    │                                                                                                                                                                     ╰─────────────────────────────────────────────────╯                      ││\n",
      "    │                                                                                                                                                                                                                                              ││\n",
      "    │                                                                                                                                                                                                                                              │╰───────────────────────────────────╮\n",
      "    │                                                                                                                                                                                                                                              │                                    │\n",
      "    │                                                                                                                                                                                                                          ╭───────────────────┴───────────────────╮                │\n",
      "    │                                                                                                                                                                                                                          │ expression:                           │                │\n",
      "    │                                                                                                                                                                                                                          │ [(col(\"Time [s]\")) - (col(\"Time [s]\") │            ╭───┴────╮\n",
      "  6 │                                                                                                                                                                                                                          │   .first())]                          │            │ FILTER │\n",
      "    │                                                                                                                                                                                                                          │   .alias(\"Cycle Time [s]\")            │            ╰───┬┬───╯\n",
      "    │                                                                                                                                                                                                                          ╰───────────────────────────────────────╯                ││\n",
      "    │                                                                                                                                                                                                                                                                                   ││\n",
      "    │                                                                                                                                                                                                                                                                                   │╰────────────────────────────────────────╮\n",
      "    │                                                                                                                                                                                                                                                                                   │                                         │\n",
      "    │                                                                                                                                                                                                                                                                     ╭─────────────┴─────────────╮                    ╭──────┴───────╮\n",
      "    │                                                                                                                                                                                                                                                                     │ predicate:                │                    │ FROM:        │\n",
      "  7 │                                                                                                                                                                                                                                                                     │ col(\"Cycle\")              │                    │ WITH_COLUMNS │\n",
      "    │                                                                                                                                                                                                                                                                     │   .rank().is_in([Series]) │                    ╰──────┬┬──────╯\n",
      "    │                                                                                                                                                                                                                                                                     ╰───────────────────────────╯                           ││\n",
      "    │                                                                                                                                                                                                                                                                                                                             ││\n",
      "    │                                                                                                                                                                                                                                                                                                                             │╰──────────────────────────────────────────────╮\n",
      "    │                                                                                                                                                                                                                                                                                                                             │                                               │\n",
      "    │                                                                                                                                                                                                                                                                                                    ╭────────────────────────┴────────────────────────╮                      │\n",
      "    │                                                                                                                                                                                                                                                                                                    │ expression:                                     │                      │\n",
      "    │                                                                                                                                                                                                                                                                                                    │ [(col(\"Capacity [Ah]\")) - (col(\"Capacity [Ah]\") │               ╭──────┴───────╮\n",
      "  8 │                                                                                                                                                                                                                                                                                                    │   .first())]                                    │               │ WITH_COLUMNS │\n",
      "    │                                                                                                                                                                                                                                                                                                    │   .alias(\"Experiment Capacity [Ah]\")            │               ╰──────┬┬──────╯\n",
      "    │                                                                                                                                                                                                                                                                                                    ╰─────────────────────────────────────────────────╯                      ││\n",
      "    │                                                                                                                                                                                                                                                                                                                                                                             ││\n",
      "    │                                                                                                                                                                                                                                                                                                                                                                             │╰────────────────────────────────────╮\n",
      "    │                                                                                                                                                                                                                                                                                                                                                                             │                                     │\n",
      "    │                                                                                                                                                                                                                                                                                                                                                         ╭───────────────────┴───────────────────╮                 │\n",
      "    │                                                                                                                                                                                                                                                                                                                                                         │ expression:                           │                 │\n",
      "    │                                                                                                                                                                                                                                                                                                                                                         │ [(col(\"Time [s]\")) - (col(\"Time [s]\") │             ╭───┴────╮\n",
      "  9 │                                                                                                                                                                                                                                                                                                                                                         │   .first())]                          │             │ FILTER │\n",
      "    │                                                                                                                                                                                                                                                                                                                                                         │   .alias(\"Experiment Time [s]\")       │             ╰───┬┬───╯\n",
      "    │                                                                                                                                                                                                                                                                                                                                                         ╰───────────────────────────────────────╯                 ││\n",
      "    │                                                                                                                                                                                                                                                                                                                                                                                                                   ││\n",
      "    │                                                                                                                                                                                                                                                                                                                                                                                                                   │╰─────────────────────────────────────────╮\n",
      "    │                                                                                                                                                                                                                                                                                                                                                                                                                   │                                          │\n",
      "    │                                                                                                                                                                                                                                                                                                                                                                                                    ╭──────────────┴──────────────╮                    ╭──────┴───────╮\n",
      "    │                                                                                                                                                                                                                                                                                                                                                                                                    │ predicate:                  │                    │ FROM:        │\n",
      " 10 │                                                                                                                                                                                                                                                                                                                                                                                                    │ col(\"Step\").is_in([Series]) │                    │ WITH_COLUMNS │\n",
      "    │                                                                                                                                                                                                                                                                                                                                                                                                    ╰─────────────────────────────╯                    ╰──────┬┬──────╯\n",
      "    │                                                                                                                                                                                                                                                                                                                                                                                                                                                              ││\n",
      "    │                                                                                                                                                                                                                                                                                                                                                                                                                                                              │╰──────────────────────────────────────────────╮\n",
      "    │                                                                                                                                                                                                                                                                                                                                                                                                                                                              │                                               │\n",
      "    │                                                                                                                                                                                                                                                                                                                                                                                                                                     ╭────────────────────────┴────────────────────────╮                      │\n",
      "    │                                                                                                                                                                                                                                                                                                                                                                                                                                     │ expression:                                     │                      │\n",
      "    │                                                                                                                                                                                                                                                                                                                                                                                                                                     │ [(col(\"Capacity [Ah]\")) - (col(\"Capacity [Ah]\") │               ╭──────┴───────╮\n",
      " 11 │                                                                                                                                                                                                                                                                                                                                                                                                                                     │   .first())]                                    │               │ WITH_COLUMNS │\n",
      "    │                                                                                                                                                                                                                                                                                                                                                                                                                                     │   .alias(\"Procedure Capacity [Ah]\")             │               ╰──────┬┬──────╯\n",
      "    │                                                                                                                                                                                                                                                                                                                                                                                                                                     ╰─────────────────────────────────────────────────╯                      ││\n",
      "    │                                                                                                                                                                                                                                                                                                                                                                                                                                                                                                              ││\n",
      "    │                                                                                                                                                                                                                                                                                                                                                                                                                                                                                                              │╰────────────────────────────────────────────────────────────────╮\n",
      "    │                                                                                                                                                                                                                                                                                                                                                                                                                                                                                                              │                                                                 │\n",
      "    │                                                                                                                                                                                                                                                                                                                                                                                                                                                                                          ╭───────────────────┴───────────────────╮                                             │\n",
      "    │                                                                                                                                                                                                                                                                                                                                                                                                                                                                                          │ expression:                           │  ╭──────────────────────────────────────────┴───────────────────────────────────────────╮\n",
      "    │                                                                                                                                                                                                                                                                                                                                                                                                                                                                                          │ [(col(\"Time [s]\")) - (col(\"Time [s]\") │  │                                                                                      │\n",
      " 12 │                                                                                                                                                                                                                                                                                                                                                                                                                                                                                          │   .first())]                          │  │   Parquet SCAN ../../../tests/sample_data/neware/sample_data_neware_extended.parquet │\n",
      "    │                                                                                                                                                                                                                                                                                                                                                                                                                                                                                          │   .alias(\"Procedure Time [s]\")        │  │   PROJECT */8 COLUMNS                                                                │\n",
      "    │                                                                                                                                                                                                                                                                                                                                                                                                                                                                                          ╰───────────────────────────────────────╯  ╰──────────────────────────────────────────────────────────────────────────────────────╯\n",
      "\n"
     ]
    }
   ],
   "source": [
    "lazyframe = cell.procedure['Sample'].experiment('Break-in Cycles').cycle(1).discharge(0).base_dataframe\n",
    "print(lazyframe.explain(tree_format=True))"
   ]
  }
 ],
 "metadata": {
  "kernelspec": {
   "display_name": "pyprobe-dev",
   "language": "python",
   "name": "python3"
  },
  "language_info": {
   "codemirror_mode": {
    "name": "ipython",
    "version": 3
   },
   "file_extension": ".py",
   "mimetype": "text/x-python",
   "name": "python",
   "nbconvert_exporter": "python",
   "pygments_lexer": "ipython3",
   "version": "3.11.9"
  }
 },
 "nbformat": 4,
 "nbformat_minor": 2
}
