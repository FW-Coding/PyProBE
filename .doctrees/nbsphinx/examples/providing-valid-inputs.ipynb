{
 "cells": [
  {
   "cell_type": "markdown",
   "metadata": {},
   "source": [
    "<!-- .. _providing_valid_inputs: -->\n",
    "# Providing Valid Inputs\n",
    "\n",
    "PyProbe uses Pydantic for input validation. This exists to ensure that the data provided\n",
    "is in the correct format to prevent unexpected errors. Most of the time, this will \n",
    "happen behind-the-scenes, so you will only notice it if there is a problem. This \n",
    "example is written to demonstrate how these errors may come about."
   ]
  },
  {
   "cell_type": "markdown",
   "metadata": {},
   "source": [
    "\n",
    "## RawData Validation\n",
    "The RawData class is a specific variant of the Result object which only stores data\n",
    "in the standard PyProBE format. Therefore, validation is performed when a RawData object\n",
    "is created to verify this. \n",
    "\n",
    "If you follow the standard method for importing data into PyProBE, you should never\n",
    "experience these errors, however it is helpful to know that they exist.\n",
    "\n",
    "We will start with a normal dataset, printing the type that the procedure data is stored \n",
    "in:"
   ]
  },
  {
   "cell_type": "code",
   "execution_count": 1,
   "metadata": {
    "execution": {
     "iopub.execute_input": "2024-08-02T09:42:47.293697Z",
     "iopub.status.busy": "2024-08-02T09:42:47.293091Z",
     "iopub.status.idle": "2024-08-02T09:42:47.433387Z",
     "shell.execute_reply": "2024-08-02T09:42:47.432797Z"
    }
   },
   "outputs": [
    {
     "ename": "ModuleNotFoundError",
     "evalue": "No module named 'pyprobe'",
     "output_type": "error",
     "traceback": [
      "\u001b[0;31m---------------------------------------------------------------------------\u001b[0m",
      "\u001b[0;31mModuleNotFoundError\u001b[0m                       Traceback (most recent call last)",
      "Cell \u001b[0;32mIn[1], line 1\u001b[0m\n\u001b[0;32m----> 1\u001b[0m \u001b[38;5;28;01mimport\u001b[39;00m \u001b[38;5;21;01mpyprobe\u001b[39;00m\n\u001b[1;32m      2\u001b[0m \u001b[38;5;28;01mimport\u001b[39;00m \u001b[38;5;21;01mpolars\u001b[39;00m \u001b[38;5;28;01mas\u001b[39;00m \u001b[38;5;21;01mpl\u001b[39;00m\n\u001b[1;32m      4\u001b[0m info_dictionary \u001b[38;5;241m=\u001b[39m {\u001b[38;5;124m'\u001b[39m\u001b[38;5;124mName\u001b[39m\u001b[38;5;124m'\u001b[39m: \u001b[38;5;124m'\u001b[39m\u001b[38;5;124mSample cell\u001b[39m\u001b[38;5;124m'\u001b[39m,\n\u001b[1;32m      5\u001b[0m                    \u001b[38;5;124m'\u001b[39m\u001b[38;5;124mChemistry\u001b[39m\u001b[38;5;124m'\u001b[39m: \u001b[38;5;124m'\u001b[39m\u001b[38;5;124mNMC622\u001b[39m\u001b[38;5;124m'\u001b[39m,\n\u001b[1;32m      6\u001b[0m                    \u001b[38;5;124m'\u001b[39m\u001b[38;5;124mNominal Capacity [Ah]\u001b[39m\u001b[38;5;124m'\u001b[39m: \u001b[38;5;241m0.04\u001b[39m,\n\u001b[1;32m      7\u001b[0m                    \u001b[38;5;124m'\u001b[39m\u001b[38;5;124mCycler number\u001b[39m\u001b[38;5;124m'\u001b[39m: \u001b[38;5;241m1\u001b[39m,\n\u001b[1;32m      8\u001b[0m                    \u001b[38;5;124m'\u001b[39m\u001b[38;5;124mChannel number\u001b[39m\u001b[38;5;124m'\u001b[39m: \u001b[38;5;241m1\u001b[39m,}\n",
      "\u001b[0;31mModuleNotFoundError\u001b[0m: No module named 'pyprobe'"
     ]
    }
   ],
   "source": [
    "import pyprobe\n",
    "import polars as pl\n",
    "\n",
    "info_dictionary = {'Name': 'Sample cell',\n",
    "                   'Chemistry': 'NMC622',\n",
    "                   'Nominal Capacity [Ah]': 0.04,\n",
    "                   'Cycler number': 1,\n",
    "                   'Channel number': 1,}\n",
    "data_directory = '../../../tests/sample_data/neware'\n",
    "\n",
    "# Create a cell object\n",
    "cell = pyprobe.Cell(info=info_dictionary)\n",
    "cell.add_procedure(procedure_name='Sample',\n",
    "                   folder_path = data_directory,\n",
    "                   filename = 'sample_data_neware.parquet')\n",
    "print(type(cell.procedure['Sample']))"
   ]
  },
  {
   "cell_type": "markdown",
   "metadata": {},
   "source": [
    "The Procedure class inherits from RawData, which has a defined set of required columns\n",
    "(the PyProBE standard format):"
   ]
  },
  {
   "cell_type": "code",
   "execution_count": 2,
   "metadata": {
    "execution": {
     "iopub.execute_input": "2024-08-02T09:42:47.435734Z",
     "iopub.status.busy": "2024-08-02T09:42:47.435557Z",
     "iopub.status.idle": "2024-08-02T09:42:47.446309Z",
     "shell.execute_reply": "2024-08-02T09:42:47.445724Z"
    }
   },
   "outputs": [
    {
     "ename": "NameError",
     "evalue": "name 'pyprobe' is not defined",
     "output_type": "error",
     "traceback": [
      "\u001b[0;31m---------------------------------------------------------------------------\u001b[0m",
      "\u001b[0;31mNameError\u001b[0m                                 Traceback (most recent call last)",
      "Cell \u001b[0;32mIn[2], line 1\u001b[0m\n\u001b[0;32m----> 1\u001b[0m \u001b[38;5;28mprint\u001b[39m(\u001b[43mpyprobe\u001b[49m\u001b[38;5;241m.\u001b[39mrawdata\u001b[38;5;241m.\u001b[39mrequired_columns)\n",
      "\u001b[0;31mNameError\u001b[0m: name 'pyprobe' is not defined"
     ]
    }
   ],
   "source": [
    "print(pyprobe.rawdata.required_columns)"
   ]
  },
  {
   "cell_type": "markdown",
   "metadata": {},
   "source": [
    "Whenever a RawData class (or any of the filters module classes, that inherit from it) are \n",
    "created, the dataframe is checked against these required columns. We will create an\n",
    "example dataframe that is missing columns, which will be identified by the error that is returned."
   ]
  },
  {
   "cell_type": "code",
   "execution_count": 3,
   "metadata": {
    "execution": {
     "iopub.execute_input": "2024-08-02T09:42:47.448484Z",
     "iopub.status.busy": "2024-08-02T09:42:47.448153Z",
     "iopub.status.idle": "2024-08-02T09:42:47.459921Z",
     "shell.execute_reply": "2024-08-02T09:42:47.459354Z"
    }
   },
   "outputs": [
    {
     "ename": "NameError",
     "evalue": "name 'pl' is not defined",
     "output_type": "error",
     "traceback": [
      "\u001b[0;31m---------------------------------------------------------------------------\u001b[0m",
      "\u001b[0;31mNameError\u001b[0m                                 Traceback (most recent call last)",
      "Cell \u001b[0;32mIn[3], line 1\u001b[0m\n\u001b[0;32m----> 1\u001b[0m incorrect_dataframe \u001b[38;5;241m=\u001b[39m \u001b[43mpl\u001b[49m\u001b[38;5;241m.\u001b[39mDataFrame({\u001b[38;5;124m'\u001b[39m\u001b[38;5;124mTime [s]\u001b[39m\u001b[38;5;124m'\u001b[39m: [\u001b[38;5;241m1\u001b[39m, \u001b[38;5;241m2\u001b[39m, \u001b[38;5;241m3\u001b[39m],\n\u001b[1;32m      2\u001b[0m                                     \u001b[38;5;124m'\u001b[39m\u001b[38;5;124mVoltage [V]\u001b[39m\u001b[38;5;124m'\u001b[39m: [\u001b[38;5;241m3.5\u001b[39m, \u001b[38;5;241m3.6\u001b[39m, \u001b[38;5;241m3.7\u001b[39m],\n\u001b[1;32m      3\u001b[0m                                     \u001b[38;5;124m'\u001b[39m\u001b[38;5;124mCurrent [A]\u001b[39m\u001b[38;5;124m'\u001b[39m: [\u001b[38;5;241m0.1\u001b[39m, \u001b[38;5;241m0.2\u001b[39m, \u001b[38;5;241m0.3\u001b[39m],\n\u001b[1;32m      4\u001b[0m                                     })\n\u001b[1;32m      5\u001b[0m pyprobe\u001b[38;5;241m.\u001b[39mrawdata\u001b[38;5;241m.\u001b[39mRawData(base_dataframe\u001b[38;5;241m=\u001b[39mincorrect_dataframe,\n\u001b[1;32m      6\u001b[0m                         info \u001b[38;5;241m=\u001b[39m {})\n",
      "\u001b[0;31mNameError\u001b[0m: name 'pl' is not defined"
     ]
    }
   ],
   "source": [
    "incorrect_dataframe = pl.DataFrame({'Time [s]': [1, 2, 3],\n",
    "                                    'Voltage [V]': [3.5, 3.6, 3.7],\n",
    "                                    'Current [A]': [0.1, 0.2, 0.3],\n",
    "                                    })\n",
    "pyprobe.rawdata.RawData(base_dataframe=incorrect_dataframe,\n",
    "                        info = {})"
   ]
  },
  {
   "cell_type": "markdown",
   "metadata": {},
   "source": [
    "You will also see a validation error if you try to create one of these classes with a\n",
    "data object that is not a Polars DataFrame or LazyFrame:"
   ]
  },
  {
   "cell_type": "code",
   "execution_count": 4,
   "metadata": {
    "execution": {
     "iopub.execute_input": "2024-08-02T09:42:47.462098Z",
     "iopub.status.busy": "2024-08-02T09:42:47.461761Z",
     "iopub.status.idle": "2024-08-02T09:42:47.473614Z",
     "shell.execute_reply": "2024-08-02T09:42:47.473034Z"
    }
   },
   "outputs": [
    {
     "ename": "NameError",
     "evalue": "name 'pyprobe' is not defined",
     "output_type": "error",
     "traceback": [
      "\u001b[0;31m---------------------------------------------------------------------------\u001b[0m",
      "\u001b[0;31mNameError\u001b[0m                                 Traceback (most recent call last)",
      "Cell \u001b[0;32mIn[4], line 5\u001b[0m\n\u001b[1;32m      1\u001b[0m incorrect_data_dict \u001b[38;5;241m=\u001b[39m {\u001b[38;5;124m'\u001b[39m\u001b[38;5;124mTime [s]\u001b[39m\u001b[38;5;124m'\u001b[39m: [\u001b[38;5;241m1\u001b[39m, \u001b[38;5;241m2\u001b[39m, \u001b[38;5;241m3\u001b[39m],\n\u001b[1;32m      2\u001b[0m                                     \u001b[38;5;124m'\u001b[39m\u001b[38;5;124mVoltage [V]\u001b[39m\u001b[38;5;124m'\u001b[39m: [\u001b[38;5;241m3.5\u001b[39m, \u001b[38;5;241m3.6\u001b[39m, \u001b[38;5;241m3.7\u001b[39m],\n\u001b[1;32m      3\u001b[0m                                     \u001b[38;5;124m'\u001b[39m\u001b[38;5;124mCurrent [A]\u001b[39m\u001b[38;5;124m'\u001b[39m: [\u001b[38;5;241m0.1\u001b[39m, \u001b[38;5;241m0.2\u001b[39m, \u001b[38;5;241m0.3\u001b[39m],\n\u001b[1;32m      4\u001b[0m                                     }\n\u001b[0;32m----> 5\u001b[0m \u001b[43mpyprobe\u001b[49m\u001b[38;5;241m.\u001b[39mrawdata\u001b[38;5;241m.\u001b[39mRawData(base_dataframe\u001b[38;5;241m=\u001b[39mincorrect_data_dict,\n\u001b[1;32m      6\u001b[0m                         info \u001b[38;5;241m=\u001b[39m {})\n",
      "\u001b[0;31mNameError\u001b[0m: name 'pyprobe' is not defined"
     ]
    }
   ],
   "source": [
    "incorrect_data_dict = {'Time [s]': [1, 2, 3],\n",
    "                                    'Voltage [V]': [3.5, 3.6, 3.7],\n",
    "                                    'Current [A]': [0.1, 0.2, 0.3],\n",
    "                                    }\n",
    "pyprobe.rawdata.RawData(base_dataframe=incorrect_data_dict,\n",
    "                        info = {})"
   ]
  },
  {
   "cell_type": "markdown",
   "metadata": {},
   "source": [
    "## Analysis Class Validation\n",
    "\n",
    "You are much more likely to experience validation errors when dealing with the classes in the \n",
    "analysis module. These classes, and the methods within them, may require a particular\n",
    "PyProBE object to work.\n",
    "\n",
    "As an example, the Cycling class requires an Experiment input. This is because it \n",
    "provides calculations based on the cycle() method of the experiment class:"
   ]
  },
  {
   "cell_type": "code",
   "execution_count": 5,
   "metadata": {
    "execution": {
     "iopub.execute_input": "2024-08-02T09:42:47.476116Z",
     "iopub.status.busy": "2024-08-02T09:42:47.475678Z",
     "iopub.status.idle": "2024-08-02T09:42:47.486827Z",
     "shell.execute_reply": "2024-08-02T09:42:47.486203Z"
    }
   },
   "outputs": [
    {
     "ename": "NameError",
     "evalue": "name 'cell' is not defined",
     "output_type": "error",
     "traceback": [
      "\u001b[0;31m---------------------------------------------------------------------------\u001b[0m",
      "\u001b[0;31mNameError\u001b[0m                                 Traceback (most recent call last)",
      "Cell \u001b[0;32mIn[5], line 1\u001b[0m\n\u001b[0;32m----> 1\u001b[0m experiment_object \u001b[38;5;241m=\u001b[39m \u001b[43mcell\u001b[49m\u001b[38;5;241m.\u001b[39mprocedure[\u001b[38;5;124m'\u001b[39m\u001b[38;5;124mSample\u001b[39m\u001b[38;5;124m'\u001b[39m]\u001b[38;5;241m.\u001b[39mexperiment(\u001b[38;5;124m'\u001b[39m\u001b[38;5;124mBreak-in Cycles\u001b[39m\u001b[38;5;124m'\u001b[39m)\n\u001b[1;32m      2\u001b[0m \u001b[38;5;28mprint\u001b[39m(\u001b[38;5;28mtype\u001b[39m(experiment_object))\n",
      "\u001b[0;31mNameError\u001b[0m: name 'cell' is not defined"
     ]
    }
   ],
   "source": [
    "experiment_object = cell.procedure['Sample'].experiment('Break-in Cycles')\n",
    "print(type(experiment_object))"
   ]
  },
  {
   "cell_type": "markdown",
   "metadata": {},
   "source": [
    "The experiment object should return no errors:"
   ]
  },
  {
   "cell_type": "code",
   "execution_count": 6,
   "metadata": {
    "execution": {
     "iopub.execute_input": "2024-08-02T09:42:47.489005Z",
     "iopub.status.busy": "2024-08-02T09:42:47.488713Z",
     "iopub.status.idle": "2024-08-02T09:42:47.499788Z",
     "shell.execute_reply": "2024-08-02T09:42:47.499247Z"
    }
   },
   "outputs": [
    {
     "ename": "ModuleNotFoundError",
     "evalue": "No module named 'pyprobe'",
     "output_type": "error",
     "traceback": [
      "\u001b[0;31m---------------------------------------------------------------------------\u001b[0m",
      "\u001b[0;31mModuleNotFoundError\u001b[0m                       Traceback (most recent call last)",
      "Cell \u001b[0;32mIn[6], line 1\u001b[0m\n\u001b[0;32m----> 1\u001b[0m \u001b[38;5;28;01mfrom\u001b[39;00m \u001b[38;5;21;01mpyprobe\u001b[39;00m\u001b[38;5;21;01m.\u001b[39;00m\u001b[38;5;21;01manalysis\u001b[39;00m\u001b[38;5;21;01m.\u001b[39;00m\u001b[38;5;21;01mcycling\u001b[39;00m \u001b[38;5;28;01mimport\u001b[39;00m Cycling\n\u001b[1;32m      2\u001b[0m cycling \u001b[38;5;241m=\u001b[39m Cycling(input_data \u001b[38;5;241m=\u001b[39m experiment_object)\n",
      "\u001b[0;31mModuleNotFoundError\u001b[0m: No module named 'pyprobe'"
     ]
    }
   ],
   "source": [
    "from pyprobe.analysis.cycling import Cycling\n",
    "cycling = Cycling(input_data = experiment_object)"
   ]
  },
  {
   "cell_type": "markdown",
   "metadata": {},
   "source": [
    "However, if I were to filter the object further, I would get an error:"
   ]
  },
  {
   "cell_type": "code",
   "execution_count": 7,
   "metadata": {
    "execution": {
     "iopub.execute_input": "2024-08-02T09:42:47.501840Z",
     "iopub.status.busy": "2024-08-02T09:42:47.501554Z",
     "iopub.status.idle": "2024-08-02T09:42:47.511960Z",
     "shell.execute_reply": "2024-08-02T09:42:47.511405Z"
    }
   },
   "outputs": [
    {
     "ename": "NameError",
     "evalue": "name 'Cycling' is not defined",
     "output_type": "error",
     "traceback": [
      "\u001b[0;31m---------------------------------------------------------------------------\u001b[0m",
      "\u001b[0;31mNameError\u001b[0m                                 Traceback (most recent call last)",
      "Cell \u001b[0;32mIn[7], line 1\u001b[0m\n\u001b[0;32m----> 1\u001b[0m cycling \u001b[38;5;241m=\u001b[39m \u001b[43mCycling\u001b[49m(input_data \u001b[38;5;241m=\u001b[39m experiment_object\u001b[38;5;241m.\u001b[39mcycle(\u001b[38;5;241m1\u001b[39m))\n",
      "\u001b[0;31mNameError\u001b[0m: name 'Cycling' is not defined"
     ]
    }
   ],
   "source": [
    "cycling = Cycling(input_data = experiment_object.cycle(1))"
   ]
  },
  {
   "cell_type": "markdown",
   "metadata": {},
   "source": [
    "Types and columns are also validated in the methods of analysis classes. You can create a \n",
    "DMA object on any pyprobe data type:"
   ]
  },
  {
   "cell_type": "code",
   "execution_count": 8,
   "metadata": {
    "execution": {
     "iopub.execute_input": "2024-08-02T09:42:47.513958Z",
     "iopub.status.busy": "2024-08-02T09:42:47.513799Z",
     "iopub.status.idle": "2024-08-02T09:42:47.525652Z",
     "shell.execute_reply": "2024-08-02T09:42:47.525116Z"
    }
   },
   "outputs": [
    {
     "ename": "NameError",
     "evalue": "name 'cell' is not defined",
     "output_type": "error",
     "traceback": [
      "\u001b[0;31m---------------------------------------------------------------------------\u001b[0m",
      "\u001b[0;31mNameError\u001b[0m                                 Traceback (most recent call last)",
      "Cell \u001b[0;32mIn[8], line 1\u001b[0m\n\u001b[0;32m----> 1\u001b[0m pOCV \u001b[38;5;241m=\u001b[39m \u001b[43mcell\u001b[49m\u001b[38;5;241m.\u001b[39mprocedure[\u001b[38;5;124m'\u001b[39m\u001b[38;5;124mSample\u001b[39m\u001b[38;5;124m'\u001b[39m]\u001b[38;5;241m.\u001b[39mexperiment(\u001b[38;5;124m'\u001b[39m\u001b[38;5;124mBreak-in Cycles\u001b[39m\u001b[38;5;124m'\u001b[39m)\u001b[38;5;241m.\u001b[39mcycle(\u001b[38;5;241m1\u001b[39m)\u001b[38;5;241m.\u001b[39mdischarge(\u001b[38;5;241m0\u001b[39m)\n\u001b[1;32m      3\u001b[0m \u001b[38;5;28;01mfrom\u001b[39;00m \u001b[38;5;21;01mpyprobe\u001b[39;00m\u001b[38;5;21;01m.\u001b[39;00m\u001b[38;5;21;01manalysis\u001b[39;00m\u001b[38;5;21;01m.\u001b[39;00m\u001b[38;5;21;01mdegradation_mode_analysis\u001b[39;00m \u001b[38;5;28;01mimport\u001b[39;00m DMA\n",
      "\u001b[0;31mNameError\u001b[0m: name 'cell' is not defined"
     ]
    }
   ],
   "source": [
    "pOCV = cell.procedure['Sample'].experiment('Break-in Cycles').cycle(1).discharge(0)\n",
    "\n",
    "from pyprobe.analysis.degradation_mode_analysis import DMA"
   ]
  },
  {
   "cell_type": "markdown",
   "metadata": {},
   "source": [
    "But the average_ocvs() method is stricter. It must be provided with a filter no deeper\n",
    "than Cycle as it requires both a charge and a discharge curve to work on."
   ]
  },
  {
   "cell_type": "code",
   "execution_count": 9,
   "metadata": {
    "execution": {
     "iopub.execute_input": "2024-08-02T09:42:47.527778Z",
     "iopub.status.busy": "2024-08-02T09:42:47.527612Z",
     "iopub.status.idle": "2024-08-02T09:42:47.539002Z",
     "shell.execute_reply": "2024-08-02T09:42:47.538431Z"
    }
   },
   "outputs": [
    {
     "ename": "NameError",
     "evalue": "name 'DMA' is not defined",
     "output_type": "error",
     "traceback": [
      "\u001b[0;31m---------------------------------------------------------------------------\u001b[0m",
      "\u001b[0;31mNameError\u001b[0m                                 Traceback (most recent call last)",
      "Cell \u001b[0;32mIn[9], line 1\u001b[0m\n\u001b[0;32m----> 1\u001b[0m averaged_ocv_dma \u001b[38;5;241m=\u001b[39m \u001b[43mDMA\u001b[49m\u001b[38;5;241m.\u001b[39maverage_ocvs(input_data \u001b[38;5;241m=\u001b[39m pOCV)\n",
      "\u001b[0;31mNameError\u001b[0m: name 'DMA' is not defined"
     ]
    }
   ],
   "source": [
    "averaged_ocv_dma = DMA.average_ocvs(input_data = pOCV)"
   ]
  },
  {
   "cell_type": "code",
   "execution_count": 10,
   "metadata": {
    "execution": {
     "iopub.execute_input": "2024-08-02T09:42:47.540971Z",
     "iopub.status.busy": "2024-08-02T09:42:47.540810Z",
     "iopub.status.idle": "2024-08-02T09:42:47.552989Z",
     "shell.execute_reply": "2024-08-02T09:42:47.552456Z"
    }
   },
   "outputs": [
    {
     "ename": "NameError",
     "evalue": "name 'cell' is not defined",
     "output_type": "error",
     "traceback": [
      "\u001b[0;31m---------------------------------------------------------------------------\u001b[0m",
      "\u001b[0;31mNameError\u001b[0m                                 Traceback (most recent call last)",
      "Cell \u001b[0;32mIn[10], line 1\u001b[0m\n\u001b[0;32m----> 1\u001b[0m pOCV_cycle \u001b[38;5;241m=\u001b[39m \u001b[43mcell\u001b[49m\u001b[38;5;241m.\u001b[39mprocedure[\u001b[38;5;124m'\u001b[39m\u001b[38;5;124mSample\u001b[39m\u001b[38;5;124m'\u001b[39m]\u001b[38;5;241m.\u001b[39mexperiment(\u001b[38;5;124m'\u001b[39m\u001b[38;5;124mBreak-in Cycles\u001b[39m\u001b[38;5;124m'\u001b[39m)\u001b[38;5;241m.\u001b[39mcycle(\u001b[38;5;241m1\u001b[39m)\n\u001b[1;32m      2\u001b[0m averaged_ocv_dma \u001b[38;5;241m=\u001b[39m DMA\u001b[38;5;241m.\u001b[39maverage_ocvs(input_data \u001b[38;5;241m=\u001b[39m pOCV_cycle)\n",
      "\u001b[0;31mNameError\u001b[0m: name 'cell' is not defined"
     ]
    }
   ],
   "source": [
    "pOCV_cycle = cell.procedure['Sample'].experiment('Break-in Cycles').cycle(1)\n",
    "averaged_ocv_dma = DMA.average_ocvs(input_data = pOCV_cycle)"
   ]
  },
  {
   "cell_type": "markdown",
   "metadata": {},
   "source": [
    "We are now told that we are missing an SOC column. This is encouraged to be calculated outside\n",
    "the module so it is clearer to the user how the curves will align. We can create an\n",
    "SOC column with the set_SOC() method:"
   ]
  },
  {
   "cell_type": "code",
   "execution_count": 11,
   "metadata": {
    "execution": {
     "iopub.execute_input": "2024-08-02T09:42:47.555243Z",
     "iopub.status.busy": "2024-08-02T09:42:47.554907Z",
     "iopub.status.idle": "2024-08-02T09:42:47.567236Z",
     "shell.execute_reply": "2024-08-02T09:42:47.566664Z"
    }
   },
   "outputs": [
    {
     "ename": "NameError",
     "evalue": "name 'pOCV_cycle' is not defined",
     "output_type": "error",
     "traceback": [
      "\u001b[0;31m---------------------------------------------------------------------------\u001b[0m",
      "\u001b[0;31mNameError\u001b[0m                                 Traceback (most recent call last)",
      "Cell \u001b[0;32mIn[11], line 1\u001b[0m\n\u001b[0;32m----> 1\u001b[0m \u001b[43mpOCV_cycle\u001b[49m\u001b[38;5;241m.\u001b[39mset_SOC()\n\u001b[1;32m      2\u001b[0m fig \u001b[38;5;241m=\u001b[39m pyprobe\u001b[38;5;241m.\u001b[39mPlot()\n\u001b[1;32m      3\u001b[0m fig\u001b[38;5;241m.\u001b[39madd_line(pOCV_cycle\u001b[38;5;241m.\u001b[39mdischarge(\u001b[38;5;241m0\u001b[39m)\u001b[38;5;241m.\u001b[39mconstant_current(\u001b[38;5;241m0\u001b[39m), x\u001b[38;5;241m=\u001b[39m\u001b[38;5;124m'\u001b[39m\u001b[38;5;124mSOC\u001b[39m\u001b[38;5;124m'\u001b[39m, y\u001b[38;5;241m=\u001b[39m\u001b[38;5;124m'\u001b[39m\u001b[38;5;124mVoltage [V]\u001b[39m\u001b[38;5;124m'\u001b[39m, label\u001b[38;5;241m=\u001b[39m\u001b[38;5;124m'\u001b[39m\u001b[38;5;124mDischarge\u001b[39m\u001b[38;5;124m'\u001b[39m, color\u001b[38;5;241m=\u001b[39m\u001b[38;5;124m'\u001b[39m\u001b[38;5;124mblue\u001b[39m\u001b[38;5;124m'\u001b[39m)\n",
      "\u001b[0;31mNameError\u001b[0m: name 'pOCV_cycle' is not defined"
     ]
    }
   ],
   "source": [
    "pOCV_cycle.set_SOC()\n",
    "fig = pyprobe.Plot()\n",
    "fig.add_line(pOCV_cycle.discharge(0).constant_current(0), x='SOC', y='Voltage [V]', label='Discharge', color='blue')\n",
    "fig.add_line(pOCV_cycle.charge(0).constant_current(0), x='SOC', y='Voltage [V]', label='Charge', color='purple')\n",
    "fig.show()"
   ]
  },
  {
   "cell_type": "markdown",
   "metadata": {},
   "source": [
    "We can then provide this updated result object to the method:"
   ]
  },
  {
   "cell_type": "code",
   "execution_count": 12,
   "metadata": {
    "execution": {
     "iopub.execute_input": "2024-08-02T09:42:47.569350Z",
     "iopub.status.busy": "2024-08-02T09:42:47.569064Z",
     "iopub.status.idle": "2024-08-02T09:42:47.581164Z",
     "shell.execute_reply": "2024-08-02T09:42:47.580613Z"
    }
   },
   "outputs": [
    {
     "ename": "NameError",
     "evalue": "name 'DMA' is not defined",
     "output_type": "error",
     "traceback": [
      "\u001b[0;31m---------------------------------------------------------------------------\u001b[0m",
      "\u001b[0;31mNameError\u001b[0m                                 Traceback (most recent call last)",
      "Cell \u001b[0;32mIn[12], line 1\u001b[0m\n\u001b[0;32m----> 1\u001b[0m averaged_ocv_dma \u001b[38;5;241m=\u001b[39m \u001b[43mDMA\u001b[49m\u001b[38;5;241m.\u001b[39maverage_ocvs(input_data \u001b[38;5;241m=\u001b[39m pOCV_cycle, charge_filter\u001b[38;5;241m=\u001b[39m\u001b[38;5;124m\"\u001b[39m\u001b[38;5;124mcharge(0).constant_current(0)\u001b[39m\u001b[38;5;124m\"\u001b[39m, discharge_filter\u001b[38;5;241m=\u001b[39m\u001b[38;5;124m\"\u001b[39m\u001b[38;5;124mdischarge(0).constant_current(0)\u001b[39m\u001b[38;5;124m\"\u001b[39m)\n\u001b[1;32m      3\u001b[0m fig\u001b[38;5;241m.\u001b[39madd_line(averaged_ocv_dma\u001b[38;5;241m.\u001b[39minput_data, x\u001b[38;5;241m=\u001b[39m\u001b[38;5;124m'\u001b[39m\u001b[38;5;124mSOC\u001b[39m\u001b[38;5;124m'\u001b[39m, y\u001b[38;5;241m=\u001b[39m\u001b[38;5;124m'\u001b[39m\u001b[38;5;124mVoltage [V]\u001b[39m\u001b[38;5;124m'\u001b[39m, label\u001b[38;5;241m=\u001b[39m\u001b[38;5;124m'\u001b[39m\u001b[38;5;124mAverage\u001b[39m\u001b[38;5;124m'\u001b[39m, color\u001b[38;5;241m=\u001b[39m\u001b[38;5;124m'\u001b[39m\u001b[38;5;124mred\u001b[39m\u001b[38;5;124m'\u001b[39m)\n\u001b[1;32m      4\u001b[0m fig\u001b[38;5;241m.\u001b[39mshow()\n",
      "\u001b[0;31mNameError\u001b[0m: name 'DMA' is not defined"
     ]
    }
   ],
   "source": [
    "averaged_ocv_dma = DMA.average_ocvs(input_data = pOCV_cycle, charge_filter=\"charge(0).constant_current(0)\", discharge_filter=\"discharge(0).constant_current(0)\")\n",
    "\n",
    "fig.add_line(averaged_ocv_dma.input_data, x='SOC', y='Voltage [V]', label='Average', color='red')\n",
    "fig.show()"
   ]
  }
 ],
 "metadata": {
  "kernelspec": {
   "display_name": "pyprobe-dev",
   "language": "python",
   "name": "python3"
  },
  "language_info": {
   "codemirror_mode": {
    "name": "ipython",
    "version": 3
   },
   "file_extension": ".py",
   "mimetype": "text/x-python",
   "name": "python",
   "nbconvert_exporter": "python",
   "pygments_lexer": "ipython3",
   "version": "3.11.9"
  }
 },
 "nbformat": 4,
 "nbformat_minor": 2
}
