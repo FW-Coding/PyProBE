{
 "cells": [
  {
   "cell_type": "markdown",
   "metadata": {},
   "source": [
    "# OCV Fitting\n",
    "\n",
    "Open-circuit voltage fitting is the key step for conducting Degradation Mode Analysis (DMA). PyProBE has a number of built-in methods for this."
   ]
  },
  {
   "cell_type": "code",
   "execution_count": 1,
   "metadata": {
    "execution": {
     "iopub.execute_input": "2024-08-02T09:42:45.535513Z",
     "iopub.status.busy": "2024-08-02T09:42:45.534920Z",
     "iopub.status.idle": "2024-08-02T09:42:45.675391Z",
     "shell.execute_reply": "2024-08-02T09:42:45.674675Z"
    }
   },
   "outputs": [
    {
     "ename": "ModuleNotFoundError",
     "evalue": "No module named 'pyprobe'",
     "output_type": "error",
     "traceback": [
      "\u001b[0;31m---------------------------------------------------------------------------\u001b[0m",
      "\u001b[0;31mModuleNotFoundError\u001b[0m                       Traceback (most recent call last)",
      "Cell \u001b[0;32mIn[1], line 1\u001b[0m\n\u001b[0;32m----> 1\u001b[0m \u001b[38;5;28;01mimport\u001b[39;00m \u001b[38;5;21;01mpyprobe\u001b[39;00m\n\u001b[1;32m      2\u001b[0m \u001b[38;5;28;01mimport\u001b[39;00m \u001b[38;5;21;01mpolars\u001b[39;00m \u001b[38;5;28;01mas\u001b[39;00m \u001b[38;5;21;01mpl\u001b[39;00m\n\u001b[1;32m      3\u001b[0m \u001b[38;5;28;01mfrom\u001b[39;00m \u001b[38;5;21;01mpyprobe\u001b[39;00m\u001b[38;5;21;01m.\u001b[39;00m\u001b[38;5;21;01manalysis\u001b[39;00m \u001b[38;5;28;01mimport\u001b[39;00m degradation_mode_analysis\n",
      "\u001b[0;31mModuleNotFoundError\u001b[0m: No module named 'pyprobe'"
     ]
    }
   ],
   "source": [
    "import pyprobe\n",
    "import polars as pl\n",
    "from pyprobe.analysis import degradation_mode_analysis\n",
    "import numpy as np\n",
    "import matplotlib.pyplot as plt"
   ]
  },
  {
   "cell_type": "markdown",
   "metadata": {},
   "source": [
    "In this example, we are going to generate a synthetic aged OCV curve. We will use the half cell OCV fits from Chen 2020:"
   ]
  },
  {
   "cell_type": "code",
   "execution_count": 2,
   "metadata": {
    "execution": {
     "iopub.execute_input": "2024-08-02T09:42:45.677648Z",
     "iopub.status.busy": "2024-08-02T09:42:45.677474Z",
     "iopub.status.idle": "2024-08-02T09:42:45.693887Z",
     "shell.execute_reply": "2024-08-02T09:42:45.693314Z"
    }
   },
   "outputs": [
    {
     "ename": "NameError",
     "evalue": "name 'np' is not defined",
     "output_type": "error",
     "traceback": [
      "\u001b[0;31m---------------------------------------------------------------------------\u001b[0m",
      "\u001b[0;31mNameError\u001b[0m                                 Traceback (most recent call last)",
      "Cell \u001b[0;32mIn[2], line 26\u001b[0m\n\u001b[1;32m     16\u001b[0m     u_eq \u001b[38;5;241m=\u001b[39m (\n\u001b[1;32m     17\u001b[0m         \u001b[38;5;241m-\u001b[39m\u001b[38;5;241m0.8090\u001b[39m \u001b[38;5;241m*\u001b[39m sto\n\u001b[1;32m     18\u001b[0m         \u001b[38;5;241m+\u001b[39m \u001b[38;5;241m4.4875\u001b[39m\n\u001b[0;32m   (...)\u001b[0m\n\u001b[1;32m     21\u001b[0m         \u001b[38;5;241m+\u001b[39m \u001b[38;5;241m17.5842\u001b[39m \u001b[38;5;241m*\u001b[39m np\u001b[38;5;241m.\u001b[39mtanh(\u001b[38;5;241m15.9308\u001b[39m \u001b[38;5;241m*\u001b[39m (sto \u001b[38;5;241m-\u001b[39m \u001b[38;5;241m0.3120\u001b[39m))\n\u001b[1;32m     22\u001b[0m     )\n\u001b[1;32m     24\u001b[0m     \u001b[38;5;28;01mreturn\u001b[39;00m u_eq\n\u001b[0;32m---> 26\u001b[0m z \u001b[38;5;241m=\u001b[39m \u001b[43mnp\u001b[49m\u001b[38;5;241m.\u001b[39mlinspace(\u001b[38;5;241m0\u001b[39m, \u001b[38;5;241m1\u001b[39m, \u001b[38;5;241m1000\u001b[39m) \u001b[38;5;66;03m# stoichiometry vector\u001b[39;00m\n\u001b[1;32m     28\u001b[0m \u001b[38;5;66;03m# generate complete ocp curves\u001b[39;00m\n\u001b[1;32m     29\u001b[0m ocp_pe \u001b[38;5;241m=\u001b[39m nmc_LGM50_ocp_Chen2020(z)\n",
      "\u001b[0;31mNameError\u001b[0m: name 'np' is not defined"
     ]
    }
   ],
   "source": [
    "def graphite_LGM50_ocp_Chen2020(sto):\n",
    "    \"\"\"Chen2020 graphite ocp fit.\"\"\"\n",
    "    u_eq = (\n",
    "        1.9793 * np.exp(-39.3631 * sto)\n",
    "        + 0.2482\n",
    "        - 0.0909 * np.tanh(29.8538 * (sto - 0.1234))\n",
    "        - 0.04478 * np.tanh(14.9159 * (sto - 0.2769))\n",
    "        - 0.0205 * np.tanh(30.4444 * (sto - 0.6103))\n",
    "    )\n",
    "\n",
    "    return u_eq\n",
    "\n",
    "\n",
    "def nmc_LGM50_ocp_Chen2020(sto):\n",
    "    \"\"\"Chen2020 nmc ocp fit.\"\"\"\n",
    "    u_eq = (\n",
    "        -0.8090 * sto\n",
    "        + 4.4875\n",
    "        - 0.0428 * np.tanh(18.5138 * (sto - 0.5542))\n",
    "        - 17.7326 * np.tanh(15.7890 * (sto - 0.3117))\n",
    "        + 17.5842 * np.tanh(15.9308 * (sto - 0.3120))\n",
    "    )\n",
    "\n",
    "    return u_eq\n",
    "\n",
    "z = np.linspace(0, 1, 1000) # stoichiometry vector\n",
    "\n",
    "# generate complete ocp curves\n",
    "ocp_pe = nmc_LGM50_ocp_Chen2020(z)\n",
    "ocp_ne = graphite_LGM50_ocp_Chen2020(z)"
   ]
  },
  {
   "cell_type": "markdown",
   "metadata": {},
   "source": [
    "We will now define a set of stoichiometry limits to generate our synthetic OCV curve:"
   ]
  },
  {
   "cell_type": "code",
   "execution_count": 3,
   "metadata": {
    "execution": {
     "iopub.execute_input": "2024-08-02T09:42:45.696148Z",
     "iopub.status.busy": "2024-08-02T09:42:45.695735Z",
     "iopub.status.idle": "2024-08-02T09:42:45.709343Z",
     "shell.execute_reply": "2024-08-02T09:42:45.708785Z"
    }
   },
   "outputs": [
    {
     "ename": "NameError",
     "evalue": "name 'np' is not defined",
     "output_type": "error",
     "traceback": [
      "\u001b[0;31m---------------------------------------------------------------------------\u001b[0m",
      "\u001b[0;31mNameError\u001b[0m                                 Traceback (most recent call last)",
      "Cell \u001b[0;32mIn[3], line 5\u001b[0m\n\u001b[1;32m      3\u001b[0m x_pe_lo \u001b[38;5;241m=\u001b[39m \u001b[38;5;241m0.85\u001b[39m \u001b[38;5;66;03m# stoichiometry at low cell SOC\u001b[39;00m\n\u001b[1;32m      4\u001b[0m x_pe_hi \u001b[38;5;241m=\u001b[39m \u001b[38;5;241m0.27\u001b[39m \u001b[38;5;66;03m# stoichiometry at high cell SOC\u001b[39;00m\n\u001b[0;32m----> 5\u001b[0m x_pe \u001b[38;5;241m=\u001b[39m \u001b[43mnp\u001b[49m\u001b[38;5;241m.\u001b[39mlinspace(x_pe_lo, x_pe_hi, n_pts) \u001b[38;5;66;03m# stoichiometry range\u001b[39;00m\n\u001b[1;32m      7\u001b[0m \u001b[38;5;66;03m# negative electrode\u001b[39;00m\n\u001b[1;32m      8\u001b[0m x_ne_lo \u001b[38;5;241m=\u001b[39m \u001b[38;5;241m0.03\u001b[39m \u001b[38;5;66;03m# stoichiometry at low cell SOC\u001b[39;00m\n",
      "\u001b[0;31mNameError\u001b[0m: name 'np' is not defined"
     ]
    }
   ],
   "source": [
    "n_pts = 1000\n",
    "# positive electrode\n",
    "x_pe_lo = 0.85 # stoichiometry at low cell SOC\n",
    "x_pe_hi = 0.27 # stoichiometry at high cell SOC\n",
    "x_pe = np.linspace(x_pe_lo, x_pe_hi, n_pts) # stoichiometry range\n",
    "\n",
    "# negative electrode\n",
    "x_ne_lo = 0.03 # stoichiometry at low cell SOC\n",
    "x_ne_hi = 0.9 # stoichiometry at high cell SOC\n",
    "x_ne = np.linspace(x_ne_lo, x_ne_hi, n_pts) # stoichiometry range\n",
    "\n",
    "# full cell voltage and capacity\n",
    "voltage = nmc_LGM50_ocp_Chen2020(x_pe) - graphite_LGM50_ocp_Chen2020(x_ne)\n",
    "capacity = np.linspace(0, 5, n_pts) # capacity range in Ah\n",
    "\n",
    "plt.figure()\n",
    "plt.plot(capacity, voltage)\n",
    "plt.xlabel('Capacity (Ah)')\n",
    "plt.ylabel('Voltage (V)')"
   ]
  },
  {
   "cell_type": "markdown",
   "metadata": {},
   "source": [
    "We will now generate a fit to this voltage curve using the Simple OCV fit method in PyProBE:"
   ]
  },
  {
   "cell_type": "code",
   "execution_count": 4,
   "metadata": {
    "execution": {
     "iopub.execute_input": "2024-08-02T09:42:45.711404Z",
     "iopub.status.busy": "2024-08-02T09:42:45.711237Z",
     "iopub.status.idle": "2024-08-02T09:42:45.722812Z",
     "shell.execute_reply": "2024-08-02T09:42:45.722233Z"
    }
   },
   "outputs": [
    {
     "ename": "NameError",
     "evalue": "name 'pyprobe' is not defined",
     "output_type": "error",
     "traceback": [
      "\u001b[0;31m---------------------------------------------------------------------------\u001b[0m",
      "\u001b[0;31mNameError\u001b[0m                                 Traceback (most recent call last)",
      "Cell \u001b[0;32mIn[4], line 2\u001b[0m\n\u001b[1;32m      1\u001b[0m \u001b[38;5;66;03m# put the voltage and capacity data into a Result object (not necessary in normal use)\u001b[39;00m\n\u001b[0;32m----> 2\u001b[0m OCV_result \u001b[38;5;241m=\u001b[39m \u001b[43mpyprobe\u001b[49m\u001b[38;5;241m.\u001b[39mResult(base_dataframe\u001b[38;5;241m=\u001b[39mpl\u001b[38;5;241m.\u001b[39mDataFrame({\u001b[38;5;124m'\u001b[39m\u001b[38;5;124mCapacity [Ah]\u001b[39m\u001b[38;5;124m'\u001b[39m: capacity, \u001b[38;5;124m'\u001b[39m\u001b[38;5;124mVoltage [V]\u001b[39m\u001b[38;5;124m'\u001b[39m: voltage}), info\u001b[38;5;241m=\u001b[39m {})\n\u001b[1;32m      4\u001b[0m dma_object \u001b[38;5;241m=\u001b[39m degradation_mode_analysis\u001b[38;5;241m.\u001b[39mDMA(input_data\u001b[38;5;241m=\u001b[39mOCV_result)\n",
      "\u001b[0;31mNameError\u001b[0m: name 'pyprobe' is not defined"
     ]
    }
   ],
   "source": [
    "# put the voltage and capacity data into a Result object (not necessary in normal use)\n",
    "OCV_result = pyprobe.Result(base_dataframe=pl.DataFrame({'Capacity [Ah]': capacity, 'Voltage [V]': voltage}), info= {})\n",
    "\n",
    "dma_object = degradation_mode_analysis.DMA(input_data=OCV_result)"
   ]
  },
  {
   "cell_type": "markdown",
   "metadata": {},
   "source": [
    "One of the available analysis methods is `fit_ocv()`. This produces two result objects:"
   ]
  },
  {
   "cell_type": "code",
   "execution_count": 5,
   "metadata": {
    "execution": {
     "iopub.execute_input": "2024-08-02T09:42:45.725004Z",
     "iopub.status.busy": "2024-08-02T09:42:45.724678Z",
     "iopub.status.idle": "2024-08-02T09:42:45.736121Z",
     "shell.execute_reply": "2024-08-02T09:42:45.735567Z"
    }
   },
   "outputs": [
    {
     "ename": "NameError",
     "evalue": "name 'dma_object' is not defined",
     "output_type": "error",
     "traceback": [
      "\u001b[0;31m---------------------------------------------------------------------------\u001b[0m",
      "\u001b[0;31mNameError\u001b[0m                                 Traceback (most recent call last)",
      "Cell \u001b[0;32mIn[5], line 1\u001b[0m\n\u001b[0;32m----> 1\u001b[0m stoichiometry_limits, fitted_curve \u001b[38;5;241m=\u001b[39m \u001b[43mdma_object\u001b[49m\u001b[38;5;241m.\u001b[39mfit_ocv(x_ne \u001b[38;5;241m=\u001b[39m z,\n\u001b[1;32m      2\u001b[0m                    x_pe \u001b[38;5;241m=\u001b[39m z,\n\u001b[1;32m      3\u001b[0m                    ocp_ne \u001b[38;5;241m=\u001b[39m ocp_ne,\n\u001b[1;32m      4\u001b[0m                    ocp_pe \u001b[38;5;241m=\u001b[39m ocp_pe,\n\u001b[1;32m      5\u001b[0m                    x_guess \u001b[38;5;241m=\u001b[39m [\u001b[38;5;241m0.9\u001b[39m, \u001b[38;5;241m0.1\u001b[39m, \u001b[38;5;241m0.1\u001b[39m, \u001b[38;5;241m0.9\u001b[39m])\n\u001b[1;32m      6\u001b[0m \u001b[38;5;28mprint\u001b[39m(stoichiometry_limits\u001b[38;5;241m.\u001b[39mdata)\n",
      "\u001b[0;31mNameError\u001b[0m: name 'dma_object' is not defined"
     ]
    }
   ],
   "source": [
    "stoichiometry_limits, fitted_curve = dma_object.fit_ocv(x_ne = z,\n",
    "                   x_pe = z,\n",
    "                   ocp_ne = ocp_ne,\n",
    "                   ocp_pe = ocp_pe,\n",
    "                   x_guess = [0.9, 0.1, 0.1, 0.9])\n",
    "print(stoichiometry_limits.data)"
   ]
  },
  {
   "cell_type": "markdown",
   "metadata": {},
   "source": [
    "And the second is a result object containing the fitted OCP curve:"
   ]
  },
  {
   "cell_type": "code",
   "execution_count": 6,
   "metadata": {
    "execution": {
     "iopub.execute_input": "2024-08-02T09:42:45.738284Z",
     "iopub.status.busy": "2024-08-02T09:42:45.737936Z",
     "iopub.status.idle": "2024-08-02T09:42:45.750108Z",
     "shell.execute_reply": "2024-08-02T09:42:45.749566Z"
    }
   },
   "outputs": [
    {
     "ename": "NameError",
     "evalue": "name 'pyprobe' is not defined",
     "output_type": "error",
     "traceback": [
      "\u001b[0;31m---------------------------------------------------------------------------\u001b[0m",
      "\u001b[0;31mNameError\u001b[0m                                 Traceback (most recent call last)",
      "Cell \u001b[0;32mIn[6], line 1\u001b[0m\n\u001b[0;32m----> 1\u001b[0m fig \u001b[38;5;241m=\u001b[39m \u001b[43mpyprobe\u001b[49m\u001b[38;5;241m.\u001b[39mPlot()\n\u001b[1;32m      2\u001b[0m fig\u001b[38;5;241m.\u001b[39madd_line(fitted_curve, x\u001b[38;5;241m=\u001b[39m\u001b[38;5;124m'\u001b[39m\u001b[38;5;124mSOC\u001b[39m\u001b[38;5;124m'\u001b[39m, y\u001b[38;5;241m=\u001b[39m\u001b[38;5;124m'\u001b[39m\u001b[38;5;124mInput Voltage [V]\u001b[39m\u001b[38;5;124m'\u001b[39m,label \u001b[38;5;241m=\u001b[39m \u001b[38;5;124m\"\u001b[39m\u001b[38;5;124mInput\u001b[39m\u001b[38;5;124m\"\u001b[39m)\n\u001b[1;32m      3\u001b[0m fig\u001b[38;5;241m.\u001b[39madd_line(fitted_curve, x\u001b[38;5;241m=\u001b[39m\u001b[38;5;124m'\u001b[39m\u001b[38;5;124mSOC\u001b[39m\u001b[38;5;124m'\u001b[39m, y\u001b[38;5;241m=\u001b[39m\u001b[38;5;124m'\u001b[39m\u001b[38;5;124mFitted Voltage [V]\u001b[39m\u001b[38;5;124m'\u001b[39m, color\u001b[38;5;241m=\u001b[39m\u001b[38;5;124m'\u001b[39m\u001b[38;5;124mred\u001b[39m\u001b[38;5;124m'\u001b[39m, label \u001b[38;5;241m=\u001b[39m \u001b[38;5;124m'\u001b[39m\u001b[38;5;124mFit\u001b[39m\u001b[38;5;124m'\u001b[39m, dash\u001b[38;5;241m=\u001b[39m\u001b[38;5;124m'\u001b[39m\u001b[38;5;124mdash\u001b[39m\u001b[38;5;124m'\u001b[39m)\n",
      "\u001b[0;31mNameError\u001b[0m: name 'pyprobe' is not defined"
     ]
    }
   ],
   "source": [
    "fig = pyprobe.Plot()\n",
    "fig.add_line(fitted_curve, x='SOC', y='Input Voltage [V]',label = \"Input\")\n",
    "fig.add_line(fitted_curve, x='SOC', y='Fitted Voltage [V]', color='red', label = 'Fit', dash='dash')\n",
    "fig.show()"
   ]
  },
  {
   "cell_type": "markdown",
   "metadata": {},
   "source": [
    "You can also fit to differentiated voltage data:"
   ]
  },
  {
   "cell_type": "code",
   "execution_count": 7,
   "metadata": {
    "execution": {
     "iopub.execute_input": "2024-08-02T09:42:45.752277Z",
     "iopub.status.busy": "2024-08-02T09:42:45.751940Z",
     "iopub.status.idle": "2024-08-02T09:42:45.765404Z",
     "shell.execute_reply": "2024-08-02T09:42:45.764860Z"
    }
   },
   "outputs": [
    {
     "ename": "NameError",
     "evalue": "name 'dma_object' is not defined",
     "output_type": "error",
     "traceback": [
      "\u001b[0;31m---------------------------------------------------------------------------\u001b[0m",
      "\u001b[0;31mNameError\u001b[0m                                 Traceback (most recent call last)",
      "Cell \u001b[0;32mIn[7], line 1\u001b[0m\n\u001b[0;32m----> 1\u001b[0m stoichiometry_limits, fitted_curve \u001b[38;5;241m=\u001b[39m \u001b[43mdma_object\u001b[49m\u001b[38;5;241m.\u001b[39mfit_ocv(x_ne \u001b[38;5;241m=\u001b[39m z,\n\u001b[1;32m      2\u001b[0m                    x_pe \u001b[38;5;241m=\u001b[39m z,\n\u001b[1;32m      3\u001b[0m                    ocp_ne \u001b[38;5;241m=\u001b[39m ocp_ne,\n\u001b[1;32m      4\u001b[0m                    ocp_pe \u001b[38;5;241m=\u001b[39m ocp_pe,\n\u001b[1;32m      5\u001b[0m                    x_guess \u001b[38;5;241m=\u001b[39m [\u001b[38;5;241m0.9\u001b[39m, \u001b[38;5;241m0.1\u001b[39m, \u001b[38;5;241m0.1\u001b[39m, \u001b[38;5;241m0.9\u001b[39m],\n\u001b[1;32m      6\u001b[0m                    fitting_target \u001b[38;5;241m=\u001b[39m \u001b[38;5;124m'\u001b[39m\u001b[38;5;124mdQdV\u001b[39m\u001b[38;5;124m'\u001b[39m)\n\u001b[1;32m      7\u001b[0m \u001b[38;5;28mprint\u001b[39m(stoichiometry_limits\u001b[38;5;241m.\u001b[39mdata)\n\u001b[1;32m      8\u001b[0m fig \u001b[38;5;241m=\u001b[39m pyprobe\u001b[38;5;241m.\u001b[39mPlot()\n",
      "\u001b[0;31mNameError\u001b[0m: name 'dma_object' is not defined"
     ]
    }
   ],
   "source": [
    "stoichiometry_limits, fitted_curve = dma_object.fit_ocv(x_ne = z,\n",
    "                   x_pe = z,\n",
    "                   ocp_ne = ocp_ne,\n",
    "                   ocp_pe = ocp_pe,\n",
    "                   x_guess = [0.9, 0.1, 0.1, 0.9],\n",
    "                   fitting_target = 'dQdV')\n",
    "print(stoichiometry_limits.data)\n",
    "fig = pyprobe.Plot()\n",
    "fig.add_line(fitted_curve, x='SOC', y='Input dSOCdV [1/V]',label = \"Input\")\n",
    "fig.add_line(fitted_curve, x='SOC', y='Fitted dSOCdV [1/V]', color='red', label = 'Fit', dash='dash')\n",
    "fig.show()"
   ]
  }
 ],
 "metadata": {
  "kernelspec": {
   "display_name": "pyprobe-dev",
   "language": "python",
   "name": "python3"
  },
  "language_info": {
   "codemirror_mode": {
    "name": "ipython",
    "version": 3
   },
   "file_extension": ".py",
   "mimetype": "text/x-python",
   "name": "python",
   "nbconvert_exporter": "python",
   "pygments_lexer": "ipython3",
   "version": "3.11.9"
  }
 },
 "nbformat": 4,
 "nbformat_minor": 2
}
