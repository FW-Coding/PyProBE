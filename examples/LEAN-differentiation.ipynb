{
 "cells": [
  {
   "cell_type": "markdown",
   "metadata": {},
   "source": [
    "# Differentiating with the LEAN algorithm\n",
    "This example shows how to differentiate cycler data using the LEAN algorithm developed by "
   ]
  },
  {
   "cell_type": "markdown",
   "metadata": {},
   "source": [
    "First import the package and dataset:"
   ]
  },
  {
   "cell_type": "code",
   "execution_count": 1,
   "metadata": {
    "execution": {
     "iopub.execute_input": "2024-08-02T09:42:37.871337Z",
     "iopub.status.busy": "2024-08-02T09:42:37.870729Z",
     "iopub.status.idle": "2024-08-02T09:42:38.010302Z",
     "shell.execute_reply": "2024-08-02T09:42:38.009655Z"
    }
   },
   "outputs": [
    {
     "ename": "ModuleNotFoundError",
     "evalue": "No module named 'pyprobe'",
     "output_type": "error",
     "traceback": [
      "\u001b[0;31m---------------------------------------------------------------------------\u001b[0m",
      "\u001b[0;31mModuleNotFoundError\u001b[0m                       Traceback (most recent call last)",
      "Cell \u001b[0;32mIn[1], line 1\u001b[0m\n\u001b[0;32m----> 1\u001b[0m \u001b[38;5;28;01mimport\u001b[39;00m \u001b[38;5;21;01mpyprobe\u001b[39;00m\n\u001b[1;32m      2\u001b[0m \u001b[38;5;28;01mimport\u001b[39;00m \u001b[38;5;21;01mnumpy\u001b[39;00m \u001b[38;5;28;01mas\u001b[39;00m \u001b[38;5;21;01mnp\u001b[39;00m\n\u001b[1;32m      3\u001b[0m info_dictionary \u001b[38;5;241m=\u001b[39m {\u001b[38;5;124m'\u001b[39m\u001b[38;5;124mName\u001b[39m\u001b[38;5;124m'\u001b[39m: \u001b[38;5;124m'\u001b[39m\u001b[38;5;124mSample cell\u001b[39m\u001b[38;5;124m'\u001b[39m,\n\u001b[1;32m      4\u001b[0m                    \u001b[38;5;124m'\u001b[39m\u001b[38;5;124mChemistry\u001b[39m\u001b[38;5;124m'\u001b[39m: \u001b[38;5;124m'\u001b[39m\u001b[38;5;124mNMC622\u001b[39m\u001b[38;5;124m'\u001b[39m,\n\u001b[1;32m      5\u001b[0m                    \u001b[38;5;124m'\u001b[39m\u001b[38;5;124mNominal Capacity [Ah]\u001b[39m\u001b[38;5;124m'\u001b[39m: \u001b[38;5;241m0.04\u001b[39m,\n\u001b[1;32m      6\u001b[0m                    \u001b[38;5;124m'\u001b[39m\u001b[38;5;124mCycler number\u001b[39m\u001b[38;5;124m'\u001b[39m: \u001b[38;5;241m1\u001b[39m,\n\u001b[1;32m      7\u001b[0m                    \u001b[38;5;124m'\u001b[39m\u001b[38;5;124mChannel number\u001b[39m\u001b[38;5;124m'\u001b[39m: \u001b[38;5;241m1\u001b[39m,}\n",
      "\u001b[0;31mModuleNotFoundError\u001b[0m: No module named 'pyprobe'"
     ]
    }
   ],
   "source": [
    "import pyprobe\n",
    "import numpy as np\n",
    "info_dictionary = {'Name': 'Sample cell',\n",
    "                   'Chemistry': 'NMC622',\n",
    "                   'Nominal Capacity [Ah]': 0.04,\n",
    "                   'Cycler number': 1,\n",
    "                   'Channel number': 1,}\n",
    "data_directory = '../../../tests/sample_data/neware'\n",
    "\n",
    "# Create a cell object\n",
    "cell = pyprobe.Cell(info=info_dictionary)\n",
    "cell.add_procedure(procedure_name='Sample',\n",
    "                   folder_path = data_directory,\n",
    "                   filename = 'sample_data_neware.parquet')"
   ]
  },
  {
   "cell_type": "markdown",
   "metadata": {},
   "source": [
    "The break-in cycles of this dataset are at C/10, so can be analysed as pseudo-OCV curves. We're going to look at the last cycle:"
   ]
  },
  {
   "cell_type": "code",
   "execution_count": 2,
   "metadata": {
    "execution": {
     "iopub.execute_input": "2024-08-02T09:42:38.041666Z",
     "iopub.status.busy": "2024-08-02T09:42:38.041172Z",
     "iopub.status.idle": "2024-08-02T09:42:38.053494Z",
     "shell.execute_reply": "2024-08-02T09:42:38.052917Z"
    }
   },
   "outputs": [
    {
     "ename": "NameError",
     "evalue": "name 'cell' is not defined",
     "output_type": "error",
     "traceback": [
      "\u001b[0;31m---------------------------------------------------------------------------\u001b[0m",
      "\u001b[0;31mNameError\u001b[0m                                 Traceback (most recent call last)",
      "Cell \u001b[0;32mIn[2], line 1\u001b[0m\n\u001b[0;32m----> 1\u001b[0m final_cycle\u001b[38;5;241m=\u001b[39m \u001b[43mcell\u001b[49m\u001b[38;5;241m.\u001b[39mprocedure[\u001b[38;5;124m'\u001b[39m\u001b[38;5;124mSample\u001b[39m\u001b[38;5;124m'\u001b[39m]\u001b[38;5;241m.\u001b[39mexperiment(\u001b[38;5;124m'\u001b[39m\u001b[38;5;124mBreak-in Cycles\u001b[39m\u001b[38;5;124m'\u001b[39m)\u001b[38;5;241m.\u001b[39mcycle(\u001b[38;5;241m-\u001b[39m\u001b[38;5;241m1\u001b[39m)\n\u001b[1;32m      2\u001b[0m fig \u001b[38;5;241m=\u001b[39m pyprobe\u001b[38;5;241m.\u001b[39mPlot()\n\u001b[1;32m      3\u001b[0m fig\u001b[38;5;241m.\u001b[39madd_line(final_cycle, \u001b[38;5;124m'\u001b[39m\u001b[38;5;124mTime [hr]\u001b[39m\u001b[38;5;124m'\u001b[39m, \u001b[38;5;124m'\u001b[39m\u001b[38;5;124mVoltage [V]\u001b[39m\u001b[38;5;124m'\u001b[39m)\n",
      "\u001b[0;31mNameError\u001b[0m: name 'cell' is not defined"
     ]
    }
   ],
   "source": [
    "final_cycle= cell.procedure['Sample'].experiment('Break-in Cycles').cycle(-1)\n",
    "fig = pyprobe.Plot()\n",
    "fig.add_line(final_cycle, 'Time [hr]', 'Voltage [V]')\n",
    "fig.show()"
   ]
  },
  {
   "cell_type": "markdown",
   "metadata": {},
   "source": [
    "We start the analysis by first creating the analysis objects:"
   ]
  },
  {
   "cell_type": "code",
   "execution_count": 3,
   "metadata": {
    "execution": {
     "iopub.execute_input": "2024-08-02T09:42:38.055591Z",
     "iopub.status.busy": "2024-08-02T09:42:38.055423Z",
     "iopub.status.idle": "2024-08-02T09:42:38.066852Z",
     "shell.execute_reply": "2024-08-02T09:42:38.066238Z"
    }
   },
   "outputs": [
    {
     "ename": "ModuleNotFoundError",
     "evalue": "No module named 'pyprobe'",
     "output_type": "error",
     "traceback": [
      "\u001b[0;31m---------------------------------------------------------------------------\u001b[0m",
      "\u001b[0;31mModuleNotFoundError\u001b[0m                       Traceback (most recent call last)",
      "Cell \u001b[0;32mIn[3], line 1\u001b[0m\n\u001b[0;32m----> 1\u001b[0m \u001b[38;5;28;01mfrom\u001b[39;00m \u001b[38;5;21;01mpyprobe\u001b[39;00m\u001b[38;5;21;01m.\u001b[39;00m\u001b[38;5;21;01manalysis\u001b[39;00m\u001b[38;5;21;01m.\u001b[39;00m\u001b[38;5;21;01mdifferentiation\u001b[39;00m \u001b[38;5;28;01mimport\u001b[39;00m Differentiation\n\u001b[1;32m      3\u001b[0m discharge_differentiation \u001b[38;5;241m=\u001b[39m Differentiation(input_data \u001b[38;5;241m=\u001b[39m final_cycle\u001b[38;5;241m.\u001b[39mdischarge(\u001b[38;5;241m0\u001b[39m))\n\u001b[1;32m      4\u001b[0m charge_differentiation \u001b[38;5;241m=\u001b[39m Differentiation(input_data \u001b[38;5;241m=\u001b[39m final_cycle\u001b[38;5;241m.\u001b[39mcharge(\u001b[38;5;241m0\u001b[39m)\u001b[38;5;241m.\u001b[39mconstant_current())\n",
      "\u001b[0;31mModuleNotFoundError\u001b[0m: No module named 'pyprobe'"
     ]
    }
   ],
   "source": [
    "from pyprobe.analysis.differentiation import Differentiation\n",
    "\n",
    "discharge_differentiation = Differentiation(input_data = final_cycle.discharge(0))\n",
    "charge_differentiation = Differentiation(input_data = final_cycle.charge(0).constant_current())"
   ]
  },
  {
   "cell_type": "code",
   "execution_count": 4,
   "metadata": {
    "execution": {
     "iopub.execute_input": "2024-08-02T09:42:38.069085Z",
     "iopub.status.busy": "2024-08-02T09:42:38.068767Z",
     "iopub.status.idle": "2024-08-02T09:42:38.082270Z",
     "shell.execute_reply": "2024-08-02T09:42:38.081600Z"
    }
   },
   "outputs": [
    {
     "ename": "NameError",
     "evalue": "name 'discharge_differentiation' is not defined",
     "output_type": "error",
     "traceback": [
      "\u001b[0;31m---------------------------------------------------------------------------\u001b[0m",
      "\u001b[0;31mNameError\u001b[0m                                 Traceback (most recent call last)",
      "Cell \u001b[0;32mIn[4], line 1\u001b[0m\n\u001b[0;32m----> 1\u001b[0m discharge_dQdV \u001b[38;5;241m=\u001b[39m \u001b[43mdischarge_differentiation\u001b[49m\u001b[38;5;241m.\u001b[39mdifferentiate_LEAN(x \u001b[38;5;241m=\u001b[39m \u001b[38;5;124m'\u001b[39m\u001b[38;5;124mCapacity [Ah]\u001b[39m\u001b[38;5;124m'\u001b[39m, y\u001b[38;5;241m=\u001b[39m\u001b[38;5;124m'\u001b[39m\u001b[38;5;124mVoltage [V]\u001b[39m\u001b[38;5;124m'\u001b[39m, k \u001b[38;5;241m=\u001b[39m \u001b[38;5;241m10\u001b[39m, gradient \u001b[38;5;241m=\u001b[39m \u001b[38;5;124m'\u001b[39m\u001b[38;5;124mdxdy\u001b[39m\u001b[38;5;124m'\u001b[39m)\n\u001b[1;32m      2\u001b[0m charge_dQdV \u001b[38;5;241m=\u001b[39m charge_differentiation\u001b[38;5;241m.\u001b[39mdifferentiate_LEAN(x \u001b[38;5;241m=\u001b[39m \u001b[38;5;124m'\u001b[39m\u001b[38;5;124mCapacity [Ah]\u001b[39m\u001b[38;5;124m'\u001b[39m, y\u001b[38;5;241m=\u001b[39m\u001b[38;5;124m'\u001b[39m\u001b[38;5;124mVoltage [V]\u001b[39m\u001b[38;5;124m'\u001b[39m, k \u001b[38;5;241m=\u001b[39m \u001b[38;5;241m10\u001b[39m, gradient \u001b[38;5;241m=\u001b[39m \u001b[38;5;124m'\u001b[39m\u001b[38;5;124mdxdy\u001b[39m\u001b[38;5;124m'\u001b[39m)\n\u001b[1;32m      3\u001b[0m fig \u001b[38;5;241m=\u001b[39m pyprobe\u001b[38;5;241m.\u001b[39mPlot()\n",
      "\u001b[0;31mNameError\u001b[0m: name 'discharge_differentiation' is not defined"
     ]
    }
   ],
   "source": [
    "discharge_dQdV = discharge_differentiation.differentiate_LEAN(x = 'Capacity [Ah]', y='Voltage [V]', k = 10, gradient = 'dxdy')\n",
    "charge_dQdV = charge_differentiation.differentiate_LEAN(x = 'Capacity [Ah]', y='Voltage [V]', k = 10, gradient = 'dxdy')\n",
    "fig = pyprobe.Plot()\n",
    "fig.add_line(discharge_dQdV, 'Capacity [Ah]', 'd(Capacity [Ah])/d(Voltage [V])', label='Discharge', color='blue')\n",
    "fig.add_line(charge_dQdV, 'Capacity [Ah]', 'd(Capacity [Ah])/d(Voltage [V])', label='Charge', color='red')\n",
    "fig.show()"
   ]
  },
  {
   "cell_type": "markdown",
   "metadata": {},
   "source": [
    "On-the-fly unit conversion allows this to be computed in whichever unit you choose:"
   ]
  },
  {
   "cell_type": "code",
   "execution_count": 5,
   "metadata": {
    "execution": {
     "iopub.execute_input": "2024-08-02T09:42:38.084397Z",
     "iopub.status.busy": "2024-08-02T09:42:38.084230Z",
     "iopub.status.idle": "2024-08-02T09:42:38.097482Z",
     "shell.execute_reply": "2024-08-02T09:42:38.096843Z"
    }
   },
   "outputs": [
    {
     "ename": "NameError",
     "evalue": "name 'discharge_differentiation' is not defined",
     "output_type": "error",
     "traceback": [
      "\u001b[0;31m---------------------------------------------------------------------------\u001b[0m",
      "\u001b[0;31mNameError\u001b[0m                                 Traceback (most recent call last)",
      "Cell \u001b[0;32mIn[5], line 1\u001b[0m\n\u001b[0;32m----> 1\u001b[0m discharge_dQdV \u001b[38;5;241m=\u001b[39m \u001b[43mdischarge_differentiation\u001b[49m\u001b[38;5;241m.\u001b[39mdifferentiate_LEAN(x \u001b[38;5;241m=\u001b[39m \u001b[38;5;124m'\u001b[39m\u001b[38;5;124mCapacity [mAh]\u001b[39m\u001b[38;5;124m'\u001b[39m, y\u001b[38;5;241m=\u001b[39m\u001b[38;5;124m'\u001b[39m\u001b[38;5;124mVoltage [V]\u001b[39m\u001b[38;5;124m'\u001b[39m, k \u001b[38;5;241m=\u001b[39m \u001b[38;5;241m10\u001b[39m, gradient \u001b[38;5;241m=\u001b[39m \u001b[38;5;124m'\u001b[39m\u001b[38;5;124mdxdy\u001b[39m\u001b[38;5;124m'\u001b[39m)\n\u001b[1;32m      2\u001b[0m charge_dQdV \u001b[38;5;241m=\u001b[39m charge_differentiation\u001b[38;5;241m.\u001b[39mdifferentiate_LEAN(x \u001b[38;5;241m=\u001b[39m \u001b[38;5;124m'\u001b[39m\u001b[38;5;124mCapacity [mAh]\u001b[39m\u001b[38;5;124m'\u001b[39m, y\u001b[38;5;241m=\u001b[39m\u001b[38;5;124m'\u001b[39m\u001b[38;5;124mVoltage [V]\u001b[39m\u001b[38;5;124m'\u001b[39m, k \u001b[38;5;241m=\u001b[39m \u001b[38;5;241m10\u001b[39m, gradient \u001b[38;5;241m=\u001b[39m \u001b[38;5;124m'\u001b[39m\u001b[38;5;124mdxdy\u001b[39m\u001b[38;5;124m'\u001b[39m)\n\u001b[1;32m      3\u001b[0m fig \u001b[38;5;241m=\u001b[39m pyprobe\u001b[38;5;241m.\u001b[39mPlot()\n",
      "\u001b[0;31mNameError\u001b[0m: name 'discharge_differentiation' is not defined"
     ]
    }
   ],
   "source": [
    "discharge_dQdV = discharge_differentiation.differentiate_LEAN(x = 'Capacity [mAh]', y='Voltage [V]', k = 10, gradient = 'dxdy')\n",
    "charge_dQdV = charge_differentiation.differentiate_LEAN(x = 'Capacity [mAh]', y='Voltage [V]', k = 10, gradient = 'dxdy')\n",
    "fig = pyprobe.Plot()\n",
    "fig.add_line(discharge_dQdV, 'Capacity [mAh]', 'd(Capacity [mAh])/d(Voltage [V])', label='Discharge', color='blue')\n",
    "fig.add_line(charge_dQdV, 'Capacity [mAh]', 'd(Capacity [mAh])/d(Voltage [V])', label='Charge', color='red')\n",
    "fig.show()"
   ]
  },
  {
   "cell_type": "markdown",
   "metadata": {},
   "source": [
    "To align the curves, we can instead plot `Cycle Capacity [Ah]` which is set to zero at the beginning of the filtered cycle."
   ]
  },
  {
   "cell_type": "code",
   "execution_count": 6,
   "metadata": {
    "execution": {
     "iopub.execute_input": "2024-08-02T09:42:38.099677Z",
     "iopub.status.busy": "2024-08-02T09:42:38.099503Z",
     "iopub.status.idle": "2024-08-02T09:42:38.112911Z",
     "shell.execute_reply": "2024-08-02T09:42:38.112224Z"
    }
   },
   "outputs": [
    {
     "ename": "NameError",
     "evalue": "name 'discharge_differentiation' is not defined",
     "output_type": "error",
     "traceback": [
      "\u001b[0;31m---------------------------------------------------------------------------\u001b[0m",
      "\u001b[0;31mNameError\u001b[0m                                 Traceback (most recent call last)",
      "Cell \u001b[0;32mIn[6], line 1\u001b[0m\n\u001b[0;32m----> 1\u001b[0m discharge_dQdV \u001b[38;5;241m=\u001b[39m \u001b[43mdischarge_differentiation\u001b[49m\u001b[38;5;241m.\u001b[39mdifferentiate_LEAN(x \u001b[38;5;241m=\u001b[39m \u001b[38;5;124m'\u001b[39m\u001b[38;5;124mCycle Capacity [Ah]\u001b[39m\u001b[38;5;124m'\u001b[39m, y\u001b[38;5;241m=\u001b[39m\u001b[38;5;124m'\u001b[39m\u001b[38;5;124mVoltage [V]\u001b[39m\u001b[38;5;124m'\u001b[39m, k \u001b[38;5;241m=\u001b[39m \u001b[38;5;241m10\u001b[39m, gradient \u001b[38;5;241m=\u001b[39m \u001b[38;5;124m'\u001b[39m\u001b[38;5;124mdxdy\u001b[39m\u001b[38;5;124m'\u001b[39m)\n\u001b[1;32m      2\u001b[0m charge_dQdV \u001b[38;5;241m=\u001b[39m charge_differentiation\u001b[38;5;241m.\u001b[39mdifferentiate_LEAN(x \u001b[38;5;241m=\u001b[39m \u001b[38;5;124m'\u001b[39m\u001b[38;5;124mCycle Capacity [Ah]\u001b[39m\u001b[38;5;124m'\u001b[39m, y\u001b[38;5;241m=\u001b[39m\u001b[38;5;124m'\u001b[39m\u001b[38;5;124mVoltage [V]\u001b[39m\u001b[38;5;124m'\u001b[39m, k \u001b[38;5;241m=\u001b[39m \u001b[38;5;241m10\u001b[39m, gradient \u001b[38;5;241m=\u001b[39m \u001b[38;5;124m'\u001b[39m\u001b[38;5;124mdxdy\u001b[39m\u001b[38;5;124m'\u001b[39m)\n\u001b[1;32m      3\u001b[0m fig \u001b[38;5;241m=\u001b[39m pyprobe\u001b[38;5;241m.\u001b[39mPlot()\n",
      "\u001b[0;31mNameError\u001b[0m: name 'discharge_differentiation' is not defined"
     ]
    }
   ],
   "source": [
    "discharge_dQdV = discharge_differentiation.differentiate_LEAN(x = 'Cycle Capacity [Ah]', y='Voltage [V]', k = 10, gradient = 'dxdy')\n",
    "charge_dQdV = charge_differentiation.differentiate_LEAN(x = 'Cycle Capacity [Ah]', y='Voltage [V]', k = 10, gradient = 'dxdy')\n",
    "fig = pyprobe.Plot()\n",
    "fig.add_line(discharge_dQdV, 'Cycle Capacity [Ah]', 'd(Cycle Capacity [Ah])/d(Voltage [V])', label='Discharge', color='blue')\n",
    "fig.add_line(charge_dQdV, 'Cycle Capacity [Ah]', 'd(Cycle Capacity [Ah])/d(Voltage [V])', label='Charge', color='red')\n",
    "fig.show()"
   ]
  },
  {
   "cell_type": "markdown",
   "metadata": {},
   "source": [
    "The LEAN method is only applicable when the `x` data is uniformly spaced. The example above uses the default method behaviour of differentiating only the longest uniformly spaced period. If your `x` data has multiple uniformly spaced periods, however, you can use this method with the `section = 'all'` option.\n",
    "\n",
    "The pulse below has two sampling periods:"
   ]
  },
  {
   "cell_type": "code",
   "execution_count": 7,
   "metadata": {
    "execution": {
     "iopub.execute_input": "2024-08-02T09:42:38.115174Z",
     "iopub.status.busy": "2024-08-02T09:42:38.115006Z",
     "iopub.status.idle": "2024-08-02T09:42:38.126843Z",
     "shell.execute_reply": "2024-08-02T09:42:38.126144Z"
    }
   },
   "outputs": [
    {
     "ename": "NameError",
     "evalue": "name 'cell' is not defined",
     "output_type": "error",
     "traceback": [
      "\u001b[0;31m---------------------------------------------------------------------------\u001b[0m",
      "\u001b[0;31mNameError\u001b[0m                                 Traceback (most recent call last)",
      "Cell \u001b[0;32mIn[7], line 1\u001b[0m\n\u001b[0;32m----> 1\u001b[0m pulse_rest \u001b[38;5;241m=\u001b[39m \u001b[43mcell\u001b[49m\u001b[38;5;241m.\u001b[39mprocedure[\u001b[38;5;124m'\u001b[39m\u001b[38;5;124mSample\u001b[39m\u001b[38;5;124m'\u001b[39m]\u001b[38;5;241m.\u001b[39mexperiment(\u001b[38;5;124m'\u001b[39m\u001b[38;5;124mDischarge Pulses\u001b[39m\u001b[38;5;124m'\u001b[39m)\u001b[38;5;241m.\u001b[39mrest(\u001b[38;5;241m7\u001b[39m,\u001b[38;5;241m8\u001b[39m)\n\u001b[1;32m      2\u001b[0m \u001b[38;5;28mprint\u001b[39m(\u001b[38;5;124m'\u001b[39m\u001b[38;5;124mdt = \u001b[39m\u001b[38;5;124m'\u001b[39m, np\u001b[38;5;241m.\u001b[39mdiff(pulse_rest\u001b[38;5;241m.\u001b[39mget(\u001b[38;5;124m'\u001b[39m\u001b[38;5;124mTime [s]\u001b[39m\u001b[38;5;124m'\u001b[39m)))\n\u001b[1;32m      4\u001b[0m fig \u001b[38;5;241m=\u001b[39m pyprobe\u001b[38;5;241m.\u001b[39mPlot()\n",
      "\u001b[0;31mNameError\u001b[0m: name 'cell' is not defined"
     ]
    }
   ],
   "source": [
    "pulse_rest = cell.procedure['Sample'].experiment('Discharge Pulses').rest(7,8)\n",
    "print('dt = ', np.diff(pulse_rest.get('Time [s]')))\n",
    "\n",
    "fig = pyprobe.Plot()\n",
    "fig.add_line(pulse_rest, 'Time [s]', 'Voltage [V]')\n",
    "fig.show()"
   ]
  }
 ],
 "metadata": {
  "kernelspec": {
   "display_name": "pyprobe-dev",
   "language": "python",
   "name": "python3"
  },
  "language_info": {
   "codemirror_mode": {
    "name": "ipython",
    "version": 3
   },
   "file_extension": ".py",
   "mimetype": "text/x-python",
   "name": "python",
   "nbconvert_exporter": "python",
   "pygments_lexer": "ipython3",
   "version": "3.11.9"
  }
 },
 "nbformat": 4,
 "nbformat_minor": 2
}
