{
 "cells": [
  {
   "cell_type": "markdown",
   "metadata": {},
   "source": [
    "# Comparing PyProBE Performance\n",
    "\n",
    "This example will demonstrate the performance benefits of PyProBE against Pandas, a popular library for dataframes."
   ]
  },
  {
   "cell_type": "code",
   "execution_count": 1,
   "metadata": {
    "execution": {
     "iopub.execute_input": "2024-08-02T09:42:39.637153Z",
     "iopub.status.busy": "2024-08-02T09:42:39.636702Z",
     "iopub.status.idle": "2024-08-02T09:42:39.777298Z",
     "shell.execute_reply": "2024-08-02T09:42:39.776585Z"
    }
   },
   "outputs": [
    {
     "ename": "ModuleNotFoundError",
     "evalue": "No module named 'pyprobe'",
     "output_type": "error",
     "traceback": [
      "\u001b[0;31m---------------------------------------------------------------------------\u001b[0m",
      "\u001b[0;31mModuleNotFoundError\u001b[0m                       Traceback (most recent call last)",
      "Cell \u001b[0;32mIn[1], line 1\u001b[0m\n\u001b[0;32m----> 1\u001b[0m \u001b[38;5;28;01mimport\u001b[39;00m \u001b[38;5;21;01mpyprobe\u001b[39;00m\n\u001b[1;32m      2\u001b[0m \u001b[38;5;28;01mimport\u001b[39;00m \u001b[38;5;21;01mpandas\u001b[39;00m \u001b[38;5;28;01mas\u001b[39;00m \u001b[38;5;21;01mpd\u001b[39;00m\n\u001b[1;32m      3\u001b[0m \u001b[38;5;28;01mimport\u001b[39;00m \u001b[38;5;21;01mtimeit\u001b[39;00m\n",
      "\u001b[0;31mModuleNotFoundError\u001b[0m: No module named 'pyprobe'"
     ]
    }
   ],
   "source": [
    "import pyprobe\n",
    "import pandas as pd\n",
    "import timeit\n",
    "import numpy as np\n",
    "import matplotlib.pyplot as plt"
   ]
  },
  {
   "cell_type": "markdown",
   "metadata": {},
   "source": [
    "Setting up data analysis in PyProBE requires conversion into the PyProBE format. This is normally the most time-intensive process, but only needs to be performed once."
   ]
  },
  {
   "cell_type": "code",
   "execution_count": 2,
   "metadata": {
    "execution": {
     "iopub.execute_input": "2024-08-02T09:42:39.779782Z",
     "iopub.status.busy": "2024-08-02T09:42:39.779600Z",
     "iopub.status.idle": "2024-08-02T09:42:39.792548Z",
     "shell.execute_reply": "2024-08-02T09:42:39.791902Z"
    }
   },
   "outputs": [
    {
     "ename": "NameError",
     "evalue": "name 'pyprobe' is not defined",
     "output_type": "error",
     "traceback": [
      "\u001b[0;31m---------------------------------------------------------------------------\u001b[0m",
      "\u001b[0;31mNameError\u001b[0m                                 Traceback (most recent call last)",
      "Cell \u001b[0;32mIn[2], line 7\u001b[0m\n\u001b[1;32m      1\u001b[0m info_dictionary \u001b[38;5;241m=\u001b[39m {\u001b[38;5;124m'\u001b[39m\u001b[38;5;124mName\u001b[39m\u001b[38;5;124m'\u001b[39m: \u001b[38;5;124m'\u001b[39m\u001b[38;5;124mSample cell\u001b[39m\u001b[38;5;124m'\u001b[39m,\n\u001b[1;32m      2\u001b[0m                    \u001b[38;5;124m'\u001b[39m\u001b[38;5;124mChemistry\u001b[39m\u001b[38;5;124m'\u001b[39m: \u001b[38;5;124m'\u001b[39m\u001b[38;5;124mNMC622\u001b[39m\u001b[38;5;124m'\u001b[39m,\n\u001b[1;32m      3\u001b[0m                    \u001b[38;5;124m'\u001b[39m\u001b[38;5;124mNominal Capacity [Ah]\u001b[39m\u001b[38;5;124m'\u001b[39m: \u001b[38;5;241m0.04\u001b[39m,\n\u001b[1;32m      4\u001b[0m                    \u001b[38;5;124m'\u001b[39m\u001b[38;5;124mCycler number\u001b[39m\u001b[38;5;124m'\u001b[39m: \u001b[38;5;241m1\u001b[39m,\n\u001b[1;32m      5\u001b[0m                    \u001b[38;5;124m'\u001b[39m\u001b[38;5;124mChannel number\u001b[39m\u001b[38;5;124m'\u001b[39m: \u001b[38;5;241m1\u001b[39m,}\n\u001b[0;32m----> 7\u001b[0m cell \u001b[38;5;241m=\u001b[39m \u001b[43mpyprobe\u001b[49m\u001b[38;5;241m.\u001b[39mCell(info \u001b[38;5;241m=\u001b[39minfo_dictionary)\n\u001b[1;32m      8\u001b[0m data_directory \u001b[38;5;241m=\u001b[39m \u001b[38;5;124m'\u001b[39m\u001b[38;5;124m../../../tests/sample_data/neware\u001b[39m\u001b[38;5;124m'\u001b[39m\n\u001b[1;32m      9\u001b[0m \u001b[38;5;66;03m# cell.process_cycler_file(cycler='neware',\u001b[39;00m\n\u001b[1;32m     10\u001b[0m \u001b[38;5;66;03m#                         folder_path=data_directory,\u001b[39;00m\n\u001b[1;32m     11\u001b[0m \u001b[38;5;66;03m#                         input_filename='sample_data_neware.xlsx',\u001b[39;00m\n\u001b[1;32m     12\u001b[0m \u001b[38;5;66;03m#                         output_filename='sample_data_neware.parquet')\u001b[39;00m\n",
      "\u001b[0;31mNameError\u001b[0m: name 'pyprobe' is not defined"
     ]
    }
   ],
   "source": [
    "info_dictionary = {'Name': 'Sample cell',\n",
    "                   'Chemistry': 'NMC622',\n",
    "                   'Nominal Capacity [Ah]': 0.04,\n",
    "                   'Cycler number': 1,\n",
    "                   'Channel number': 1,}\n",
    "\n",
    "cell = pyprobe.Cell(info =info_dictionary)\n",
    "data_directory = '../../../tests/sample_data/neware'\n",
    "# cell.process_cycler_file(cycler='neware',\n",
    "#                         folder_path=data_directory,\n",
    "#                         input_filename='sample_data_neware.xlsx',\n",
    "#                         output_filename='sample_data_neware.parquet')"
   ]
  },
  {
   "cell_type": "markdown",
   "metadata": {},
   "source": [
    "We will measure the time for PyProBE and Pandas to read from a parquet file and filter the data a few times. With PyProBE we can call the built-in filtering methods, whereas Pandas must perform the filtering manually."
   ]
  },
  {
   "cell_type": "code",
   "execution_count": 3,
   "metadata": {
    "execution": {
     "iopub.execute_input": "2024-08-02T09:42:39.794894Z",
     "iopub.status.busy": "2024-08-02T09:42:39.794599Z",
     "iopub.status.idle": "2024-08-02T09:42:39.804018Z",
     "shell.execute_reply": "2024-08-02T09:42:39.803433Z"
    }
   },
   "outputs": [],
   "source": [
    "def measure_pyprobe(repeats, file):\n",
    "    steps = 5\n",
    "    cumulative_time = np.zeros((steps,repeats))\n",
    "    for repeat in range(repeats):\n",
    "        start_time = timeit.default_timer()\n",
    "        cell.add_procedure(procedure_name='Sample',\n",
    "                   folder_path = data_directory,\n",
    "                   filename = file)\n",
    "        cumulative_time[0, repeat] = timeit.default_timer() - start_time\n",
    "        \n",
    "        experiment = cell.procedure['Sample'].experiment('Break-in Cycles')\n",
    "        cumulative_time[1, repeat] =timeit.default_timer() - start_time\n",
    "        \n",
    "        cycle = experiment.cycle(1)\n",
    "        cumulative_time[2, repeat] =timeit.default_timer() - start_time\n",
    "        \n",
    "        step = cycle.discharge(0)\n",
    "        cumulative_time[3, repeat] = timeit.default_timer() - start_time\n",
    "\n",
    "        voltage = step.get(\"Voltage [V]\")\n",
    "        cumulative_time[4, repeat] = timeit.default_timer() - start_time\n",
    "    \n",
    "    return cumulative_time, voltage\n",
    "\n",
    "\n",
    "def measure_pandas(repeats, file):\n",
    "    steps = 5\n",
    "    cumulative_time = np.zeros((steps,repeats))\n",
    "    for repeat in range(repeats):\n",
    "        start_time = timeit.default_timer()\n",
    "        df = pd.read_parquet(data_directory + '/' + file)\n",
    "        cumulative_time[0, repeat] = timeit.default_timer() - start_time\n",
    "\n",
    "        experiment = df[df['Step'].isin([4, 5, 6, 7])]\n",
    "        cumulative_time[1, repeat] = timeit.default_timer() - start_time\n",
    "\n",
    "        unique_cycles = experiment['Cycle'].unique()\n",
    "        \n",
    "        cycle = experiment[experiment['Cycle'] == unique_cycles[1]]\n",
    "        cumulative_time[2, repeat] =timeit.default_timer() - start_time\n",
    "        \n",
    "        step = cycle[cycle['Current [A]'] < 0]\n",
    "        unique_events = step['Event'].unique()\n",
    "        step = step[step['Event'] == unique_events[0]]\n",
    "        cumulative_time[3, repeat] =timeit.default_timer() - start_time\n",
    "\n",
    "        voltage = step['Voltage [V]'].values\n",
    "        cumulative_time[4, repeat] = timeit.default_timer() - start_time\n",
    "    \n",
    "    return cumulative_time, voltage\n",
    "\n",
    "def make_boxplots(total_time_polars, total_time_pandas):\n",
    "    data_polars = [total_time_polars[i, :] for i in range(total_time_polars.shape[0])]\n",
    "    data_pandas = [total_time_pandas[i, :] for i in range(total_time_pandas.shape[0])]\n",
    "\n",
    "    # Create labels for the boxplots\n",
    "    labels = [\"Read file\", \"Select experiment\", \"Select cycle\", \"Select step\", \"Select voltage\"]\n",
    "    # Create the subplots\n",
    "    fig, (ax1, ax2) = plt.subplots(1, 2, figsize=(14, 6), sharey=True)\n",
    "\n",
    "    # Boxplot for Polars\n",
    "    ax1.boxplot(data_polars, labels=labels, vert=True, patch_artist=True)\n",
    "    ax1.set_title('PyProBE Execution Time')\n",
    "    ax1.set_ylabel('Time (seconds)')\n",
    "\n",
    "    # Boxplot for Pandas\n",
    "    ax2.boxplot(data_pandas, labels=labels, vert=True, patch_artist=True)\n",
    "    ax2.set_title('Pandas Execution Time')\n",
    "    ax2.yaxis.set_visible(False)  # Remove y-axis on the right-hand subplot\n",
    "\n",
    "    # Adjust layout\n",
    "    plt.tight_layout()\n",
    "    plt.show()\n"
   ]
  },
  {
   "cell_type": "markdown",
   "metadata": {},
   "source": [
    "Running the tests shows the initial overhead for PyProBE to read and filter the data is zero. This is because of the Lazy implementation where all the computation is delayed until the final request for data is made. Overall, it is faster than Pandas as the polars backend is able to optimize the filtering process, instead of requiring filters to be performed one-by-one."
   ]
  },
  {
   "cell_type": "code",
   "execution_count": 4,
   "metadata": {
    "execution": {
     "iopub.execute_input": "2024-08-02T09:42:39.806206Z",
     "iopub.status.busy": "2024-08-02T09:42:39.806034Z",
     "iopub.status.idle": "2024-08-02T09:42:39.831596Z",
     "shell.execute_reply": "2024-08-02T09:42:39.831154Z"
    }
   },
   "outputs": [
    {
     "ename": "NameError",
     "evalue": "name 'np' is not defined",
     "output_type": "error",
     "traceback": [
      "\u001b[0;31m---------------------------------------------------------------------------\u001b[0m",
      "\u001b[0;31mNameError\u001b[0m                                 Traceback (most recent call last)",
      "Cell \u001b[0;32mIn[4], line 2\u001b[0m\n\u001b[1;32m      1\u001b[0m repeats \u001b[38;5;241m=\u001b[39m \u001b[38;5;241m10\u001b[39m\n\u001b[0;32m----> 2\u001b[0m total_time_polars, voltage_pyprobe \u001b[38;5;241m=\u001b[39m \u001b[43mmeasure_pyprobe\u001b[49m\u001b[43m(\u001b[49m\u001b[43mrepeats\u001b[49m\u001b[43m,\u001b[49m\u001b[43m \u001b[49m\u001b[38;5;124;43m'\u001b[39;49m\u001b[38;5;124;43msample_data_neware.parquet\u001b[39;49m\u001b[38;5;124;43m'\u001b[39;49m\u001b[43m)\u001b[49m\n\u001b[1;32m      3\u001b[0m total_time_pandas, voltage_pandas \u001b[38;5;241m=\u001b[39m measure_pandas(repeats, \u001b[38;5;124m'\u001b[39m\u001b[38;5;124msample_data_neware.parquet\u001b[39m\u001b[38;5;124m'\u001b[39m)\n\u001b[1;32m      4\u001b[0m make_boxplots(total_time_polars, total_time_pandas)\n",
      "Cell \u001b[0;32mIn[3], line 3\u001b[0m, in \u001b[0;36mmeasure_pyprobe\u001b[0;34m(repeats, file)\u001b[0m\n\u001b[1;32m      1\u001b[0m \u001b[38;5;28;01mdef\u001b[39;00m \u001b[38;5;21mmeasure_pyprobe\u001b[39m(repeats, file):\n\u001b[1;32m      2\u001b[0m     steps \u001b[38;5;241m=\u001b[39m \u001b[38;5;241m5\u001b[39m\n\u001b[0;32m----> 3\u001b[0m     cumulative_time \u001b[38;5;241m=\u001b[39m \u001b[43mnp\u001b[49m\u001b[38;5;241m.\u001b[39mzeros((steps,repeats))\n\u001b[1;32m      4\u001b[0m     \u001b[38;5;28;01mfor\u001b[39;00m repeat \u001b[38;5;129;01min\u001b[39;00m \u001b[38;5;28mrange\u001b[39m(repeats):\n\u001b[1;32m      5\u001b[0m         start_time \u001b[38;5;241m=\u001b[39m timeit\u001b[38;5;241m.\u001b[39mdefault_timer()\n",
      "\u001b[0;31mNameError\u001b[0m: name 'np' is not defined"
     ]
    }
   ],
   "source": [
    "repeats = 10\n",
    "total_time_polars, voltage_pyprobe = measure_pyprobe(repeats, 'sample_data_neware.parquet')\n",
    "total_time_pandas, voltage_pandas = measure_pandas(repeats, 'sample_data_neware.parquet')\n",
    "make_boxplots(total_time_polars, total_time_pandas)\n",
    "assert np.allclose(voltage_pyprobe, voltage_pandas)"
   ]
  },
  {
   "cell_type": "markdown",
   "metadata": {},
   "source": [
    "We will now extend the input data, to demonstrate how much more scalable the Polars approach is."
   ]
  },
  {
   "cell_type": "code",
   "execution_count": 5,
   "metadata": {
    "execution": {
     "iopub.execute_input": "2024-08-02T09:42:39.833863Z",
     "iopub.status.busy": "2024-08-02T09:42:39.833499Z",
     "iopub.status.idle": "2024-08-02T09:42:39.846505Z",
     "shell.execute_reply": "2024-08-02T09:42:39.845934Z"
    }
   },
   "outputs": [
    {
     "ename": "NameError",
     "evalue": "name 'pd' is not defined",
     "output_type": "error",
     "traceback": [
      "\u001b[0;31m---------------------------------------------------------------------------\u001b[0m",
      "\u001b[0;31mNameError\u001b[0m                                 Traceback (most recent call last)",
      "Cell \u001b[0;32mIn[5], line 1\u001b[0m\n\u001b[0;32m----> 1\u001b[0m df \u001b[38;5;241m=\u001b[39m \u001b[43mpd\u001b[49m\u001b[38;5;241m.\u001b[39mread_parquet(data_directory \u001b[38;5;241m+\u001b[39m \u001b[38;5;124m'\u001b[39m\u001b[38;5;124m/sample_data_neware.parquet\u001b[39m\u001b[38;5;124m'\u001b[39m)\n\u001b[1;32m      2\u001b[0m extended_df \u001b[38;5;241m=\u001b[39m pd\u001b[38;5;241m.\u001b[39mconcat([df] \u001b[38;5;241m*\u001b[39m \u001b[38;5;241m25\u001b[39m, ignore_index\u001b[38;5;241m=\u001b[39m\u001b[38;5;28;01mTrue\u001b[39;00m)\n\u001b[1;32m      3\u001b[0m extended_df\u001b[38;5;241m.\u001b[39mto_parquet(data_directory \u001b[38;5;241m+\u001b[39m \u001b[38;5;124m'\u001b[39m\u001b[38;5;124m/sample_data_neware_extended.parquet\u001b[39m\u001b[38;5;124m'\u001b[39m)\n",
      "\u001b[0;31mNameError\u001b[0m: name 'pd' is not defined"
     ]
    }
   ],
   "source": [
    "df = pd.read_parquet(data_directory + '/sample_data_neware.parquet')\n",
    "extended_df = pd.concat([df] * 25, ignore_index=True)\n",
    "extended_df.to_parquet(data_directory + '/sample_data_neware_extended.parquet')\n",
    "print(len(df))\n",
    "print(len(extended_df))"
   ]
  },
  {
   "cell_type": "markdown",
   "metadata": {},
   "source": [
    "With 25x more data points, the PyProBE implementation is almost 3x faster than manual filtering in Pandas."
   ]
  },
  {
   "cell_type": "code",
   "execution_count": 6,
   "metadata": {
    "execution": {
     "iopub.execute_input": "2024-08-02T09:42:39.848990Z",
     "iopub.status.busy": "2024-08-02T09:42:39.848624Z",
     "iopub.status.idle": "2024-08-02T09:42:39.866577Z",
     "shell.execute_reply": "2024-08-02T09:42:39.865979Z"
    }
   },
   "outputs": [
    {
     "ename": "NameError",
     "evalue": "name 'np' is not defined",
     "output_type": "error",
     "traceback": [
      "\u001b[0;31m---------------------------------------------------------------------------\u001b[0m",
      "\u001b[0;31mNameError\u001b[0m                                 Traceback (most recent call last)",
      "Cell \u001b[0;32mIn[6], line 1\u001b[0m\n\u001b[0;32m----> 1\u001b[0m total_time_polars, _ \u001b[38;5;241m=\u001b[39m \u001b[43mmeasure_pyprobe\u001b[49m\u001b[43m(\u001b[49m\u001b[43mrepeats\u001b[49m\u001b[43m,\u001b[49m\u001b[43m \u001b[49m\u001b[38;5;124;43m'\u001b[39;49m\u001b[38;5;124;43msample_data_neware_extended.parquet\u001b[39;49m\u001b[38;5;124;43m'\u001b[39;49m\u001b[43m)\u001b[49m\n\u001b[1;32m      2\u001b[0m total_time_pandas, _ \u001b[38;5;241m=\u001b[39m measure_pandas(repeats, \u001b[38;5;124m'\u001b[39m\u001b[38;5;124msample_data_neware_extended.parquet\u001b[39m\u001b[38;5;124m'\u001b[39m)\n\u001b[1;32m      3\u001b[0m make_boxplots(total_time_polars, total_time_pandas)\n",
      "Cell \u001b[0;32mIn[3], line 3\u001b[0m, in \u001b[0;36mmeasure_pyprobe\u001b[0;34m(repeats, file)\u001b[0m\n\u001b[1;32m      1\u001b[0m \u001b[38;5;28;01mdef\u001b[39;00m \u001b[38;5;21mmeasure_pyprobe\u001b[39m(repeats, file):\n\u001b[1;32m      2\u001b[0m     steps \u001b[38;5;241m=\u001b[39m \u001b[38;5;241m5\u001b[39m\n\u001b[0;32m----> 3\u001b[0m     cumulative_time \u001b[38;5;241m=\u001b[39m \u001b[43mnp\u001b[49m\u001b[38;5;241m.\u001b[39mzeros((steps,repeats))\n\u001b[1;32m      4\u001b[0m     \u001b[38;5;28;01mfor\u001b[39;00m repeat \u001b[38;5;129;01min\u001b[39;00m \u001b[38;5;28mrange\u001b[39m(repeats):\n\u001b[1;32m      5\u001b[0m         start_time \u001b[38;5;241m=\u001b[39m timeit\u001b[38;5;241m.\u001b[39mdefault_timer()\n",
      "\u001b[0;31mNameError\u001b[0m: name 'np' is not defined"
     ]
    }
   ],
   "source": [
    "total_time_polars, _ = measure_pyprobe(repeats, 'sample_data_neware_extended.parquet')\n",
    "total_time_pandas, _ = measure_pandas(repeats, 'sample_data_neware_extended.parquet')\n",
    "make_boxplots(total_time_polars, total_time_pandas)"
   ]
  },
  {
   "cell_type": "markdown",
   "metadata": {},
   "source": [
    "The Polars Lazy approach is best demonstrated by plotting the optimized graph:"
   ]
  },
  {
   "cell_type": "code",
   "execution_count": 7,
   "metadata": {
    "execution": {
     "iopub.execute_input": "2024-08-02T09:42:39.868666Z",
     "iopub.status.busy": "2024-08-02T09:42:39.868493Z",
     "iopub.status.idle": "2024-08-02T09:42:39.879864Z",
     "shell.execute_reply": "2024-08-02T09:42:39.879435Z"
    }
   },
   "outputs": [
    {
     "ename": "NameError",
     "evalue": "name 'cell' is not defined",
     "output_type": "error",
     "traceback": [
      "\u001b[0;31m---------------------------------------------------------------------------\u001b[0m",
      "\u001b[0;31mNameError\u001b[0m                                 Traceback (most recent call last)",
      "Cell \u001b[0;32mIn[7], line 1\u001b[0m\n\u001b[0;32m----> 1\u001b[0m lazyframe \u001b[38;5;241m=\u001b[39m \u001b[43mcell\u001b[49m\u001b[38;5;241m.\u001b[39mprocedure[\u001b[38;5;124m'\u001b[39m\u001b[38;5;124mSample\u001b[39m\u001b[38;5;124m'\u001b[39m]\u001b[38;5;241m.\u001b[39mexperiment(\u001b[38;5;124m'\u001b[39m\u001b[38;5;124mBreak-in Cycles\u001b[39m\u001b[38;5;124m'\u001b[39m)\u001b[38;5;241m.\u001b[39mcycle(\u001b[38;5;241m1\u001b[39m)\u001b[38;5;241m.\u001b[39mdischarge(\u001b[38;5;241m0\u001b[39m)\u001b[38;5;241m.\u001b[39mbase_dataframe\n\u001b[1;32m      2\u001b[0m \u001b[38;5;28mprint\u001b[39m(lazyframe\u001b[38;5;241m.\u001b[39mexplain(tree_format\u001b[38;5;241m=\u001b[39m\u001b[38;5;28;01mTrue\u001b[39;00m))\n",
      "\u001b[0;31mNameError\u001b[0m: name 'cell' is not defined"
     ]
    }
   ],
   "source": [
    "lazyframe = cell.procedure['Sample'].experiment('Break-in Cycles').cycle(1).discharge(0).base_dataframe\n",
    "print(lazyframe.explain(tree_format=True))"
   ]
  }
 ],
 "metadata": {
  "kernelspec": {
   "display_name": "pyprobe-dev",
   "language": "python",
   "name": "python3"
  },
  "language_info": {
   "codemirror_mode": {
    "name": "ipython",
    "version": 3
   },
   "file_extension": ".py",
   "mimetype": "text/x-python",
   "name": "python",
   "nbconvert_exporter": "python",
   "pygments_lexer": "ipython3",
   "version": "3.11.9"
  }
 },
 "nbformat": 4,
 "nbformat_minor": 2
}
