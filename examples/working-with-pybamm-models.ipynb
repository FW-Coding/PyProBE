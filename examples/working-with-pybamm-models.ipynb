{
 "cells": [
  {
   "cell_type": "markdown",
   "metadata": {},
   "source": [
    "# Working with PyBaMM Models"
   ]
  },
  {
   "cell_type": "markdown",
   "metadata": {},
   "source": [
    "PyProBE has bidirectional integration with the popular open-source battery modelling software PyBaMM. This means:\n",
    "- PyBaMM simulations can be run from experiment details provided in the README file\n",
    "- PyBaMM solutions can be read by PyProBE and displayed alongside experimental data\n",
    "\n",
    "This example will demonstrate both of these features. We will start by loading some experimental data for the LG M50 cell, which is well parameterised in the literature [1] and has a large associated degradation dataset [2]."
   ]
  },
  {
   "cell_type": "code",
   "execution_count": 1,
   "metadata": {
    "execution": {
     "iopub.execute_input": "2025-01-12T14:42:01.771313Z",
     "iopub.status.busy": "2025-01-12T14:42:01.770885Z",
     "iopub.status.idle": "2025-01-12T14:42:16.422114Z",
     "shell.execute_reply": "2025-01-12T14:42:16.421517Z"
    }
   },
   "outputs": [],
   "source": [
    "%%capture\n",
    "%pip install pybamm\n",
    "%pip install matplotlib\n",
    "%pip install ipywidgets\n",
    "import pyprobe\n",
    "import pybamm\n",
    "import matplotlib.pyplot as plt"
   ]
  },
  {
   "cell_type": "code",
   "execution_count": 2,
   "metadata": {
    "execution": {
     "iopub.execute_input": "2025-01-12T14:42:16.424520Z",
     "iopub.status.busy": "2025-01-12T14:42:16.423899Z",
     "iopub.status.idle": "2025-01-12T14:42:16.433966Z",
     "shell.execute_reply": "2025-01-12T14:42:16.433415Z"
    }
   },
   "outputs": [],
   "source": [
    "cell = pyprobe.Cell(info={\"Model\": \"LG M50\"})\n",
    "\n",
    "data_directory = \"../../../tests/sample_data/LGM50\"\n",
    "\n",
    "cell.add_procedure(\n",
    "    procedure_name=\"BoL RPT\",\n",
    "    folder_path=data_directory,\n",
    "    filename=\"NDK - LG M50 deg - exp 2,2 - rig 3 - 25degC - cell C - BoL - RPT0_short_CA4.parquet\",\n",
    ")"
   ]
  },
  {
   "cell_type": "markdown",
   "metadata": {},
   "source": [
    "Alongside this procedure is a README.yaml file:"
   ]
  },
  {
   "cell_type": "code",
   "execution_count": 3,
   "metadata": {
    "execution": {
     "iopub.execute_input": "2025-01-12T14:42:16.435877Z",
     "iopub.status.busy": "2025-01-12T14:42:16.435512Z",
     "iopub.status.idle": "2025-01-12T14:42:16.438891Z",
     "shell.execute_reply": "2025-01-12T14:42:16.438342Z"
    }
   },
   "outputs": [
    {
     "name": "stdout",
     "output_type": "stream",
     "text": [
      "Initial Charge:\n",
      "  Steps: \n",
      "    0: Rest for 2 minutes\n",
      "    1: Charge at 1.5 A until 4.2 V\n",
      "    2: Hold at 4.2 V until 0.05 A \n",
      "    3: Rest for 2 hours\n",
      "pOCV:\n",
      "  Steps: \n",
      "    4: Rest for 30 seconds\n",
      "    5: Discharge at 0.5 A until 2.5 V\n",
      "    6: Rest for 6 hours\n",
      "    7: Rest for 30 seconds\n",
      "    8: Charge at 0.5 A until 4.2 V\n",
      "    9: Rest for 10 minutes\n"
     ]
    }
   ],
   "source": [
    "with open(data_directory + \"/README.yaml\", \"r\") as file:\n",
    "    readme = file.read()\n",
    "    print(readme)"
   ]
  },
  {
   "cell_type": "markdown",
   "metadata": {},
   "source": [
    "The step descriptions in the readme file are PyBaMM experiment strings. PyProBE `RawData` objects include a `pybamm_experiment` property that parses the README into a format that can be passed to a `pybamm.Experiment` constructor:"
   ]
  },
  {
   "cell_type": "code",
   "execution_count": 4,
   "metadata": {
    "execution": {
     "iopub.execute_input": "2025-01-12T14:42:16.440524Z",
     "iopub.status.busy": "2025-01-12T14:42:16.440344Z",
     "iopub.status.idle": "2025-01-12T14:42:36.112741Z",
     "shell.execute_reply": "2025-01-12T14:42:36.112127Z"
    }
   },
   "outputs": [
    {
     "data": {
      "application/vnd.jupyter.widget-view+json": {
       "model_id": "0b4ee04fcf8844ccbdf130fa40740ecf",
       "version_major": 2,
       "version_minor": 0
      },
      "text/plain": [
       "interactive(children=(FloatSlider(value=0.0, description='t', max=30.169758183030183, step=0.3016975818303018)…"
      ]
     },
     "metadata": {},
     "output_type": "display_data"
    },
    {
     "data": {
      "text/plain": [
       "<pybamm.plotting.quick_plot.QuickPlot at 0x7f681c048b60>"
      ]
     },
     "execution_count": 4,
     "metadata": {},
     "output_type": "execute_result"
    }
   ],
   "source": [
    "experiment = pybamm.Experiment(\n",
    "    cell.procedure[\"BoL RPT\"].pybamm_experiment,\n",
    "    temperature=298.15,\n",
    ")\n",
    "model = pybamm.lithium_ion.DFN()\n",
    "parameters = pybamm.ParameterValues(\"ORegan2022\")\n",
    "sim = pybamm.Simulation(model, experiment=experiment, parameter_values=parameters)\n",
    "solution = sim.solve(initial_soc=0.35)\n",
    "solution.plot()"
   ]
  },
  {
   "cell_type": "markdown",
   "metadata": {},
   "source": [
    "Having solved the solution, we can import it back into PyProBE to display the model solution alongside the experimental data:"
   ]
  },
  {
   "cell_type": "code",
   "execution_count": 5,
   "metadata": {
    "execution": {
     "iopub.execute_input": "2025-01-12T14:42:36.114776Z",
     "iopub.status.busy": "2025-01-12T14:42:36.114376Z",
     "iopub.status.idle": "2025-01-12T14:42:36.637089Z",
     "shell.execute_reply": "2025-01-12T14:42:36.636460Z"
    }
   },
   "outputs": [
    {
     "data": {
      "text/plain": [
       "<Axes: xlabel='Time [s]'>"
      ]
     },
     "execution_count": 5,
     "metadata": {},
     "output_type": "execute_result"
    }
   ],
   "source": [
    "cell.import_pybamm_solution(\"BoL RPT DFN\", [\"BoL RPT\"], solution)\n",
    "\n",
    "fig, ax = plt.subplots()\n",
    "cell.procedure[\"BoL RPT\"].plot(\"Time [s]\", \"Voltage [V]\", ax=ax, label=\"Experiment\")\n",
    "cell.procedure[\"BoL RPT DFN\"].plot(\"Time [s]\", \"Voltage [V]\", ax=ax, label=\"Simulation\")"
   ]
  },
  {
   "cell_type": "markdown",
   "metadata": {},
   "source": [
    "The `pybamm_experiment` property can be called on any filtered section of the data in PyProBE:"
   ]
  },
  {
   "cell_type": "code",
   "execution_count": 6,
   "metadata": {
    "execution": {
     "iopub.execute_input": "2025-01-12T14:42:36.639070Z",
     "iopub.status.busy": "2025-01-12T14:42:36.638872Z",
     "iopub.status.idle": "2025-01-12T14:42:39.904627Z",
     "shell.execute_reply": "2025-01-12T14:42:39.904098Z"
    }
   },
   "outputs": [
    {
     "data": {
      "text/plain": [
       "<Axes: xlabel='Step Time [s]'>"
      ]
     },
     "execution_count": 6,
     "metadata": {},
     "output_type": "execute_result"
    }
   ],
   "source": [
    "discharge_experiment = pybamm.Experiment(\n",
    "    cell.procedure[\"BoL RPT\"].discharge(0).pybamm_experiment,\n",
    "    temperature=298.15,\n",
    ")\n",
    "sim = pybamm.Simulation(\n",
    "    model, experiment=discharge_experiment, parameter_values=parameters\n",
    ")\n",
    "solution = sim.solve()\n",
    "\n",
    "cell.import_pybamm_solution(\"BoL RPT DFN\", [\"Discharge only\"], solution)\n",
    "\n",
    "fig, ax = plt.subplots()\n",
    "cell.procedure[\"BoL RPT\"].discharge(0).plot(\n",
    "    \"Step Time [s]\", \"Voltage [V]\", ax=ax, label=\"Experiment\"\n",
    ")\n",
    "cell.procedure[\"BoL RPT DFN\"].discharge(0).plot(\n",
    "    \"Step Time [s]\", \"Voltage [V]\", ax=ax, label=\"Simulation\"\n",
    ")"
   ]
  },
  {
   "cell_type": "markdown",
   "metadata": {},
   "source": [
    "1. O’Regan K, Brosa Planella F, Widanage WD, Kendrick E. Thermal-electrochemical parameters of a high energy lithium-ion cylindrical battery. Electrochimica Acta. 2022;425: 140700. https://doi.org/10.1016/J.ELECTACTA.2022.140700.\n",
    "2. Kirkaldy N, Samieian MA, Offer GJ, Marinescu M, Patel Y. Lithium-ion battery degradation: Comprehensive cycle ageing data and analysis for commercial 21700 cells. Journal of Power Sources. 2024;603: 234185. https://doi.org/10.1016/j.jpowsour.2024.234185."
   ]
  }
 ],
 "metadata": {
  "language_info": {
   "codemirror_mode": {
    "name": "ipython",
    "version": 3
   },
   "file_extension": ".py",
   "mimetype": "text/x-python",
   "name": "python",
   "nbconvert_exporter": "python",
   "pygments_lexer": "ipython3",
   "version": "3.12.8"
  },
  "widgets": {
   "application/vnd.jupyter.widget-state+json": {
    "state": {
     "030e2557533e4299a0e802ea4690502f": {
      "model_module": "@jupyter-widgets/base",
      "model_module_version": "2.0.0",
      "model_name": "LayoutModel",
      "state": {
       "_model_module": "@jupyter-widgets/base",
       "_model_module_version": "2.0.0",
       "_model_name": "LayoutModel",
       "_view_count": null,
       "_view_module": "@jupyter-widgets/base",
       "_view_module_version": "2.0.0",
       "_view_name": "LayoutView",
       "align_content": null,
       "align_items": null,
       "align_self": null,
       "border_bottom": null,
       "border_left": null,
       "border_right": null,
       "border_top": null,
       "bottom": null,
       "display": null,
       "flex": null,
       "flex_flow": null,
       "grid_area": null,
       "grid_auto_columns": null,
       "grid_auto_flow": null,
       "grid_auto_rows": null,
       "grid_column": null,
       "grid_gap": null,
       "grid_row": null,
       "grid_template_areas": null,
       "grid_template_columns": null,
       "grid_template_rows": null,
       "height": null,
       "justify_content": null,
       "justify_items": null,
       "left": null,
       "margin": null,
       "max_height": null,
       "max_width": null,
       "min_height": null,
       "min_width": null,
       "object_fit": null,
       "object_position": null,
       "order": null,
       "overflow": null,
       "padding": null,
       "right": null,
       "top": null,
       "visibility": null,
       "width": null
      }
     },
     "0b4ee04fcf8844ccbdf130fa40740ecf": {
      "model_module": "@jupyter-widgets/controls",
      "model_module_version": "2.0.0",
      "model_name": "VBoxModel",
      "state": {
       "_dom_classes": [
        "widget-interact"
       ],
       "_model_module": "@jupyter-widgets/controls",
       "_model_module_version": "2.0.0",
       "_model_name": "VBoxModel",
       "_view_count": null,
       "_view_module": "@jupyter-widgets/controls",
       "_view_module_version": "2.0.0",
       "_view_name": "VBoxView",
       "box_style": "",
       "children": [
        "IPY_MODEL_ed076b41d80542ff8ab9bb165419c605",
        "IPY_MODEL_6772d442f00c4641923102ee8391220f"
       ],
       "layout": "IPY_MODEL_b60ec50713d246a1a27002b15d4c055d",
       "tabbable": null,
       "tooltip": null
      }
     },
     "181a6324b7094aebaf02d7e5a73743a6": {
      "model_module": "@jupyter-widgets/base",
      "model_module_version": "2.0.0",
      "model_name": "LayoutModel",
      "state": {
       "_model_module": "@jupyter-widgets/base",
       "_model_module_version": "2.0.0",
       "_model_name": "LayoutModel",
       "_view_count": null,
       "_view_module": "@jupyter-widgets/base",
       "_view_module_version": "2.0.0",
       "_view_name": "LayoutView",
       "align_content": null,
       "align_items": null,
       "align_self": null,
       "border_bottom": null,
       "border_left": null,
       "border_right": null,
       "border_top": null,
       "bottom": null,
       "display": null,
       "flex": null,
       "flex_flow": null,
       "grid_area": null,
       "grid_auto_columns": null,
       "grid_auto_flow": null,
       "grid_auto_rows": null,
       "grid_column": null,
       "grid_gap": null,
       "grid_row": null,
       "grid_template_areas": null,
       "grid_template_columns": null,
       "grid_template_rows": null,
       "height": null,
       "justify_content": null,
       "justify_items": null,
       "left": null,
       "margin": null,
       "max_height": null,
       "max_width": null,
       "min_height": null,
       "min_width": null,
       "object_fit": null,
       "object_position": null,
       "order": null,
       "overflow": null,
       "padding": null,
       "right": null,
       "top": null,
       "visibility": null,
       "width": null
      }
     },
     "6772d442f00c4641923102ee8391220f": {
      "model_module": "@jupyter-widgets/output",
      "model_module_version": "1.0.0",
      "model_name": "OutputModel",
      "state": {
       "_dom_classes": [],
       "_model_module": "@jupyter-widgets/output",
       "_model_module_version": "1.0.0",
       "_model_name": "OutputModel",
       "_view_count": null,
       "_view_module": "@jupyter-widgets/output",
       "_view_module_version": "1.0.0",
       "_view_name": "OutputView",
       "layout": "IPY_MODEL_030e2557533e4299a0e802ea4690502f",
       "msg_id": "",
       "outputs": [],
       "tabbable": null,
       "tooltip": null
      }
     },
     "b60ec50713d246a1a27002b15d4c055d": {
      "model_module": "@jupyter-widgets/base",
      "model_module_version": "2.0.0",
      "model_name": "LayoutModel",
      "state": {
       "_model_module": "@jupyter-widgets/base",
       "_model_module_version": "2.0.0",
       "_model_name": "LayoutModel",
       "_view_count": null,
       "_view_module": "@jupyter-widgets/base",
       "_view_module_version": "2.0.0",
       "_view_name": "LayoutView",
       "align_content": null,
       "align_items": null,
       "align_self": null,
       "border_bottom": null,
       "border_left": null,
       "border_right": null,
       "border_top": null,
       "bottom": null,
       "display": null,
       "flex": null,
       "flex_flow": null,
       "grid_area": null,
       "grid_auto_columns": null,
       "grid_auto_flow": null,
       "grid_auto_rows": null,
       "grid_column": null,
       "grid_gap": null,
       "grid_row": null,
       "grid_template_areas": null,
       "grid_template_columns": null,
       "grid_template_rows": null,
       "height": null,
       "justify_content": null,
       "justify_items": null,
       "left": null,
       "margin": null,
       "max_height": null,
       "max_width": null,
       "min_height": null,
       "min_width": null,
       "object_fit": null,
       "object_position": null,
       "order": null,
       "overflow": null,
       "padding": null,
       "right": null,
       "top": null,
       "visibility": null,
       "width": null
      }
     },
     "db1ea37f581149aa8d9e32ade57e5a59": {
      "model_module": "@jupyter-widgets/controls",
      "model_module_version": "2.0.0",
      "model_name": "SliderStyleModel",
      "state": {
       "_model_module": "@jupyter-widgets/controls",
       "_model_module_version": "2.0.0",
       "_model_name": "SliderStyleModel",
       "_view_count": null,
       "_view_module": "@jupyter-widgets/base",
       "_view_module_version": "2.0.0",
       "_view_name": "StyleView",
       "description_width": "",
       "handle_color": null
      }
     },
     "ed076b41d80542ff8ab9bb165419c605": {
      "model_module": "@jupyter-widgets/controls",
      "model_module_version": "2.0.0",
      "model_name": "FloatSliderModel",
      "state": {
       "_dom_classes": [],
       "_model_module": "@jupyter-widgets/controls",
       "_model_module_version": "2.0.0",
       "_model_name": "FloatSliderModel",
       "_view_count": null,
       "_view_module": "@jupyter-widgets/controls",
       "_view_module_version": "2.0.0",
       "_view_name": "FloatSliderView",
       "behavior": "drag-tap",
       "continuous_update": true,
       "description": "t",
       "description_allow_html": false,
       "disabled": false,
       "layout": "IPY_MODEL_181a6324b7094aebaf02d7e5a73743a6",
       "max": 30.169758183030183,
       "min": 0.0,
       "orientation": "horizontal",
       "readout": true,
       "readout_format": ".2f",
       "step": 0.3016975818303018,
       "style": "IPY_MODEL_db1ea37f581149aa8d9e32ade57e5a59",
       "tabbable": null,
       "tooltip": null,
       "value": 0.0
      }
     }
    },
    "version_major": 2,
    "version_minor": 0
   }
  }
 },
 "nbformat": 4,
 "nbformat_minor": 2
}
