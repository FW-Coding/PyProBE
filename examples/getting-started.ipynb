{
 "cells": [
  {
   "cell_type": "markdown",
   "metadata": {},
   "source": [
    "# Getting started with PyProBE"
   ]
  },
  {
   "cell_type": "code",
   "execution_count": 1,
   "metadata": {
    "execution": {
     "iopub.execute_input": "2024-08-02T09:42:43.559471Z",
     "iopub.status.busy": "2024-08-02T09:42:43.558874Z",
     "iopub.status.idle": "2024-08-02T09:42:43.695591Z",
     "shell.execute_reply": "2024-08-02T09:42:43.694884Z"
    }
   },
   "outputs": [
    {
     "ename": "ModuleNotFoundError",
     "evalue": "No module named 'pyprobe'",
     "output_type": "error",
     "traceback": [
      "\u001b[0;31m---------------------------------------------------------------------------\u001b[0m",
      "\u001b[0;31mModuleNotFoundError\u001b[0m                       Traceback (most recent call last)",
      "Cell \u001b[0;32mIn[1], line 1\u001b[0m\n\u001b[0;32m----> 1\u001b[0m \u001b[38;5;28;01mimport\u001b[39;00m \u001b[38;5;21;01mpyprobe\u001b[39;00m\n",
      "\u001b[0;31mModuleNotFoundError\u001b[0m: No module named 'pyprobe'"
     ]
    }
   ],
   "source": [
    "import pyprobe"
   ]
  },
  {
   "cell_type": "markdown",
   "metadata": {},
   "source": [
    "## Convert data to standard format"
   ]
  },
  {
   "cell_type": "markdown",
   "metadata": {},
   "source": [
    "Create the cell object and load some data. If this is the first time that the data has been loaded, it must first be converted into the standard format for PyProBE."
   ]
  },
  {
   "cell_type": "code",
   "execution_count": 2,
   "metadata": {
    "execution": {
     "iopub.execute_input": "2024-08-02T09:42:43.697858Z",
     "iopub.status.busy": "2024-08-02T09:42:43.697680Z",
     "iopub.status.idle": "2024-08-02T09:42:43.710415Z",
     "shell.execute_reply": "2024-08-02T09:42:43.709787Z"
    }
   },
   "outputs": [
    {
     "ename": "NameError",
     "evalue": "name 'pyprobe' is not defined",
     "output_type": "error",
     "traceback": [
      "\u001b[0;31m---------------------------------------------------------------------------\u001b[0m",
      "\u001b[0;31mNameError\u001b[0m                                 Traceback (most recent call last)",
      "Cell \u001b[0;32mIn[2], line 9\u001b[0m\n\u001b[1;32m      2\u001b[0m info_dictionary \u001b[38;5;241m=\u001b[39m {\u001b[38;5;124m'\u001b[39m\u001b[38;5;124mName\u001b[39m\u001b[38;5;124m'\u001b[39m: \u001b[38;5;124m'\u001b[39m\u001b[38;5;124mSample cell\u001b[39m\u001b[38;5;124m'\u001b[39m,\n\u001b[1;32m      3\u001b[0m                    \u001b[38;5;124m'\u001b[39m\u001b[38;5;124mChemistry\u001b[39m\u001b[38;5;124m'\u001b[39m: \u001b[38;5;124m'\u001b[39m\u001b[38;5;124mNMC622\u001b[39m\u001b[38;5;124m'\u001b[39m,\n\u001b[1;32m      4\u001b[0m                    \u001b[38;5;124m'\u001b[39m\u001b[38;5;124mNominal Capacity [Ah]\u001b[39m\u001b[38;5;124m'\u001b[39m: \u001b[38;5;241m0.04\u001b[39m,\n\u001b[1;32m      5\u001b[0m                    \u001b[38;5;124m'\u001b[39m\u001b[38;5;124mCycler number\u001b[39m\u001b[38;5;124m'\u001b[39m: \u001b[38;5;241m1\u001b[39m,\n\u001b[1;32m      6\u001b[0m                    \u001b[38;5;124m'\u001b[39m\u001b[38;5;124mChannel number\u001b[39m\u001b[38;5;124m'\u001b[39m: \u001b[38;5;241m1\u001b[39m,}\n\u001b[1;32m      8\u001b[0m \u001b[38;5;66;03m# Create a cell object\u001b[39;00m\n\u001b[0;32m----> 9\u001b[0m cell \u001b[38;5;241m=\u001b[39m \u001b[43mpyprobe\u001b[49m\u001b[38;5;241m.\u001b[39mCell(info\u001b[38;5;241m=\u001b[39minfo_dictionary)\n\u001b[1;32m     11\u001b[0m data_directory \u001b[38;5;241m=\u001b[39m \u001b[38;5;124m'\u001b[39m\u001b[38;5;124m../../../tests/sample_data/neware\u001b[39m\u001b[38;5;124m'\u001b[39m\n\u001b[1;32m     13\u001b[0m \u001b[38;5;66;03m# Uncomment if running locally\u001b[39;00m\n\u001b[1;32m     14\u001b[0m \u001b[38;5;66;03m# cell.process_cycler_file(cycler='neware',\u001b[39;00m\n\u001b[1;32m     15\u001b[0m \u001b[38;5;66;03m#                          folder_path=data_directory,\u001b[39;00m\n\u001b[1;32m     16\u001b[0m \u001b[38;5;66;03m#                          input_filename='sample_data_neware.xlsx',\u001b[39;00m\n\u001b[1;32m     17\u001b[0m \u001b[38;5;66;03m#                          output_filename='sample_data_neware.parquet')\u001b[39;00m\n",
      "\u001b[0;31mNameError\u001b[0m: name 'pyprobe' is not defined"
     ]
    }
   ],
   "source": [
    "# Describe the cell. Required fields are 'Name'.\n",
    "info_dictionary = {'Name': 'Sample cell',\n",
    "                   'Chemistry': 'NMC622',\n",
    "                   'Nominal Capacity [Ah]': 0.04,\n",
    "                   'Cycler number': 1,\n",
    "                   'Channel number': 1,}\n",
    "\n",
    "# Create a cell object\n",
    "cell = pyprobe.Cell(info=info_dictionary)\n",
    "\n",
    "data_directory = '../../../tests/sample_data/neware'\n",
    "\n",
    "# Uncomment if running locally\n",
    "# cell.process_cycler_file(cycler='neware',\n",
    "#                          folder_path=data_directory,\n",
    "#                          input_filename='sample_data_neware.xlsx',\n",
    "#                          output_filename='sample_data_neware.parquet')"
   ]
  },
  {
   "cell_type": "markdown",
   "metadata": {},
   "source": [
    "If a parquet file exists alongside the original data file, you can add it as a Procedure object to the procedure dictionary of the cell. The key of the dictionary is the procedure name that you provide."
   ]
  },
  {
   "cell_type": "code",
   "execution_count": 3,
   "metadata": {
    "execution": {
     "iopub.execute_input": "2024-08-02T09:42:43.712540Z",
     "iopub.status.busy": "2024-08-02T09:42:43.712369Z",
     "iopub.status.idle": "2024-08-02T09:42:43.723218Z",
     "shell.execute_reply": "2024-08-02T09:42:43.722540Z"
    }
   },
   "outputs": [
    {
     "ename": "NameError",
     "evalue": "name 'cell' is not defined",
     "output_type": "error",
     "traceback": [
      "\u001b[0;31m---------------------------------------------------------------------------\u001b[0m",
      "\u001b[0;31mNameError\u001b[0m                                 Traceback (most recent call last)",
      "Cell \u001b[0;32mIn[3], line 1\u001b[0m\n\u001b[0;32m----> 1\u001b[0m \u001b[43mcell\u001b[49m\u001b[38;5;241m.\u001b[39madd_procedure(procedure_name\u001b[38;5;241m=\u001b[39m\u001b[38;5;124m'\u001b[39m\u001b[38;5;124mSample\u001b[39m\u001b[38;5;124m'\u001b[39m,\n\u001b[1;32m      2\u001b[0m                    folder_path \u001b[38;5;241m=\u001b[39m data_directory,\n\u001b[1;32m      3\u001b[0m                    filename \u001b[38;5;241m=\u001b[39m \u001b[38;5;124m'\u001b[39m\u001b[38;5;124msample_data_neware.parquet\u001b[39m\u001b[38;5;124m'\u001b[39m)\n\u001b[1;32m      5\u001b[0m \u001b[38;5;28mprint\u001b[39m(cell\u001b[38;5;241m.\u001b[39mprocedure)\n",
      "\u001b[0;31mNameError\u001b[0m: name 'cell' is not defined"
     ]
    }
   ],
   "source": [
    "cell.add_procedure(procedure_name='Sample',\n",
    "                   folder_path = data_directory,\n",
    "                   filename = 'sample_data_neware.parquet')\n",
    "\n",
    "print(cell.procedure)"
   ]
  },
  {
   "cell_type": "markdown",
   "metadata": {},
   "source": [
    "The dashboard can be launched immediately (uncomment to run when outside docs environment):"
   ]
  },
  {
   "cell_type": "code",
   "execution_count": 4,
   "metadata": {
    "execution": {
     "iopub.execute_input": "2024-08-02T09:42:43.725737Z",
     "iopub.status.busy": "2024-08-02T09:42:43.725284Z",
     "iopub.status.idle": "2024-08-02T09:42:43.728237Z",
     "shell.execute_reply": "2024-08-02T09:42:43.727664Z"
    }
   },
   "outputs": [],
   "source": [
    "# pyprobe.Cell.launch_dashboard([cell])"
   ]
  },
  {
   "cell_type": "markdown",
   "metadata": {},
   "source": [
    "The raw data is accessible as a dataframe with the data property:"
   ]
  },
  {
   "cell_type": "code",
   "execution_count": 5,
   "metadata": {
    "execution": {
     "iopub.execute_input": "2024-08-02T09:42:43.730504Z",
     "iopub.status.busy": "2024-08-02T09:42:43.730152Z",
     "iopub.status.idle": "2024-08-02T09:42:43.740697Z",
     "shell.execute_reply": "2024-08-02T09:42:43.740112Z"
    }
   },
   "outputs": [
    {
     "ename": "NameError",
     "evalue": "name 'cell' is not defined",
     "output_type": "error",
     "traceback": [
      "\u001b[0;31m---------------------------------------------------------------------------\u001b[0m",
      "\u001b[0;31mNameError\u001b[0m                                 Traceback (most recent call last)",
      "Cell \u001b[0;32mIn[5], line 1\u001b[0m\n\u001b[0;32m----> 1\u001b[0m \u001b[38;5;28mprint\u001b[39m(\u001b[43mcell\u001b[49m\u001b[38;5;241m.\u001b[39mprocedure[\u001b[38;5;124m'\u001b[39m\u001b[38;5;124mSample\u001b[39m\u001b[38;5;124m'\u001b[39m]\u001b[38;5;241m.\u001b[39mdata)\n",
      "\u001b[0;31mNameError\u001b[0m: name 'cell' is not defined"
     ]
    }
   ],
   "source": [
    "print(cell.procedure['Sample'].data)"
   ]
  },
  {
   "cell_type": "markdown",
   "metadata": {},
   "source": [
    "Individual columns can be returned as 1D numpy arrays with the `get()` method:"
   ]
  },
  {
   "cell_type": "code",
   "execution_count": 6,
   "metadata": {
    "execution": {
     "iopub.execute_input": "2024-08-02T09:42:43.742833Z",
     "iopub.status.busy": "2024-08-02T09:42:43.742505Z",
     "iopub.status.idle": "2024-08-02T09:42:43.754119Z",
     "shell.execute_reply": "2024-08-02T09:42:43.753581Z"
    }
   },
   "outputs": [
    {
     "ename": "NameError",
     "evalue": "name 'cell' is not defined",
     "output_type": "error",
     "traceback": [
      "\u001b[0;31m---------------------------------------------------------------------------\u001b[0m",
      "\u001b[0;31mNameError\u001b[0m                                 Traceback (most recent call last)",
      "Cell \u001b[0;32mIn[6], line 1\u001b[0m\n\u001b[0;32m----> 1\u001b[0m current \u001b[38;5;241m=\u001b[39m \u001b[43mcell\u001b[49m\u001b[38;5;241m.\u001b[39mprocedure[\u001b[38;5;124m'\u001b[39m\u001b[38;5;124mSample\u001b[39m\u001b[38;5;124m'\u001b[39m]\u001b[38;5;241m.\u001b[39mexperiment(\u001b[38;5;124m'\u001b[39m\u001b[38;5;124mBreak-in Cycles\u001b[39m\u001b[38;5;124m'\u001b[39m)\u001b[38;5;241m.\u001b[39mcharge(\u001b[38;5;241m0\u001b[39m)\u001b[38;5;241m.\u001b[39mget(\u001b[38;5;124m'\u001b[39m\u001b[38;5;124mCurrent [A]\u001b[39m\u001b[38;5;124m'\u001b[39m)\n\u001b[1;32m      2\u001b[0m \u001b[38;5;28mprint\u001b[39m(\u001b[38;5;28mtype\u001b[39m(current), current)\n",
      "\u001b[0;31mNameError\u001b[0m: name 'cell' is not defined"
     ]
    }
   ],
   "source": [
    "current = cell.procedure['Sample'].experiment('Break-in Cycles').charge(0).get('Current [A]')\n",
    "print(type(current), current)"
   ]
  },
  {
   "cell_type": "markdown",
   "metadata": {},
   "source": [
    "Multiple columns can be returned at once:"
   ]
  },
  {
   "cell_type": "code",
   "execution_count": 7,
   "metadata": {
    "execution": {
     "iopub.execute_input": "2024-08-02T09:42:43.756593Z",
     "iopub.status.busy": "2024-08-02T09:42:43.756100Z",
     "iopub.status.idle": "2024-08-02T09:42:43.768243Z",
     "shell.execute_reply": "2024-08-02T09:42:43.767696Z"
    }
   },
   "outputs": [
    {
     "ename": "NameError",
     "evalue": "name 'cell' is not defined",
     "output_type": "error",
     "traceback": [
      "\u001b[0;31m---------------------------------------------------------------------------\u001b[0m",
      "\u001b[0;31mNameError\u001b[0m                                 Traceback (most recent call last)",
      "Cell \u001b[0;32mIn[7], line 1\u001b[0m\n\u001b[0;32m----> 1\u001b[0m current, voltage \u001b[38;5;241m=\u001b[39m \u001b[43mcell\u001b[49m\u001b[38;5;241m.\u001b[39mprocedure[\u001b[38;5;124m'\u001b[39m\u001b[38;5;124mSample\u001b[39m\u001b[38;5;124m'\u001b[39m]\u001b[38;5;241m.\u001b[39mexperiment(\u001b[38;5;124m'\u001b[39m\u001b[38;5;124mBreak-in Cycles\u001b[39m\u001b[38;5;124m'\u001b[39m)\u001b[38;5;241m.\u001b[39mcharge(\u001b[38;5;241m0\u001b[39m)\u001b[38;5;241m.\u001b[39mget(\u001b[38;5;124m'\u001b[39m\u001b[38;5;124mCurrent [A]\u001b[39m\u001b[38;5;124m'\u001b[39m, \u001b[38;5;124m'\u001b[39m\u001b[38;5;124mVoltage [V]\u001b[39m\u001b[38;5;124m'\u001b[39m)\n\u001b[1;32m      2\u001b[0m \u001b[38;5;28mprint\u001b[39m(\u001b[38;5;124m\"\u001b[39m\u001b[38;5;124mCurrent = \u001b[39m\u001b[38;5;124m\"\u001b[39m, current)\n\u001b[1;32m      3\u001b[0m \u001b[38;5;28mprint\u001b[39m(\u001b[38;5;124m\"\u001b[39m\u001b[38;5;124mVoltage = \u001b[39m\u001b[38;5;124m\"\u001b[39m, voltage)\n",
      "\u001b[0;31mNameError\u001b[0m: name 'cell' is not defined"
     ]
    }
   ],
   "source": [
    "current, voltage = cell.procedure['Sample'].experiment('Break-in Cycles').charge(0).get('Current [A]', 'Voltage [V]')\n",
    "print(\"Current = \", current)\n",
    "print(\"Voltage = \", voltage)"
   ]
  },
  {
   "cell_type": "markdown",
   "metadata": {},
   "source": [
    "And different unit can be returned on command:"
   ]
  },
  {
   "cell_type": "code",
   "execution_count": 8,
   "metadata": {
    "execution": {
     "iopub.execute_input": "2024-08-02T09:42:43.770575Z",
     "iopub.status.busy": "2024-08-02T09:42:43.770083Z",
     "iopub.status.idle": "2024-08-02T09:42:43.781516Z",
     "shell.execute_reply": "2024-08-02T09:42:43.780972Z"
    }
   },
   "outputs": [
    {
     "ename": "NameError",
     "evalue": "name 'cell' is not defined",
     "output_type": "error",
     "traceback": [
      "\u001b[0;31m---------------------------------------------------------------------------\u001b[0m",
      "\u001b[0;31mNameError\u001b[0m                                 Traceback (most recent call last)",
      "Cell \u001b[0;32mIn[8], line 1\u001b[0m\n\u001b[0;32m----> 1\u001b[0m current_mA \u001b[38;5;241m=\u001b[39m \u001b[43mcell\u001b[49m\u001b[38;5;241m.\u001b[39mprocedure[\u001b[38;5;124m'\u001b[39m\u001b[38;5;124mSample\u001b[39m\u001b[38;5;124m'\u001b[39m]\u001b[38;5;241m.\u001b[39mexperiment(\u001b[38;5;124m'\u001b[39m\u001b[38;5;124mBreak-in Cycles\u001b[39m\u001b[38;5;124m'\u001b[39m)\u001b[38;5;241m.\u001b[39mcharge(\u001b[38;5;241m0\u001b[39m)\u001b[38;5;241m.\u001b[39mget(\u001b[38;5;124m'\u001b[39m\u001b[38;5;124mCurrent [mA]\u001b[39m\u001b[38;5;124m'\u001b[39m)\n\u001b[1;32m      2\u001b[0m \u001b[38;5;28mprint\u001b[39m(\u001b[38;5;124m\"\u001b[39m\u001b[38;5;124mCurrent [mA] = \u001b[39m\u001b[38;5;124m\"\u001b[39m, current_mA)\n",
      "\u001b[0;31mNameError\u001b[0m: name 'cell' is not defined"
     ]
    }
   ],
   "source": [
    "current_mA = cell.procedure['Sample'].experiment('Break-in Cycles').charge(0).get('Current [mA]')\n",
    "print(\"Current [mA] = \", current_mA)"
   ]
  },
  {
   "cell_type": "markdown",
   "metadata": {},
   "source": [
    "Any part of the procedure can be plotted quickly using the ```add_line``` method:"
   ]
  },
  {
   "cell_type": "code",
   "execution_count": 9,
   "metadata": {
    "execution": {
     "iopub.execute_input": "2024-08-02T09:42:43.783596Z",
     "iopub.status.busy": "2024-08-02T09:42:43.783433Z",
     "iopub.status.idle": "2024-08-02T09:42:43.794499Z",
     "shell.execute_reply": "2024-08-02T09:42:43.793851Z"
    }
   },
   "outputs": [
    {
     "ename": "NameError",
     "evalue": "name 'pyprobe' is not defined",
     "output_type": "error",
     "traceback": [
      "\u001b[0;31m---------------------------------------------------------------------------\u001b[0m",
      "\u001b[0;31mNameError\u001b[0m                                 Traceback (most recent call last)",
      "Cell \u001b[0;32mIn[9], line 1\u001b[0m\n\u001b[0;32m----> 1\u001b[0m figure \u001b[38;5;241m=\u001b[39m \u001b[43mpyprobe\u001b[49m\u001b[38;5;241m.\u001b[39mPlot()\n\u001b[1;32m      2\u001b[0m figure\u001b[38;5;241m.\u001b[39madd_line(cell\u001b[38;5;241m.\u001b[39mprocedure[\u001b[38;5;124m'\u001b[39m\u001b[38;5;124mSample\u001b[39m\u001b[38;5;124m'\u001b[39m]\u001b[38;5;241m.\u001b[39mexperiment(\u001b[38;5;124m'\u001b[39m\u001b[38;5;124mBreak-in Cycles\u001b[39m\u001b[38;5;124m'\u001b[39m), \u001b[38;5;124m'\u001b[39m\u001b[38;5;124mExperiment Time [s]\u001b[39m\u001b[38;5;124m'\u001b[39m, \u001b[38;5;124m'\u001b[39m\u001b[38;5;124mVoltage [V]\u001b[39m\u001b[38;5;124m'\u001b[39m)\n\u001b[1;32m      3\u001b[0m figure\u001b[38;5;241m.\u001b[39mshow()\n",
      "\u001b[0;31mNameError\u001b[0m: name 'pyprobe' is not defined"
     ]
    }
   ],
   "source": [
    "figure = pyprobe.Plot()\n",
    "figure.add_line(cell.procedure['Sample'].experiment('Break-in Cycles'), 'Experiment Time [s]', 'Voltage [V]')\n",
    "figure.show()"
   ]
  },
  {
   "cell_type": "markdown",
   "metadata": {},
   "source": [
    "We can use the `analysis` to further analyse the data. For the `'Break-in Cycles'` we will use the `Cycling` analysis module. You first create the analysis object by calling the `Cycling` class on the filtered section of your procedure:"
   ]
  },
  {
   "cell_type": "code",
   "execution_count": 10,
   "metadata": {
    "execution": {
     "iopub.execute_input": "2024-08-02T09:42:43.796945Z",
     "iopub.status.busy": "2024-08-02T09:42:43.796545Z",
     "iopub.status.idle": "2024-08-02T09:42:43.807894Z",
     "shell.execute_reply": "2024-08-02T09:42:43.807260Z"
    }
   },
   "outputs": [
    {
     "ename": "ModuleNotFoundError",
     "evalue": "No module named 'pyprobe'",
     "output_type": "error",
     "traceback": [
      "\u001b[0;31m---------------------------------------------------------------------------\u001b[0m",
      "\u001b[0;31mModuleNotFoundError\u001b[0m                       Traceback (most recent call last)",
      "Cell \u001b[0;32mIn[10], line 1\u001b[0m\n\u001b[0;32m----> 1\u001b[0m \u001b[38;5;28;01mfrom\u001b[39;00m \u001b[38;5;21;01mpyprobe\u001b[39;00m\u001b[38;5;21;01m.\u001b[39;00m\u001b[38;5;21;01manalysis\u001b[39;00m\u001b[38;5;21;01m.\u001b[39;00m\u001b[38;5;21;01mcycling\u001b[39;00m \u001b[38;5;28;01mimport\u001b[39;00m Cycling\n\u001b[1;32m      2\u001b[0m cycling \u001b[38;5;241m=\u001b[39m Cycling(input_data \u001b[38;5;241m=\u001b[39m cell\u001b[38;5;241m.\u001b[39mprocedure[\u001b[38;5;124m'\u001b[39m\u001b[38;5;124mSample\u001b[39m\u001b[38;5;124m'\u001b[39m]\u001b[38;5;241m.\u001b[39mexperiment(\u001b[38;5;124m'\u001b[39m\u001b[38;5;124mBreak-in Cycles\u001b[39m\u001b[38;5;124m'\u001b[39m))\n\u001b[1;32m      3\u001b[0m \u001b[38;5;28mprint\u001b[39m(cycling)\n",
      "\u001b[0;31mModuleNotFoundError\u001b[0m: No module named 'pyprobe'"
     ]
    }
   ],
   "source": [
    "from pyprobe.analysis.cycling import Cycling\n",
    "cycling = Cycling(input_data = cell.procedure['Sample'].experiment('Break-in Cycles'))\n",
    "print(cycling)"
   ]
  },
  {
   "cell_type": "markdown",
   "metadata": {},
   "source": [
    "These methods return `Result` objects, so they can be displayed as normal:"
   ]
  },
  {
   "cell_type": "code",
   "execution_count": 11,
   "metadata": {
    "execution": {
     "iopub.execute_input": "2024-08-02T09:42:43.810227Z",
     "iopub.status.busy": "2024-08-02T09:42:43.809920Z",
     "iopub.status.idle": "2024-08-02T09:42:43.820527Z",
     "shell.execute_reply": "2024-08-02T09:42:43.819885Z"
    }
   },
   "outputs": [
    {
     "ename": "NameError",
     "evalue": "name 'cycling' is not defined",
     "output_type": "error",
     "traceback": [
      "\u001b[0;31m---------------------------------------------------------------------------\u001b[0m",
      "\u001b[0;31mNameError\u001b[0m                                 Traceback (most recent call last)",
      "Cell \u001b[0;32mIn[11], line 1\u001b[0m\n\u001b[0;32m----> 1\u001b[0m \u001b[38;5;28mprint\u001b[39m(\u001b[38;5;28mtype\u001b[39m(\u001b[43mcycling\u001b[49m\u001b[38;5;241m.\u001b[39msummary()))\n\u001b[1;32m      3\u001b[0m \u001b[38;5;28mprint\u001b[39m(cycling\u001b[38;5;241m.\u001b[39msummary()\u001b[38;5;241m.\u001b[39mdata)\n",
      "\u001b[0;31mNameError\u001b[0m: name 'cycling' is not defined"
     ]
    }
   ],
   "source": [
    "print(type(cycling.summary()))\n",
    "\n",
    "print(cycling.summary().data)"
   ]
  },
  {
   "cell_type": "markdown",
   "metadata": {},
   "source": [
    "And it can be plotted as normal too:"
   ]
  },
  {
   "cell_type": "code",
   "execution_count": 12,
   "metadata": {
    "execution": {
     "iopub.execute_input": "2024-08-02T09:42:43.822871Z",
     "iopub.status.busy": "2024-08-02T09:42:43.822538Z",
     "iopub.status.idle": "2024-08-02T09:42:43.833503Z",
     "shell.execute_reply": "2024-08-02T09:42:43.832918Z"
    }
   },
   "outputs": [
    {
     "ename": "NameError",
     "evalue": "name 'pyprobe' is not defined",
     "output_type": "error",
     "traceback": [
      "\u001b[0;31m---------------------------------------------------------------------------\u001b[0m",
      "\u001b[0;31mNameError\u001b[0m                                 Traceback (most recent call last)",
      "Cell \u001b[0;32mIn[12], line 1\u001b[0m\n\u001b[0;32m----> 1\u001b[0m figure \u001b[38;5;241m=\u001b[39m \u001b[43mpyprobe\u001b[49m\u001b[38;5;241m.\u001b[39mPlot()\n\u001b[1;32m      2\u001b[0m figure\u001b[38;5;241m.\u001b[39madd_line(cycling\u001b[38;5;241m.\u001b[39msummary(), \n\u001b[1;32m      3\u001b[0m                 x \u001b[38;5;241m=\u001b[39m \u001b[38;5;124m'\u001b[39m\u001b[38;5;124mCapacity Throughput [Ah]\u001b[39m\u001b[38;5;124m'\u001b[39m, \n\u001b[1;32m      4\u001b[0m                 y \u001b[38;5;241m=\u001b[39m \u001b[38;5;124m'\u001b[39m\u001b[38;5;124mDischarge Capacity [Ah]\u001b[39m\u001b[38;5;124m'\u001b[39m)\n\u001b[1;32m      5\u001b[0m figure\u001b[38;5;241m.\u001b[39mshow()\n",
      "\u001b[0;31mNameError\u001b[0m: name 'pyprobe' is not defined"
     ]
    }
   ],
   "source": [
    "figure = pyprobe.Plot()\n",
    "figure.add_line(cycling.summary(), \n",
    "                x = 'Capacity Throughput [Ah]', \n",
    "                y = 'Discharge Capacity [Ah]')\n",
    "figure.show()"
   ]
  }
 ],
 "metadata": {
  "kernelspec": {
   "display_name": "pybatdata",
   "language": "python",
   "name": "python3"
  },
  "language_info": {
   "codemirror_mode": {
    "name": "ipython",
    "version": 3
   },
   "file_extension": ".py",
   "mimetype": "text/x-python",
   "name": "python",
   "nbconvert_exporter": "python",
   "pygments_lexer": "ipython3",
   "version": "3.11.9"
  }
 },
 "nbformat": 4,
 "nbformat_minor": 2
}
