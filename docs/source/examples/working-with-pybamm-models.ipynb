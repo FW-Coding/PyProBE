{
 "cells": [
  {
   "cell_type": "markdown",
   "metadata": {},
   "source": [
    "# Working with PyBaMM Models"
   ]
  },
  {
   "cell_type": "markdown",
   "metadata": {},
   "source": [
    "PyProBE has bidirectional integration with the popular open-source battery modelling software PyBaMM. This means:\n",
    "- PyBaMM simulations can be run from experiment details provided in the README file\n",
    "- PyBaMM solutions can be read by PyProBE and displayed alongside experimental data\n",
    "\n",
    "This example will demonstrate both of these features. We will start by loading some experimental data for the LG M50 cell, which is well parameterised in the literature [1] and has a large associated degradation dataset [2]."
   ]
  },
  {
   "cell_type": "code",
   "execution_count": null,
   "metadata": {},
   "outputs": [],
   "source": [
    "%%capture\n",
    "%pip install pybamm\n",
    "%pip install matplotlib\n",
    "%pip install ipywidgets"
   ]
  },
  {
   "cell_type": "code",
   "execution_count": null,
   "metadata": {},
   "outputs": [],
   "source": [
    "import matplotlib.pyplot as plt\n",
    "import pybamm\n",
    "\n",
    "import pyprobe\n",
    "\n",
    "%matplotlib inline"
   ]
  },
  {
   "cell_type": "code",
   "execution_count": null,
   "metadata": {},
   "outputs": [],
   "source": [
    "cell = pyprobe.Cell(info={\"Model\": \"LG M50\"})\n",
    "\n",
    "data_directory = \"../../../tests/sample_data/LGM50\"\n",
    "\n",
    "cell.add_procedure(\n",
    "    procedure_name=\"BoL RPT\",\n",
    "    folder_path=data_directory,\n",
    "    filename=\"NDK - LG M50 deg - exp 2,2 - rig 3 - 25degC - cell C - BoL - \"\n",
    "    \"RPT0_short_CA4.parquet\",\n",
    ")"
   ]
  },
  {
   "cell_type": "markdown",
   "metadata": {},
   "source": [
    "Alongside this procedure is a README.yaml file:"
   ]
  },
  {
   "cell_type": "code",
   "execution_count": null,
   "metadata": {},
   "outputs": [],
   "source": [
    "with open(data_directory + \"/README.yaml\") as file:\n",
    "    readme = file.read()\n",
    "    print(readme)"
   ]
  },
  {
   "cell_type": "markdown",
   "metadata": {},
   "source": [
    "The step descriptions in the readme file are PyBaMM experiment strings. PyProBE `RawData` objects include a `pybamm_experiment` property that parses the README into a format that can be passed to a `pybamm.Experiment` constructor:"
   ]
  },
  {
   "cell_type": "code",
   "execution_count": null,
   "metadata": {},
   "outputs": [],
   "source": [
    "experiment = pybamm.Experiment(\n",
    "    cell.procedure[\"BoL RPT\"].pybamm_experiment,\n",
    "    temperature=298.15,\n",
    ")\n",
    "model = pybamm.lithium_ion.DFN()\n",
    "parameters = pybamm.ParameterValues(\"ORegan2022\")\n",
    "sim = pybamm.Simulation(model, experiment=experiment, parameter_values=parameters)\n",
    "solution = sim.solve(initial_soc=0.35)\n",
    "solution.plot()"
   ]
  },
  {
   "cell_type": "markdown",
   "metadata": {},
   "source": [
    "Having solved the solution, we can import it back into PyProBE to display the model solution alongside the experimental data:"
   ]
  },
  {
   "cell_type": "code",
   "execution_count": null,
   "metadata": {},
   "outputs": [],
   "source": [
    "cell.import_pybamm_solution(\"BoL RPT DFN\", [\"BoL RPT\"], solution)\n",
    "\n",
    "fig, ax = plt.subplots()\n",
    "cell.procedure[\"BoL RPT\"].plot(\"Time [s]\", \"Voltage [V]\", ax=ax, label=\"Experiment\")\n",
    "cell.procedure[\"BoL RPT DFN\"].plot(\"Time [s]\", \"Voltage [V]\", ax=ax, label=\"Simulation\")"
   ]
  },
  {
   "cell_type": "markdown",
   "metadata": {},
   "source": [
    "The `pybamm_experiment` property can be called on any filtered section of the data in PyProBE:"
   ]
  },
  {
   "cell_type": "code",
   "execution_count": null,
   "metadata": {},
   "outputs": [],
   "source": [
    "discharge_experiment = pybamm.Experiment(\n",
    "    cell.procedure[\"BoL RPT\"].discharge(0).pybamm_experiment,\n",
    "    temperature=298.15,\n",
    ")\n",
    "sim = pybamm.Simulation(\n",
    "    model,\n",
    "    experiment=discharge_experiment,\n",
    "    parameter_values=parameters,\n",
    ")\n",
    "solution = sim.solve()\n",
    "\n",
    "cell.import_pybamm_solution(\"BoL RPT DFN\", [\"Discharge only\"], solution)\n",
    "\n",
    "fig, ax = plt.subplots()\n",
    "cell.procedure[\"BoL RPT\"].discharge(0).plot(\n",
    "    \"Step Time [s]\",\n",
    "    \"Voltage [V]\",\n",
    "    ax=ax,\n",
    "    label=\"Experiment\",\n",
    ")\n",
    "cell.procedure[\"BoL RPT DFN\"].discharge(0).plot(\n",
    "    \"Step Time [s]\",\n",
    "    \"Voltage [V]\",\n",
    "    ax=ax,\n",
    "    label=\"Simulation\",\n",
    ")"
   ]
  },
  {
   "cell_type": "markdown",
   "metadata": {},
   "source": [
    "1. O’Regan K, Brosa Planella F, Widanage WD, Kendrick E. Thermal-electrochemical parameters of a high energy lithium-ion cylindrical battery. Electrochimica Acta. 2022;425: 140700. https://doi.org/10.1016/J.ELECTACTA.2022.140700.\n",
    "2. Kirkaldy N, Samieian MA, Offer GJ, Marinescu M, Patel Y. Lithium-ion battery degradation: Comprehensive cycle ageing data and analysis for commercial 21700 cells. Journal of Power Sources. 2024;603: 234185. https://doi.org/10.1016/j.jpowsour.2024.234185."
   ]
  }
 ],
 "metadata": {
  "language_info": {
   "codemirror_mode": {
    "name": "ipython",
    "version": 3
   },
   "file_extension": ".py",
   "mimetype": "text/x-python",
   "name": "python",
   "nbconvert_exporter": "python",
   "pygments_lexer": "ipython3",
   "version": "3.12.8"
  }
 },
 "nbformat": 4,
 "nbformat_minor": 2
}
