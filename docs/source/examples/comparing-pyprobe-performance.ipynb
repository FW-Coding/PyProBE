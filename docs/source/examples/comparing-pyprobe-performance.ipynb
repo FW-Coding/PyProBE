{
 "cells": [
  {
   "cell_type": "markdown",
   "metadata": {},
   "source": [
    "# Comparing PyProBE Performance\n",
    "\n",
    "This example will demonstrate the performance benefits of PyProBE against Pandas, a popular library for dataframes."
   ]
  },
  {
   "cell_type": "code",
   "execution_count": null,
   "metadata": {},
   "outputs": [],
   "source": [
    "import pyprobe\n",
    "import pandas as pd\n",
    "import timeit\n",
    "import numpy as np\n",
    "import matplotlib.pyplot as plt"
   ]
  },
  {
   "cell_type": "markdown",
   "metadata": {},
   "source": [
    "Setting up data analysis in PyProBE requires conversion into the PyProBE format. This is normally the most time-intensive process, but only needs to be performed once."
   ]
  },
  {
   "cell_type": "code",
   "execution_count": null,
   "metadata": {},
   "outputs": [],
   "source": [
    "info_dictionary = {'Name': 'Sample cell',\n",
    "                   'Chemistry': 'NMC622',\n",
    "                   'Nominal Capacity [Ah]': 0.04,\n",
    "                   'Cycler number': 1,\n",
    "                   'Channel number': 1,}\n",
    "\n",
    "cell = pyprobe.Cell(info =info_dictionary)\n",
    "data_directory = '../../../tests/sample_data/neware'\n",
    "# cell.process_cycler_file(cycler='neware',\n",
    "#                         folder_path=data_directory,\n",
    "#                         input_filename='sample_data_neware.xlsx',\n",
    "#                         output_filename='sample_data_neware.parquet')"
   ]
  },
  {
   "cell_type": "markdown",
   "metadata": {},
   "source": [
    "We will measure the time for PyProBE and Pandas to read from a parquet file and filter the data a few times. With PyProBE we can call the built-in filtering methods, whereas Pandas must perform the filtering manually."
   ]
  },
  {
   "cell_type": "code",
   "execution_count": null,
   "metadata": {},
   "outputs": [],
   "source": [
    "def measure_pyprobe(repeats, file):\n",
    "    steps = 5\n",
    "    cumulative_time = np.zeros((steps,repeats))\n",
    "    for repeat in range(repeats):\n",
    "        start_time = timeit.default_timer()\n",
    "        cell.add_procedure(procedure_name='Sample',\n",
    "                   folder_path = data_directory,\n",
    "                   filename = file)\n",
    "        cumulative_time[0, repeat] = timeit.default_timer() - start_time\n",
    "        \n",
    "        experiment = cell.procedure['Sample'].experiment('Break-in Cycles')\n",
    "        cumulative_time[1, repeat] =timeit.default_timer() - start_time\n",
    "        \n",
    "        cycle = experiment.cycle(1)\n",
    "        cumulative_time[2, repeat] =timeit.default_timer() - start_time\n",
    "        \n",
    "        step = cycle.discharge(0)\n",
    "        cumulative_time[3, repeat] = timeit.default_timer() - start_time\n",
    "\n",
    "        voltage = step.get(\"Voltage [V]\")\n",
    "        cumulative_time[4, repeat] = timeit.default_timer() - start_time\n",
    "    \n",
    "    return cumulative_time, voltage\n",
    "\n",
    "\n",
    "def measure_pandas(repeats, file):\n",
    "    steps = 6\n",
    "    cumulative_time = np.zeros((steps,repeats))\n",
    "    for repeat in range(repeats):\n",
    "        start_time = timeit.default_timer()\n",
    "        df = pd.read_csv(data_directory + '/' + str.replace(file, '.parquet', '.csv'))\n",
    "        cumulative_time[0, repeat] = timeit.default_timer() - start_time\n",
    "\n",
    "        start_time = timeit.default_timer()\n",
    "        df = pd.read_parquet(data_directory + '/' + file)\n",
    "        cumulative_time[1, repeat] = timeit.default_timer() - start_time\n",
    "\n",
    "        experiment = df[df['Step'].isin([4, 5, 6, 7])]\n",
    "        cumulative_time[2, repeat] = timeit.default_timer() - start_time\n",
    "\n",
    "        unique_cycles = experiment['Cycle'].unique()\n",
    "        \n",
    "        cycle = experiment[experiment['Cycle'] == unique_cycles[1]]\n",
    "        cumulative_time[3, repeat] =timeit.default_timer() - start_time\n",
    "        \n",
    "        step = cycle[cycle['Current [A]'] < 0]\n",
    "        unique_events = step['Event'].unique()\n",
    "        step = step[step['Event'] == unique_events[0]]\n",
    "        cumulative_time[4, repeat] =timeit.default_timer() - start_time\n",
    "\n",
    "        voltage = step['Voltage [V]'].values\n",
    "        cumulative_time[5, repeat] = timeit.default_timer() - start_time\n",
    "    \n",
    "    return cumulative_time, voltage\n",
    "\n",
    "def make_boxplots(total_time_polars, total_time_pandas):\n",
    "    # Create labels for the boxplots\n",
    "    labels = [\"1: Read file\", \"2: Select experiment\", \"3: Select cycle\", \"4: Select step\", \"5: Return voltage\"]\n",
    "    # Create the subplots\n",
    "    fig, (ax1, ax2) = plt.subplots(1, 2, figsize=(14, 6), sharey=True)\n",
    "\n",
    "    # Boxplot for Polars\n",
    "    ax1.boxplot(total_time_polars.T, labels=labels, vert=True, patch_artist=True, showfliers=False)\n",
    "    ax1.set_title('PyProBE Execution Time')\n",
    "    ax1.set_ylabel('Cumulative Time (seconds)')\n",
    "\n",
    "    # Boxplot for Pandas\n",
    "    ax2.boxplot(total_time_pandas.T, labels=labels, vert=True, patch_artist=True, showfliers=False)\n",
    "    ax2.set_title('Pandas Execution Time')\n",
    "    ax2.yaxis.set_visible(False)  # Remove y-axis on the right-hand subplot\n",
    "\n",
    "    # Adjust layout\n",
    "    plt.tight_layout()\n",
    "    plt.show()\n"
   ]
  },
  {
   "cell_type": "markdown",
   "metadata": {},
   "source": [
    "Running the tests shows the initial overhead for PyProBE to read and filter the data is zero. This is because of the Lazy implementation where all the computation is delayed until the final request for data is made. Overall, it is faster than Pandas as the polars backend is able to optimize the filtering process, instead of requiring filters to be performed one-by-one."
   ]
  },
  {
   "cell_type": "code",
   "execution_count": null,
   "metadata": {},
   "outputs": [],
   "source": [
    "repeats = 100\n",
    "total_time_polars, voltage_pyprobe = measure_pyprobe(repeats, 'sample_data_neware.parquet')\n",
    "total_time_pandas, voltage_pandas = measure_pandas(repeats, 'sample_data_neware.parquet')\n",
    "make_boxplots(total_time_polars, total_time_pandas[1:,:])\n",
    "assert np.allclose(voltage_pyprobe, voltage_pandas)\n",
    "\n",
    "average_final_difference = np.mean(total_time_pandas[-1,:])/np.mean(total_time_polars[-1,:])\n",
    "print(f'Pandas is on average {average_final_difference:.2f} times slower than PyProBE at completion of the full query.')\n"
   ]
  },
  {
   "cell_type": "markdown",
   "metadata": {},
   "source": [
    "Much of the performance behind PyProBE is careful selection of the data file format. PyProBE uses the .parquet file format due to its exceptional speed. The results above show pandas reading from the parquet format. The below plot illustrates its performance benefit:"
   ]
  },
  {
   "cell_type": "code",
   "execution_count": null,
   "metadata": {},
   "outputs": [],
   "source": [
    "plt.figure()\n",
    "plt.boxplot(total_time_pandas[[0, 1],:].T, labels=['Read from .csv', 'Read from .parquet'], vert=True, patch_artist=True, showfliers=False)\n",
    "plt.ylabel('Time (seconds)')\n",
    "plt.show()\n",
    "\n",
    "average_difference = np.mean(total_time_pandas[0,:])/np.mean(total_time_pandas[1,:])\n",
    "print(f\"Reading from .parquet is on average {average_difference:.2f} times faster than reading from .csv\")"
   ]
  },
  {
   "cell_type": "markdown",
   "metadata": {},
   "source": [
    "The Polars Lazy approach is best demonstrated by plotting the optimized graph:"
   ]
  },
  {
   "cell_type": "code",
   "execution_count": null,
   "metadata": {},
   "outputs": [],
   "source": [
    "lazyframe = cell.procedure['Sample'].experiment('Break-in Cycles').cycle(1).discharge(0).base_dataframe\n",
    "print(lazyframe.explain(tree_format=True))"
   ]
  }
 ],
 "metadata": {
  "kernelspec": {
   "display_name": "pyprobe-dev",
   "language": "python",
   "name": "python3"
  },
  "language_info": {
   "codemirror_mode": {
    "name": "ipython",
    "version": 3
   },
   "file_extension": ".py",
   "mimetype": "text/x-python",
   "name": "python",
   "nbconvert_exporter": "python",
   "pygments_lexer": "ipython3",
   "version": "3.12.3"
  }
 },
 "nbformat": 4,
 "nbformat_minor": 2
}
