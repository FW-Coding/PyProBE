{
 "cells": [
  {
   "cell_type": "markdown",
   "metadata": {},
   "source": [
    "# Differentiating with the LEAN algorithm\n",
    "This example shows how to differentiate cycler data using the LEAN algorithm developed in: Feng X, Merla Y, Weng C, Ouyang M, He X, Liaw BY, et al. A reliable approach of differentiating discrete sampled-data for battery diagnosis. eTransportation. 2020;3: 100051. https://doi.org/10.1016/j.etran.2020.100051.\n",
    " "
   ]
  },
  {
   "cell_type": "markdown",
   "metadata": {},
   "source": [
    "First import the package and dataset:"
   ]
  },
  {
   "cell_type": "code",
   "execution_count": null,
   "metadata": {},
   "outputs": [],
   "source": [
    "import pyprobe\n",
    "import matplotlib.pyplot as plt\n",
    "\n",
    "%matplotlib inline\n",
    "\n",
    "info_dictionary = {\n",
    "    \"Name\": \"Sample cell\",\n",
    "    \"Chemistry\": \"NMC622\",\n",
    "    \"Nominal Capacity [Ah]\": 0.04,\n",
    "    \"Cycler number\": 1,\n",
    "    \"Channel number\": 1,\n",
    "}\n",
    "data_directory = \"../../../tests/sample_data/neware\"\n",
    "\n",
    "# Create a cell object\n",
    "cell = pyprobe.Cell(info=info_dictionary)\n",
    "cell.add_procedure(\n",
    "    procedure_name=\"Sample\",\n",
    "    folder_path=data_directory,\n",
    "    filename=\"sample_data_neware.parquet\",\n",
    ")"
   ]
  },
  {
   "cell_type": "markdown",
   "metadata": {},
   "source": [
    "The break-in cycles of this dataset are at C/10, so can be analysed as pseudo-OCV curves. We're going to look at the last cycle:"
   ]
  },
  {
   "cell_type": "code",
   "execution_count": null,
   "metadata": {},
   "outputs": [],
   "source": [
    "final_cycle = cell.procedure[\"Sample\"].experiment(\"Break-in Cycles\").cycle(-1)\n",
    "\n",
    "final_cycle.plot(x=\"Time [hr]\", y=\"Voltage [V]\")"
   ]
  },
  {
   "cell_type": "markdown",
   "metadata": {},
   "source": [
    "We can use the methods of the `differentiation` module to calculate the gradients of the data."
   ]
  },
  {
   "cell_type": "code",
   "execution_count": null,
   "metadata": {},
   "outputs": [],
   "source": [
    "from pyprobe.analysis import differentiation\n",
    "\n",
    "discharge_dQdV = differentiation.differentiate_LEAN(\n",
    "    input_data=final_cycle.discharge(0),\n",
    "    x=\"Capacity [Ah]\",\n",
    "    y=\"Voltage [V]\",\n",
    "    k=10,\n",
    "    gradient=\"dxdy\",\n",
    ")\n",
    "charge_dQdV = differentiation.differentiate_LEAN(\n",
    "    input_data=final_cycle.charge(0).constant_current(),\n",
    "    x=\"Capacity [Ah]\",\n",
    "    y=\"Voltage [V]\",\n",
    "    k=10,\n",
    "    gradient=\"dxdy\",\n",
    ")\n",
    "\n",
    "fig, ax = plt.subplots()\n",
    "discharge_dQdV.plot(\n",
    "    x=\"Capacity [Ah]\",\n",
    "    y=\"d(Capacity [Ah])/d(Voltage [V])\",\n",
    "    ax=ax,\n",
    "    label=\"Discharge\",\n",
    "    color=\"blue\",\n",
    ")\n",
    "charge_dQdV.plot(\n",
    "    x=\"Capacity [Ah]\",\n",
    "    y=\"d(Capacity [Ah])/d(Voltage [V])\",\n",
    "    ax=ax,\n",
    "    label=\"Charge\",\n",
    "    color=\"red\",\n",
    ")\n",
    "ax.set_ylabel(\"d(Capacity [Ah])/d(Voltage [V])\")"
   ]
  },
  {
   "cell_type": "markdown",
   "metadata": {},
   "source": [
    "On-the-fly unit conversion allows this to be computed in whichever unit you choose:"
   ]
  },
  {
   "cell_type": "code",
   "execution_count": null,
   "metadata": {},
   "outputs": [],
   "source": [
    "discharge_dQdV = differentiation.differentiate_LEAN(\n",
    "    input_data=final_cycle.discharge(0),\n",
    "    x=\"Capacity [mAh]\",\n",
    "    y=\"Voltage [V]\",\n",
    "    k=10,\n",
    "    gradient=\"dxdy\",\n",
    ")\n",
    "charge_dQdV = differentiation.differentiate_LEAN(\n",
    "    input_data=final_cycle.charge(0).constant_current(),\n",
    "    x=\"Capacity [mAh]\",\n",
    "    y=\"Voltage [V]\",\n",
    "    k=10,\n",
    "    gradient=\"dxdy\",\n",
    ")\n",
    "\n",
    "fig, ax = plt.subplots()\n",
    "discharge_dQdV.plot(\n",
    "    x=\"Capacity [mAh]\",\n",
    "    y=\"d(Capacity [mAh])/d(Voltage [V])\",\n",
    "    ax=ax,\n",
    "    label=\"Discharge\",\n",
    "    color=\"blue\",\n",
    ")\n",
    "charge_dQdV.plot(\n",
    "    x=\"Capacity [mAh]\",\n",
    "    y=\"d(Capacity [mAh])/d(Voltage [V])\",\n",
    "    ax=ax,\n",
    "    label=\"Charge\",\n",
    "    color=\"red\",\n",
    ")\n",
    "ax.set_ylabel(\"d(Capacity [mAh])/d(Voltage [V])\")"
   ]
  },
  {
   "cell_type": "markdown",
   "metadata": {},
   "source": [
    "To align the curves, we can instead plot `Cycle Capacity [Ah]` which is set to zero at the beginning of the filtered cycle."
   ]
  },
  {
   "cell_type": "code",
   "execution_count": null,
   "metadata": {},
   "outputs": [],
   "source": [
    "discharge_dQdV = differentiation.differentiate_LEAN(\n",
    "    input_data=final_cycle.discharge(0),\n",
    "    x=\"Cycle Capacity [Ah]\",\n",
    "    y=\"Voltage [V]\",\n",
    "    k=10,\n",
    "    gradient=\"dxdy\",\n",
    ")\n",
    "charge_dQdV = differentiation.differentiate_LEAN(\n",
    "    input_data=final_cycle.charge(0).constant_current(),\n",
    "    x=\"Cycle Capacity [Ah]\",\n",
    "    y=\"Voltage [V]\",\n",
    "    k=10,\n",
    "    gradient=\"dxdy\",\n",
    ")\n",
    "\n",
    "fig, ax = plt.subplots()\n",
    "discharge_dQdV.plot(\n",
    "    x=\"Cycle Capacity [Ah]\",\n",
    "    y=\"d(Cycle Capacity [Ah])/d(Voltage [V])\",\n",
    "    ax=ax,\n",
    "    label=\"Discharge\",\n",
    "    color=\"blue\",\n",
    ")\n",
    "charge_dQdV.plot(\n",
    "    x=\"Cycle Capacity [Ah]\",\n",
    "    y=\"d(Cycle Capacity [Ah])/d(Voltage [V])\",\n",
    "    ax=ax,\n",
    "    label=\"Charge\",\n",
    "    color=\"red\",\n",
    ")"
   ]
  }
 ],
 "metadata": {
  "language_info": {
   "codemirror_mode": {
    "name": "ipython",
    "version": 3
   },
   "file_extension": ".py",
   "mimetype": "text/x-python",
   "name": "python",
   "nbconvert_exporter": "python",
   "pygments_lexer": "ipython3",
   "version": "3.12.3"
  }
 },
 "nbformat": 4,
 "nbformat_minor": 2
}
